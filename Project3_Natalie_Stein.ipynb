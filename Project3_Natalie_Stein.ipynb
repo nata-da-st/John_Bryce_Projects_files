{
 "cells": [
  {
   "cell_type": "markdown",
   "id": "1d2f63ea-f253-4422-844b-94f5493c0354",
   "metadata": {},
   "source": [
    "# Book Recommendation Dataset\n",
    "https://www.kaggle.com/datasets/arashnic/book-recommendation-dataset"
   ]
  },
  {
   "cell_type": "markdown",
   "id": "4a140307-d897-4dd0-94ce-d51ad33eff08",
   "metadata": {},
   "source": [
    "### This dataset includes information about books published during a defined time period and cross-references them with user ratings. It can serve as a foundation for developing e-commerce features, recommender systems, and targeted online advertising."
   ]
  },
  {
   "cell_type": "markdown",
   "id": "cf522807-c72e-4146-a717-a201ec0c2590",
   "metadata": {},
   "source": [
    "#### Research Questions:\n"
   ]
  },
  {
   "cell_type": "markdown",
   "id": "abba6696-1864-4ce9-9217-36aaabfcd68d",
   "metadata": {},
   "source": [
    "##### 1. Descriptive statistics: Highest-rated books by publication year, highest-rated genres by year, and highest-rated publishers by year."
   ]
  },
  {
   "cell_type": "markdown",
   "id": "68955402-6d85-41f1-9529-0fcd5265a37f",
   "metadata": {},
   "source": [
    "##### 2. Associations: Is there a correlation between age and rating or country and rating?"
   ]
  },
  {
   "cell_type": "markdown",
   "id": "19102e7d-560d-4e76-8a6e-7af167335cff",
   "metadata": {},
   "source": [
    "##### 3. Which genres are rated highest within each age group?"
   ]
  },
  {
   "cell_type": "markdown",
   "id": "2780d5c1-2e3c-4df6-bdc5-9fa1c5d06e0c",
   "metadata": {},
   "source": [
    "##### 4. Which genres are rated highest in different geographic regions?"
   ]
  },
  {
   "cell_type": "markdown",
   "id": "182ccc58-0dc0-40bb-a5cd-f87fbb88b5ef",
   "metadata": {},
   "source": [
    "##### 5. Popularity vs. quality: How does average rating relate to number of ratings per book?"
   ]
  },
  {
   "cell_type": "code",
   "execution_count": 1,
   "id": "ec6415a3-a987-4cee-92a5-a8e9eb011d0e",
   "metadata": {},
   "outputs": [],
   "source": [
    "import pandas as pd\n",
    "import numpy as np\n",
    "import matplotlib.pyplot as plt\n",
    "import seaborn as sb"
   ]
  },
  {
   "cell_type": "code",
   "execution_count": 2,
   "id": "34633ecf-58f8-4e2b-8430-191c7cc1e270",
   "metadata": {},
   "outputs": [],
   "source": [
    "# This Data Set contains 3 files: Books, Ratings, Users. I added 2 more files with complementary data. First step I'll upload to notebook those files."
   ]
  },
  {
   "cell_type": "code",
   "execution_count": 3,
   "id": "f674c180-5c4f-44d2-b1b9-e124d918c3f3",
   "metadata": {},
   "outputs": [],
   "source": [
    "books=pd.read_csv(\"Books.csv\",dtype={3:object})"
   ]
  },
  {
   "cell_type": "code",
   "execution_count": 4,
   "id": "3e1cd255-9c1b-4617-b083-b58d7dfe4e1d",
   "metadata": {},
   "outputs": [
    {
     "data": {
      "text/html": [
       "<div>\n",
       "<style scoped>\n",
       "    .dataframe tbody tr th:only-of-type {\n",
       "        vertical-align: middle;\n",
       "    }\n",
       "\n",
       "    .dataframe tbody tr th {\n",
       "        vertical-align: top;\n",
       "    }\n",
       "\n",
       "    .dataframe thead th {\n",
       "        text-align: right;\n",
       "    }\n",
       "</style>\n",
       "<table border=\"1\" class=\"dataframe\">\n",
       "  <thead>\n",
       "    <tr style=\"text-align: right;\">\n",
       "      <th></th>\n",
       "      <th>ISBN</th>\n",
       "      <th>Book-Title</th>\n",
       "      <th>Book-Author</th>\n",
       "      <th>Year-Of-Publication</th>\n",
       "      <th>Publisher</th>\n",
       "      <th>Image-URL-S</th>\n",
       "      <th>Image-URL-M</th>\n",
       "      <th>Image-URL-L</th>\n",
       "    </tr>\n",
       "  </thead>\n",
       "  <tbody>\n",
       "    <tr>\n",
       "      <th>0</th>\n",
       "      <td>0195153448</td>\n",
       "      <td>Classical Mythology</td>\n",
       "      <td>Mark P. O. Morford</td>\n",
       "      <td>2002</td>\n",
       "      <td>Oxford University Press</td>\n",
       "      <td>http://images.amazon.com/images/P/0195153448.0...</td>\n",
       "      <td>http://images.amazon.com/images/P/0195153448.0...</td>\n",
       "      <td>http://images.amazon.com/images/P/0195153448.0...</td>\n",
       "    </tr>\n",
       "    <tr>\n",
       "      <th>1</th>\n",
       "      <td>0002005018</td>\n",
       "      <td>Clara Callan</td>\n",
       "      <td>Richard Bruce Wright</td>\n",
       "      <td>2001</td>\n",
       "      <td>HarperFlamingo Canada</td>\n",
       "      <td>http://images.amazon.com/images/P/0002005018.0...</td>\n",
       "      <td>http://images.amazon.com/images/P/0002005018.0...</td>\n",
       "      <td>http://images.amazon.com/images/P/0002005018.0...</td>\n",
       "    </tr>\n",
       "    <tr>\n",
       "      <th>2</th>\n",
       "      <td>0060973129</td>\n",
       "      <td>Decision in Normandy</td>\n",
       "      <td>Carlo D'Este</td>\n",
       "      <td>1991</td>\n",
       "      <td>HarperPerennial</td>\n",
       "      <td>http://images.amazon.com/images/P/0060973129.0...</td>\n",
       "      <td>http://images.amazon.com/images/P/0060973129.0...</td>\n",
       "      <td>http://images.amazon.com/images/P/0060973129.0...</td>\n",
       "    </tr>\n",
       "    <tr>\n",
       "      <th>3</th>\n",
       "      <td>0374157065</td>\n",
       "      <td>Flu: The Story of the Great Influenza Pandemic...</td>\n",
       "      <td>Gina Bari Kolata</td>\n",
       "      <td>1999</td>\n",
       "      <td>Farrar Straus Giroux</td>\n",
       "      <td>http://images.amazon.com/images/P/0374157065.0...</td>\n",
       "      <td>http://images.amazon.com/images/P/0374157065.0...</td>\n",
       "      <td>http://images.amazon.com/images/P/0374157065.0...</td>\n",
       "    </tr>\n",
       "    <tr>\n",
       "      <th>4</th>\n",
       "      <td>0393045218</td>\n",
       "      <td>The Mummies of Urumchi</td>\n",
       "      <td>E. J. W. Barber</td>\n",
       "      <td>1999</td>\n",
       "      <td>W. W. Norton &amp;amp; Company</td>\n",
       "      <td>http://images.amazon.com/images/P/0393045218.0...</td>\n",
       "      <td>http://images.amazon.com/images/P/0393045218.0...</td>\n",
       "      <td>http://images.amazon.com/images/P/0393045218.0...</td>\n",
       "    </tr>\n",
       "  </tbody>\n",
       "</table>\n",
       "</div>"
      ],
      "text/plain": [
       "         ISBN                                         Book-Title  \\\n",
       "0  0195153448                                Classical Mythology   \n",
       "1  0002005018                                       Clara Callan   \n",
       "2  0060973129                               Decision in Normandy   \n",
       "3  0374157065  Flu: The Story of the Great Influenza Pandemic...   \n",
       "4  0393045218                             The Mummies of Urumchi   \n",
       "\n",
       "            Book-Author Year-Of-Publication                   Publisher  \\\n",
       "0    Mark P. O. Morford                2002     Oxford University Press   \n",
       "1  Richard Bruce Wright                2001       HarperFlamingo Canada   \n",
       "2          Carlo D'Este                1991             HarperPerennial   \n",
       "3      Gina Bari Kolata                1999        Farrar Straus Giroux   \n",
       "4       E. J. W. Barber                1999  W. W. Norton &amp; Company   \n",
       "\n",
       "                                         Image-URL-S  \\\n",
       "0  http://images.amazon.com/images/P/0195153448.0...   \n",
       "1  http://images.amazon.com/images/P/0002005018.0...   \n",
       "2  http://images.amazon.com/images/P/0060973129.0...   \n",
       "3  http://images.amazon.com/images/P/0374157065.0...   \n",
       "4  http://images.amazon.com/images/P/0393045218.0...   \n",
       "\n",
       "                                         Image-URL-M  \\\n",
       "0  http://images.amazon.com/images/P/0195153448.0...   \n",
       "1  http://images.amazon.com/images/P/0002005018.0...   \n",
       "2  http://images.amazon.com/images/P/0060973129.0...   \n",
       "3  http://images.amazon.com/images/P/0374157065.0...   \n",
       "4  http://images.amazon.com/images/P/0393045218.0...   \n",
       "\n",
       "                                         Image-URL-L  \n",
       "0  http://images.amazon.com/images/P/0195153448.0...  \n",
       "1  http://images.amazon.com/images/P/0002005018.0...  \n",
       "2  http://images.amazon.com/images/P/0060973129.0...  \n",
       "3  http://images.amazon.com/images/P/0374157065.0...  \n",
       "4  http://images.amazon.com/images/P/0393045218.0...  "
      ]
     },
     "execution_count": 4,
     "metadata": {},
     "output_type": "execute_result"
    }
   ],
   "source": [
    "books.head()"
   ]
  },
  {
   "cell_type": "code",
   "execution_count": 5,
   "id": "2ea5b9de-aa23-4fe4-bd69-a697969550b3",
   "metadata": {},
   "outputs": [
    {
     "name": "stdout",
     "output_type": "stream",
     "text": [
      "<class 'pandas.core.frame.DataFrame'>\n",
      "RangeIndex: 271360 entries, 0 to 271359\n",
      "Data columns (total 8 columns):\n",
      " #   Column               Non-Null Count   Dtype \n",
      "---  ------               --------------   ----- \n",
      " 0   ISBN                 271360 non-null  object\n",
      " 1   Book-Title           271360 non-null  object\n",
      " 2   Book-Author          271358 non-null  object\n",
      " 3   Year-Of-Publication  271360 non-null  object\n",
      " 4   Publisher            271358 non-null  object\n",
      " 5   Image-URL-S          271360 non-null  object\n",
      " 6   Image-URL-M          271360 non-null  object\n",
      " 7   Image-URL-L          271357 non-null  object\n",
      "dtypes: object(8)\n",
      "memory usage: 16.6+ MB\n"
     ]
    }
   ],
   "source": [
    "books.info()"
   ]
  },
  {
   "cell_type": "code",
   "execution_count": 6,
   "id": "4de6ba53-6c27-4b07-99c1-8a3577ce77c6",
   "metadata": {},
   "outputs": [
    {
     "data": {
      "text/plain": [
       "array(['Oxford University Press', 'HarperFlamingo Canada',\n",
       "       'HarperPerennial', ..., 'Tempo', 'Life Works Books', 'Connaught'],\n",
       "      shape=(16808,), dtype=object)"
      ]
     },
     "execution_count": 6,
     "metadata": {},
     "output_type": "execute_result"
    }
   ],
   "source": [
    "books[\"Publisher\"].unique()"
   ]
  },
  {
   "cell_type": "code",
   "execution_count": 7,
   "id": "fa46d5b5-7e7c-4430-966f-f96a3b51ca10",
   "metadata": {},
   "outputs": [
    {
     "data": {
      "text/plain": [
       "array(['2002', '2001', '1991', '1999', '2000', '1993', '1996', '1988',\n",
       "       '2004', '1998', '1994', '2003', '1997', '1983', '1979', '1995',\n",
       "       '1982', '1985', '1992', '1986', '1978', '1980', '1952', '1987',\n",
       "       '1990', '1981', '1989', '1984', '0', '1968', '1961', '1958',\n",
       "       '1974', '1976', '1971', '1977', '1975', '1965', '1941', '1970',\n",
       "       '1962', '1973', '1972', '1960', '1966', '1920', '1956', '1959',\n",
       "       '1953', '1951', '1942', '1963', '1964', '1969', '1954', '1950',\n",
       "       '1967', '2005', '1957', '1940', '1937', '1955', '1946', '1936',\n",
       "       '1930', '2011', '1925', '1948', '1943', '1947', '1945', '1923',\n",
       "       '2020', '1939', '1926', '1938', '2030', '1911', '1904', '1949',\n",
       "       '1932', '1928', '1929', '1927', '1931', '1914', '2050', '1934',\n",
       "       '1910', '1933', '1902', '1924', '1921', '1900', '2038', '2026',\n",
       "       '1944', '1917', '1901', '2010', '1908', '1906', '1935', '1806',\n",
       "       '2021', '2012', '2006', 'DK Publishing Inc', 'Gallimard', '1909',\n",
       "       '2008', '1378', '1919', '1922', '1897', '2024', '1376', '2037'],\n",
       "      dtype=object)"
      ]
     },
     "execution_count": 7,
     "metadata": {},
     "output_type": "execute_result"
    }
   ],
   "source": [
    "books[\"Year-Of-Publication\"].unique() \n"
   ]
  },
  {
   "cell_type": "code",
   "execution_count": 8,
   "id": "aa51daf4-7fbe-4f2d-ba6b-b1d51fa6bcf3",
   "metadata": {},
   "outputs": [],
   "source": [
    "ratings=pd.read_csv(\"Ratings.csv\")"
   ]
  },
  {
   "cell_type": "code",
   "execution_count": 9,
   "id": "7b57d09c-7272-4e74-b955-2b84d0bf88fa",
   "metadata": {},
   "outputs": [
    {
     "data": {
      "text/html": [
       "<div>\n",
       "<style scoped>\n",
       "    .dataframe tbody tr th:only-of-type {\n",
       "        vertical-align: middle;\n",
       "    }\n",
       "\n",
       "    .dataframe tbody tr th {\n",
       "        vertical-align: top;\n",
       "    }\n",
       "\n",
       "    .dataframe thead th {\n",
       "        text-align: right;\n",
       "    }\n",
       "</style>\n",
       "<table border=\"1\" class=\"dataframe\">\n",
       "  <thead>\n",
       "    <tr style=\"text-align: right;\">\n",
       "      <th></th>\n",
       "      <th>User-ID</th>\n",
       "      <th>ISBN</th>\n",
       "      <th>Book-Rating</th>\n",
       "    </tr>\n",
       "  </thead>\n",
       "  <tbody>\n",
       "    <tr>\n",
       "      <th>0</th>\n",
       "      <td>276725</td>\n",
       "      <td>034545104X</td>\n",
       "      <td>0</td>\n",
       "    </tr>\n",
       "    <tr>\n",
       "      <th>1</th>\n",
       "      <td>276726</td>\n",
       "      <td>0155061224</td>\n",
       "      <td>5</td>\n",
       "    </tr>\n",
       "    <tr>\n",
       "      <th>2</th>\n",
       "      <td>276727</td>\n",
       "      <td>0446520802</td>\n",
       "      <td>0</td>\n",
       "    </tr>\n",
       "    <tr>\n",
       "      <th>3</th>\n",
       "      <td>276729</td>\n",
       "      <td>052165615X</td>\n",
       "      <td>3</td>\n",
       "    </tr>\n",
       "    <tr>\n",
       "      <th>4</th>\n",
       "      <td>276729</td>\n",
       "      <td>0521795028</td>\n",
       "      <td>6</td>\n",
       "    </tr>\n",
       "  </tbody>\n",
       "</table>\n",
       "</div>"
      ],
      "text/plain": [
       "   User-ID        ISBN  Book-Rating\n",
       "0   276725  034545104X            0\n",
       "1   276726  0155061224            5\n",
       "2   276727  0446520802            0\n",
       "3   276729  052165615X            3\n",
       "4   276729  0521795028            6"
      ]
     },
     "execution_count": 9,
     "metadata": {},
     "output_type": "execute_result"
    }
   ],
   "source": [
    "ratings.head()"
   ]
  },
  {
   "cell_type": "code",
   "execution_count": 10,
   "id": "877c228a-08ce-417a-8af2-fe202b207ec5",
   "metadata": {},
   "outputs": [
    {
     "name": "stdout",
     "output_type": "stream",
     "text": [
      "<class 'pandas.core.frame.DataFrame'>\n",
      "RangeIndex: 1149780 entries, 0 to 1149779\n",
      "Data columns (total 3 columns):\n",
      " #   Column       Non-Null Count    Dtype \n",
      "---  ------       --------------    ----- \n",
      " 0   User-ID      1149780 non-null  int64 \n",
      " 1   ISBN         1149780 non-null  object\n",
      " 2   Book-Rating  1149780 non-null  int64 \n",
      "dtypes: int64(2), object(1)\n",
      "memory usage: 26.3+ MB\n"
     ]
    }
   ],
   "source": [
    "ratings.info()"
   ]
  },
  {
   "cell_type": "code",
   "execution_count": 11,
   "id": "e5309050-6027-483e-847c-8121a0946be6",
   "metadata": {},
   "outputs": [],
   "source": [
    "users=pd.read_csv(\"Users.csv\")"
   ]
  },
  {
   "cell_type": "code",
   "execution_count": 12,
   "id": "cad6eee3-9872-4d29-841b-12beb548de3f",
   "metadata": {},
   "outputs": [
    {
     "data": {
      "text/html": [
       "<div>\n",
       "<style scoped>\n",
       "    .dataframe tbody tr th:only-of-type {\n",
       "        vertical-align: middle;\n",
       "    }\n",
       "\n",
       "    .dataframe tbody tr th {\n",
       "        vertical-align: top;\n",
       "    }\n",
       "\n",
       "    .dataframe thead th {\n",
       "        text-align: right;\n",
       "    }\n",
       "</style>\n",
       "<table border=\"1\" class=\"dataframe\">\n",
       "  <thead>\n",
       "    <tr style=\"text-align: right;\">\n",
       "      <th></th>\n",
       "      <th>User-ID</th>\n",
       "      <th>Location</th>\n",
       "      <th>Age</th>\n",
       "    </tr>\n",
       "  </thead>\n",
       "  <tbody>\n",
       "    <tr>\n",
       "      <th>0</th>\n",
       "      <td>1</td>\n",
       "      <td>nyc, new york, usa</td>\n",
       "      <td>NaN</td>\n",
       "    </tr>\n",
       "    <tr>\n",
       "      <th>1</th>\n",
       "      <td>2</td>\n",
       "      <td>stockton, california, usa</td>\n",
       "      <td>18.0</td>\n",
       "    </tr>\n",
       "    <tr>\n",
       "      <th>2</th>\n",
       "      <td>3</td>\n",
       "      <td>moscow, yukon territory, russia</td>\n",
       "      <td>NaN</td>\n",
       "    </tr>\n",
       "    <tr>\n",
       "      <th>3</th>\n",
       "      <td>4</td>\n",
       "      <td>porto, v.n.gaia, portugal</td>\n",
       "      <td>17.0</td>\n",
       "    </tr>\n",
       "    <tr>\n",
       "      <th>4</th>\n",
       "      <td>5</td>\n",
       "      <td>farnborough, hants, united kingdom</td>\n",
       "      <td>NaN</td>\n",
       "    </tr>\n",
       "  </tbody>\n",
       "</table>\n",
       "</div>"
      ],
      "text/plain": [
       "   User-ID                            Location   Age\n",
       "0        1                  nyc, new york, usa   NaN\n",
       "1        2           stockton, california, usa  18.0\n",
       "2        3     moscow, yukon territory, russia   NaN\n",
       "3        4           porto, v.n.gaia, portugal  17.0\n",
       "4        5  farnborough, hants, united kingdom   NaN"
      ]
     },
     "execution_count": 12,
     "metadata": {},
     "output_type": "execute_result"
    }
   ],
   "source": [
    "users.head()"
   ]
  },
  {
   "cell_type": "code",
   "execution_count": 13,
   "id": "8702feab-5f03-458b-a194-8938a713ba97",
   "metadata": {},
   "outputs": [
    {
     "name": "stdout",
     "output_type": "stream",
     "text": [
      "<class 'pandas.core.frame.DataFrame'>\n",
      "RangeIndex: 278858 entries, 0 to 278857\n",
      "Data columns (total 3 columns):\n",
      " #   Column    Non-Null Count   Dtype  \n",
      "---  ------    --------------   -----  \n",
      " 0   User-ID   278858 non-null  int64  \n",
      " 1   Location  278858 non-null  object \n",
      " 2   Age       168096 non-null  float64\n",
      "dtypes: float64(1), int64(1), object(1)\n",
      "memory usage: 6.4+ MB\n"
     ]
    }
   ],
   "source": [
    "users.info()"
   ]
  },
  {
   "cell_type": "markdown",
   "id": "e15f843a-e5d9-4740-a2c1-e4aa979dc262",
   "metadata": {},
   "source": [
    "# Data Validation and Data Cleaning"
   ]
  },
  {
   "cell_type": "markdown",
   "id": "6d39e837-edb8-4be2-b74b-8f10a2fa72f4",
   "metadata": {},
   "source": [
    "## Table \"Books\""
   ]
  },
  {
   "cell_type": "code",
   "execution_count": 14,
   "id": "0887059e-1d58-48d5-8f76-d686c6b9d381",
   "metadata": {},
   "outputs": [],
   "source": [
    "books=pd.read_csv(\"Books.csv\",dtype={3:object})"
   ]
  },
  {
   "cell_type": "code",
   "execution_count": 15,
   "id": "bd78a2d0-f01f-47c3-b1cc-c3a27c2c6c9f",
   "metadata": {},
   "outputs": [
    {
     "data": {
      "text/html": [
       "<div>\n",
       "<style scoped>\n",
       "    .dataframe tbody tr th:only-of-type {\n",
       "        vertical-align: middle;\n",
       "    }\n",
       "\n",
       "    .dataframe tbody tr th {\n",
       "        vertical-align: top;\n",
       "    }\n",
       "\n",
       "    .dataframe thead th {\n",
       "        text-align: right;\n",
       "    }\n",
       "</style>\n",
       "<table border=\"1\" class=\"dataframe\">\n",
       "  <thead>\n",
       "    <tr style=\"text-align: right;\">\n",
       "      <th></th>\n",
       "      <th>ISBN</th>\n",
       "      <th>Book-Title</th>\n",
       "      <th>Book-Author</th>\n",
       "      <th>Year-Of-Publication</th>\n",
       "      <th>Publisher</th>\n",
       "      <th>Image-URL-S</th>\n",
       "      <th>Image-URL-M</th>\n",
       "      <th>Image-URL-L</th>\n",
       "    </tr>\n",
       "  </thead>\n",
       "  <tbody>\n",
       "    <tr>\n",
       "      <th>0</th>\n",
       "      <td>0195153448</td>\n",
       "      <td>Classical Mythology</td>\n",
       "      <td>Mark P. O. Morford</td>\n",
       "      <td>2002</td>\n",
       "      <td>Oxford University Press</td>\n",
       "      <td>http://images.amazon.com/images/P/0195153448.0...</td>\n",
       "      <td>http://images.amazon.com/images/P/0195153448.0...</td>\n",
       "      <td>http://images.amazon.com/images/P/0195153448.0...</td>\n",
       "    </tr>\n",
       "    <tr>\n",
       "      <th>1</th>\n",
       "      <td>0002005018</td>\n",
       "      <td>Clara Callan</td>\n",
       "      <td>Richard Bruce Wright</td>\n",
       "      <td>2001</td>\n",
       "      <td>HarperFlamingo Canada</td>\n",
       "      <td>http://images.amazon.com/images/P/0002005018.0...</td>\n",
       "      <td>http://images.amazon.com/images/P/0002005018.0...</td>\n",
       "      <td>http://images.amazon.com/images/P/0002005018.0...</td>\n",
       "    </tr>\n",
       "    <tr>\n",
       "      <th>2</th>\n",
       "      <td>0060973129</td>\n",
       "      <td>Decision in Normandy</td>\n",
       "      <td>Carlo D'Este</td>\n",
       "      <td>1991</td>\n",
       "      <td>HarperPerennial</td>\n",
       "      <td>http://images.amazon.com/images/P/0060973129.0...</td>\n",
       "      <td>http://images.amazon.com/images/P/0060973129.0...</td>\n",
       "      <td>http://images.amazon.com/images/P/0060973129.0...</td>\n",
       "    </tr>\n",
       "    <tr>\n",
       "      <th>3</th>\n",
       "      <td>0374157065</td>\n",
       "      <td>Flu: The Story of the Great Influenza Pandemic...</td>\n",
       "      <td>Gina Bari Kolata</td>\n",
       "      <td>1999</td>\n",
       "      <td>Farrar Straus Giroux</td>\n",
       "      <td>http://images.amazon.com/images/P/0374157065.0...</td>\n",
       "      <td>http://images.amazon.com/images/P/0374157065.0...</td>\n",
       "      <td>http://images.amazon.com/images/P/0374157065.0...</td>\n",
       "    </tr>\n",
       "    <tr>\n",
       "      <th>4</th>\n",
       "      <td>0393045218</td>\n",
       "      <td>The Mummies of Urumchi</td>\n",
       "      <td>E. J. W. Barber</td>\n",
       "      <td>1999</td>\n",
       "      <td>W. W. Norton &amp;amp; Company</td>\n",
       "      <td>http://images.amazon.com/images/P/0393045218.0...</td>\n",
       "      <td>http://images.amazon.com/images/P/0393045218.0...</td>\n",
       "      <td>http://images.amazon.com/images/P/0393045218.0...</td>\n",
       "    </tr>\n",
       "  </tbody>\n",
       "</table>\n",
       "</div>"
      ],
      "text/plain": [
       "         ISBN                                         Book-Title  \\\n",
       "0  0195153448                                Classical Mythology   \n",
       "1  0002005018                                       Clara Callan   \n",
       "2  0060973129                               Decision in Normandy   \n",
       "3  0374157065  Flu: The Story of the Great Influenza Pandemic...   \n",
       "4  0393045218                             The Mummies of Urumchi   \n",
       "\n",
       "            Book-Author Year-Of-Publication                   Publisher  \\\n",
       "0    Mark P. O. Morford                2002     Oxford University Press   \n",
       "1  Richard Bruce Wright                2001       HarperFlamingo Canada   \n",
       "2          Carlo D'Este                1991             HarperPerennial   \n",
       "3      Gina Bari Kolata                1999        Farrar Straus Giroux   \n",
       "4       E. J. W. Barber                1999  W. W. Norton &amp; Company   \n",
       "\n",
       "                                         Image-URL-S  \\\n",
       "0  http://images.amazon.com/images/P/0195153448.0...   \n",
       "1  http://images.amazon.com/images/P/0002005018.0...   \n",
       "2  http://images.amazon.com/images/P/0060973129.0...   \n",
       "3  http://images.amazon.com/images/P/0374157065.0...   \n",
       "4  http://images.amazon.com/images/P/0393045218.0...   \n",
       "\n",
       "                                         Image-URL-M  \\\n",
       "0  http://images.amazon.com/images/P/0195153448.0...   \n",
       "1  http://images.amazon.com/images/P/0002005018.0...   \n",
       "2  http://images.amazon.com/images/P/0060973129.0...   \n",
       "3  http://images.amazon.com/images/P/0374157065.0...   \n",
       "4  http://images.amazon.com/images/P/0393045218.0...   \n",
       "\n",
       "                                         Image-URL-L  \n",
       "0  http://images.amazon.com/images/P/0195153448.0...  \n",
       "1  http://images.amazon.com/images/P/0002005018.0...  \n",
       "2  http://images.amazon.com/images/P/0060973129.0...  \n",
       "3  http://images.amazon.com/images/P/0374157065.0...  \n",
       "4  http://images.amazon.com/images/P/0393045218.0...  "
      ]
     },
     "execution_count": 15,
     "metadata": {},
     "output_type": "execute_result"
    }
   ],
   "source": [
    "books.head()"
   ]
  },
  {
   "cell_type": "code",
   "execution_count": 16,
   "id": "2900156a-cbbb-4438-9914-cc7595ea7f26",
   "metadata": {},
   "outputs": [],
   "source": [
    "# There is no need in columns with URL."
   ]
  },
  {
   "cell_type": "code",
   "execution_count": 17,
   "id": "35c0a44b-d055-4280-aae6-f6f939b40a23",
   "metadata": {},
   "outputs": [],
   "source": [
    "books.drop([\"Image-URL-S\",\"Image-URL-M\",\"Image-URL-L\"],axis=1,inplace=True)"
   ]
  },
  {
   "cell_type": "code",
   "execution_count": 18,
   "id": "539fa873-b973-452c-a5c1-8b5269517beb",
   "metadata": {},
   "outputs": [
    {
     "data": {
      "text/html": [
       "<div>\n",
       "<style scoped>\n",
       "    .dataframe tbody tr th:only-of-type {\n",
       "        vertical-align: middle;\n",
       "    }\n",
       "\n",
       "    .dataframe tbody tr th {\n",
       "        vertical-align: top;\n",
       "    }\n",
       "\n",
       "    .dataframe thead th {\n",
       "        text-align: right;\n",
       "    }\n",
       "</style>\n",
       "<table border=\"1\" class=\"dataframe\">\n",
       "  <thead>\n",
       "    <tr style=\"text-align: right;\">\n",
       "      <th></th>\n",
       "      <th>ISBN</th>\n",
       "      <th>Book-Title</th>\n",
       "      <th>Book-Author</th>\n",
       "      <th>Year-Of-Publication</th>\n",
       "      <th>Publisher</th>\n",
       "    </tr>\n",
       "  </thead>\n",
       "  <tbody>\n",
       "    <tr>\n",
       "      <th>0</th>\n",
       "      <td>0195153448</td>\n",
       "      <td>Classical Mythology</td>\n",
       "      <td>Mark P. O. Morford</td>\n",
       "      <td>2002</td>\n",
       "      <td>Oxford University Press</td>\n",
       "    </tr>\n",
       "    <tr>\n",
       "      <th>1</th>\n",
       "      <td>0002005018</td>\n",
       "      <td>Clara Callan</td>\n",
       "      <td>Richard Bruce Wright</td>\n",
       "      <td>2001</td>\n",
       "      <td>HarperFlamingo Canada</td>\n",
       "    </tr>\n",
       "    <tr>\n",
       "      <th>2</th>\n",
       "      <td>0060973129</td>\n",
       "      <td>Decision in Normandy</td>\n",
       "      <td>Carlo D'Este</td>\n",
       "      <td>1991</td>\n",
       "      <td>HarperPerennial</td>\n",
       "    </tr>\n",
       "    <tr>\n",
       "      <th>3</th>\n",
       "      <td>0374157065</td>\n",
       "      <td>Flu: The Story of the Great Influenza Pandemic...</td>\n",
       "      <td>Gina Bari Kolata</td>\n",
       "      <td>1999</td>\n",
       "      <td>Farrar Straus Giroux</td>\n",
       "    </tr>\n",
       "    <tr>\n",
       "      <th>4</th>\n",
       "      <td>0393045218</td>\n",
       "      <td>The Mummies of Urumchi</td>\n",
       "      <td>E. J. W. Barber</td>\n",
       "      <td>1999</td>\n",
       "      <td>W. W. Norton &amp;amp; Company</td>\n",
       "    </tr>\n",
       "  </tbody>\n",
       "</table>\n",
       "</div>"
      ],
      "text/plain": [
       "         ISBN                                         Book-Title  \\\n",
       "0  0195153448                                Classical Mythology   \n",
       "1  0002005018                                       Clara Callan   \n",
       "2  0060973129                               Decision in Normandy   \n",
       "3  0374157065  Flu: The Story of the Great Influenza Pandemic...   \n",
       "4  0393045218                             The Mummies of Urumchi   \n",
       "\n",
       "            Book-Author Year-Of-Publication                   Publisher  \n",
       "0    Mark P. O. Morford                2002     Oxford University Press  \n",
       "1  Richard Bruce Wright                2001       HarperFlamingo Canada  \n",
       "2          Carlo D'Este                1991             HarperPerennial  \n",
       "3      Gina Bari Kolata                1999        Farrar Straus Giroux  \n",
       "4       E. J. W. Barber                1999  W. W. Norton &amp; Company  "
      ]
     },
     "execution_count": 18,
     "metadata": {},
     "output_type": "execute_result"
    }
   ],
   "source": [
    "books.head()"
   ]
  },
  {
   "cell_type": "code",
   "execution_count": 19,
   "id": "137e1443-a8f1-4344-9196-fef48102de08",
   "metadata": {},
   "outputs": [
    {
     "name": "stdout",
     "output_type": "stream",
     "text": [
      "<class 'pandas.core.frame.DataFrame'>\n",
      "RangeIndex: 271360 entries, 0 to 271359\n",
      "Data columns (total 5 columns):\n",
      " #   Column               Non-Null Count   Dtype \n",
      "---  ------               --------------   ----- \n",
      " 0   ISBN                 271360 non-null  object\n",
      " 1   Book-Title           271360 non-null  object\n",
      " 2   Book-Author          271358 non-null  object\n",
      " 3   Year-Of-Publication  271360 non-null  object\n",
      " 4   Publisher            271358 non-null  object\n",
      "dtypes: object(5)\n",
      "memory usage: 10.4+ MB\n"
     ]
    }
   ],
   "source": [
    "books.info()"
   ]
  },
  {
   "cell_type": "code",
   "execution_count": 20,
   "id": "f1f43881-644a-4c80-8a28-f1a8d7d63764",
   "metadata": {},
   "outputs": [],
   "source": [
    "# It seems that column Book-Author contains empty cells, at least 2"
   ]
  },
  {
   "cell_type": "code",
   "execution_count": 21,
   "id": "58d76f77-8c2a-42cd-b55d-a861a10f62fc",
   "metadata": {},
   "outputs": [
    {
     "data": {
      "text/plain": [
       "Book-Author\n",
       "Agatha Christie            632\n",
       "William Shakespeare        567\n",
       "Stephen King               524\n",
       "Ann M. Martin              423\n",
       "Carolyn Keene              373\n",
       "                          ... \n",
       "JÃ¶rn Kalkbrenner            1\n",
       "Paul A. Lynn                 1\n",
       "Arthur Bernard Williams      1\n",
       "Fred Ruckdeschel             1\n",
       "Glass Charles                1\n",
       "Name: count, Length: 102022, dtype: int64"
      ]
     },
     "execution_count": 21,
     "metadata": {},
     "output_type": "execute_result"
    }
   ],
   "source": [
    "books[\"Book-Author\"].value_counts()"
   ]
  },
  {
   "cell_type": "code",
   "execution_count": 22,
   "id": "afe89b44-ac52-4d09-8698-5e58ebfa6f66",
   "metadata": {},
   "outputs": [],
   "source": [
    "missing_author=books[books[\"Book-Author\"].isna()]"
   ]
  },
  {
   "cell_type": "code",
   "execution_count": 23,
   "id": "db69f79e-d5a5-46ec-9659-e2b32c5f2266",
   "metadata": {},
   "outputs": [
    {
     "data": {
      "text/html": [
       "<div>\n",
       "<style scoped>\n",
       "    .dataframe tbody tr th:only-of-type {\n",
       "        vertical-align: middle;\n",
       "    }\n",
       "\n",
       "    .dataframe tbody tr th {\n",
       "        vertical-align: top;\n",
       "    }\n",
       "\n",
       "    .dataframe thead th {\n",
       "        text-align: right;\n",
       "    }\n",
       "</style>\n",
       "<table border=\"1\" class=\"dataframe\">\n",
       "  <thead>\n",
       "    <tr style=\"text-align: right;\">\n",
       "      <th></th>\n",
       "      <th>ISBN</th>\n",
       "      <th>Book-Title</th>\n",
       "      <th>Book-Author</th>\n",
       "      <th>Year-Of-Publication</th>\n",
       "      <th>Publisher</th>\n",
       "    </tr>\n",
       "  </thead>\n",
       "  <tbody>\n",
       "    <tr>\n",
       "      <th>118033</th>\n",
       "      <td>0751352497</td>\n",
       "      <td>A+ Quiz Masters:01 Earth</td>\n",
       "      <td>NaN</td>\n",
       "      <td>1999</td>\n",
       "      <td>Dorling Kindersley</td>\n",
       "    </tr>\n",
       "    <tr>\n",
       "      <th>187689</th>\n",
       "      <td>9627982032</td>\n",
       "      <td>The Credit Suisse Guide to Managing Your Perso...</td>\n",
       "      <td>NaN</td>\n",
       "      <td>1995</td>\n",
       "      <td>Edinburgh Financial Publishing</td>\n",
       "    </tr>\n",
       "  </tbody>\n",
       "</table>\n",
       "</div>"
      ],
      "text/plain": [
       "              ISBN                                         Book-Title  \\\n",
       "118033  0751352497                           A+ Quiz Masters:01 Earth   \n",
       "187689  9627982032  The Credit Suisse Guide to Managing Your Perso...   \n",
       "\n",
       "       Book-Author Year-Of-Publication                       Publisher  \n",
       "118033         NaN                1999              Dorling Kindersley  \n",
       "187689         NaN                1995  Edinburgh Financial Publishing  "
      ]
     },
     "execution_count": 23,
     "metadata": {},
     "output_type": "execute_result"
    }
   ],
   "source": [
    "missing_author"
   ]
  },
  {
   "cell_type": "code",
   "execution_count": 24,
   "id": "9a3dff6d-5463-427f-89a6-0e84dee42c77",
   "metadata": {},
   "outputs": [],
   "source": [
    "# 2 rows are not significant, I will delete them"
   ]
  },
  {
   "cell_type": "code",
   "execution_count": 25,
   "id": "ff8d72f3-9774-4f08-834b-8ed3842a84ae",
   "metadata": {},
   "outputs": [],
   "source": [
    "books = books.drop(index=[118033, 187689])"
   ]
  },
  {
   "cell_type": "code",
   "execution_count": 26,
   "id": "5a638509-0624-4f94-a442-7646f90a67fd",
   "metadata": {},
   "outputs": [
    {
     "name": "stdout",
     "output_type": "stream",
     "text": [
      "<class 'pandas.core.frame.DataFrame'>\n",
      "Index: 271358 entries, 0 to 271359\n",
      "Data columns (total 5 columns):\n",
      " #   Column               Non-Null Count   Dtype \n",
      "---  ------               --------------   ----- \n",
      " 0   ISBN                 271358 non-null  object\n",
      " 1   Book-Title           271358 non-null  object\n",
      " 2   Book-Author          271358 non-null  object\n",
      " 3   Year-Of-Publication  271358 non-null  object\n",
      " 4   Publisher            271356 non-null  object\n",
      "dtypes: object(5)\n",
      "memory usage: 12.4+ MB\n"
     ]
    }
   ],
   "source": [
    "books.info()"
   ]
  },
  {
   "cell_type": "code",
   "execution_count": 27,
   "id": "388ee069-0680-487d-b180-4693bcf857b5",
   "metadata": {},
   "outputs": [],
   "source": [
    "# Same process with missing values in Publisher            "
   ]
  },
  {
   "cell_type": "code",
   "execution_count": 28,
   "id": "90da41e1-1b1e-413d-8b43-84a05fdc4e57",
   "metadata": {},
   "outputs": [
    {
     "data": {
      "text/plain": [
       "Publisher\n",
       "Harlequin                          7535\n",
       "Silhouette                         4220\n",
       "Pocket                             3905\n",
       "Ballantine Books                   3783\n",
       "Bantam Books                       3646\n",
       "                                   ... \n",
       "National Textbook Company             1\n",
       "Lulu Publishing                       1\n",
       "Scholastic (An Apple Paperback)       1\n",
       "Spencer Butte Press                   1\n",
       "Kowalski                              1\n",
       "Name: count, Length: 16806, dtype: int64"
      ]
     },
     "execution_count": 28,
     "metadata": {},
     "output_type": "execute_result"
    }
   ],
   "source": [
    "books[\"Publisher\"].value_counts()"
   ]
  },
  {
   "cell_type": "code",
   "execution_count": 29,
   "id": "c8a344a0-f74f-4ce6-a16a-f5c394531efb",
   "metadata": {},
   "outputs": [],
   "source": [
    "missing_Publisher=books[books[\"Publisher\"].isna()]"
   ]
  },
  {
   "cell_type": "code",
   "execution_count": 30,
   "id": "75ac0ebf-2f2c-435e-9879-4f4dbba2dc07",
   "metadata": {},
   "outputs": [
    {
     "data": {
      "text/html": [
       "<div>\n",
       "<style scoped>\n",
       "    .dataframe tbody tr th:only-of-type {\n",
       "        vertical-align: middle;\n",
       "    }\n",
       "\n",
       "    .dataframe tbody tr th {\n",
       "        vertical-align: top;\n",
       "    }\n",
       "\n",
       "    .dataframe thead th {\n",
       "        text-align: right;\n",
       "    }\n",
       "</style>\n",
       "<table border=\"1\" class=\"dataframe\">\n",
       "  <thead>\n",
       "    <tr style=\"text-align: right;\">\n",
       "      <th></th>\n",
       "      <th>ISBN</th>\n",
       "      <th>Book-Title</th>\n",
       "      <th>Book-Author</th>\n",
       "      <th>Year-Of-Publication</th>\n",
       "      <th>Publisher</th>\n",
       "    </tr>\n",
       "  </thead>\n",
       "  <tbody>\n",
       "    <tr>\n",
       "      <th>128890</th>\n",
       "      <td>193169656X</td>\n",
       "      <td>Tyrant Moon</td>\n",
       "      <td>Elaine Corvidae</td>\n",
       "      <td>2002</td>\n",
       "      <td>NaN</td>\n",
       "    </tr>\n",
       "    <tr>\n",
       "      <th>129037</th>\n",
       "      <td>1931696993</td>\n",
       "      <td>Finders Keepers</td>\n",
       "      <td>Linnea Sinclair</td>\n",
       "      <td>2001</td>\n",
       "      <td>NaN</td>\n",
       "    </tr>\n",
       "  </tbody>\n",
       "</table>\n",
       "</div>"
      ],
      "text/plain": [
       "              ISBN       Book-Title      Book-Author Year-Of-Publication  \\\n",
       "128890  193169656X      Tyrant Moon  Elaine Corvidae                2002   \n",
       "129037  1931696993  Finders Keepers  Linnea Sinclair                2001   \n",
       "\n",
       "       Publisher  \n",
       "128890       NaN  \n",
       "129037       NaN  "
      ]
     },
     "execution_count": 30,
     "metadata": {},
     "output_type": "execute_result"
    }
   ],
   "source": [
    "missing_Publisher"
   ]
  },
  {
   "cell_type": "code",
   "execution_count": 31,
   "id": "964dbf74-ec0a-4288-b150-87e5bb153a9b",
   "metadata": {},
   "outputs": [],
   "source": [
    "books= books.drop(index=[128890, 129037])"
   ]
  },
  {
   "cell_type": "code",
   "execution_count": 32,
   "id": "f02e9306-b1db-4ef2-a917-772ef77dc665",
   "metadata": {},
   "outputs": [
    {
     "name": "stdout",
     "output_type": "stream",
     "text": [
      "<class 'pandas.core.frame.DataFrame'>\n",
      "Index: 271356 entries, 0 to 271359\n",
      "Data columns (total 5 columns):\n",
      " #   Column               Non-Null Count   Dtype \n",
      "---  ------               --------------   ----- \n",
      " 0   ISBN                 271356 non-null  object\n",
      " 1   Book-Title           271356 non-null  object\n",
      " 2   Book-Author          271356 non-null  object\n",
      " 3   Year-Of-Publication  271356 non-null  object\n",
      " 4   Publisher            271356 non-null  object\n",
      "dtypes: object(5)\n",
      "memory usage: 12.4+ MB\n"
     ]
    }
   ],
   "source": [
    "books.info()"
   ]
  },
  {
   "cell_type": "code",
   "execution_count": 33,
   "id": "e3cb7b3b-539d-4449-9068-ae4578df7119",
   "metadata": {},
   "outputs": [],
   "source": [
    "# Year-Of-Publication contains objects.I'm gonna check for junk to clear up before convertion to Date type Integer"
   ]
  },
  {
   "cell_type": "code",
   "execution_count": 34,
   "id": "0be5eb28-1fd3-4e50-af2c-99808c03cbae",
   "metadata": {},
   "outputs": [
    {
     "data": {
      "text/plain": [
       "Year-Of-Publication\n",
       "2002    17626\n",
       "1999    17430\n",
       "2001    17358\n",
       "2000    17232\n",
       "1998    15766\n",
       "        ...  \n",
       "1919        1\n",
       "1897        1\n",
       "2024        1\n",
       "1376        1\n",
       "2037        1\n",
       "Name: count, Length: 118, dtype: int64"
      ]
     },
     "execution_count": 34,
     "metadata": {},
     "output_type": "execute_result"
    }
   ],
   "source": [
    "books[\"Year-Of-Publication\"].value_counts()"
   ]
  },
  {
   "cell_type": "code",
   "execution_count": 35,
   "id": "0a5cc9ce-be9a-47dd-a833-e59b7a699be4",
   "metadata": {},
   "outputs": [],
   "source": [
    "# I want to find all \"not number values\" in the column \"Year-Of-Publication\""
   ]
  },
  {
   "cell_type": "code",
   "execution_count": 36,
   "id": "fda940b9-eca4-49ca-9ebc-580dac580b1f",
   "metadata": {},
   "outputs": [],
   "source": [
    "Year_cont=~books[\"Year-Of-Publication\"].str.contains(r'\\d')\n",
    " "
   ]
  },
  {
   "cell_type": "code",
   "execution_count": 37,
   "id": "6f522eb7-f97b-4180-992f-25be76593da0",
   "metadata": {},
   "outputs": [
    {
     "data": {
      "text/html": [
       "<div>\n",
       "<style scoped>\n",
       "    .dataframe tbody tr th:only-of-type {\n",
       "        vertical-align: middle;\n",
       "    }\n",
       "\n",
       "    .dataframe tbody tr th {\n",
       "        vertical-align: top;\n",
       "    }\n",
       "\n",
       "    .dataframe thead th {\n",
       "        text-align: right;\n",
       "    }\n",
       "</style>\n",
       "<table border=\"1\" class=\"dataframe\">\n",
       "  <thead>\n",
       "    <tr style=\"text-align: right;\">\n",
       "      <th></th>\n",
       "      <th>ISBN</th>\n",
       "      <th>Book-Title</th>\n",
       "      <th>Book-Author</th>\n",
       "      <th>Year-Of-Publication</th>\n",
       "      <th>Publisher</th>\n",
       "    </tr>\n",
       "  </thead>\n",
       "  <tbody>\n",
       "    <tr>\n",
       "      <th>209538</th>\n",
       "      <td>078946697X</td>\n",
       "      <td>DK Readers: Creating the X-Men, How It All Beg...</td>\n",
       "      <td>2000</td>\n",
       "      <td>DK Publishing Inc</td>\n",
       "      <td>http://images.amazon.com/images/P/078946697X.0...</td>\n",
       "    </tr>\n",
       "    <tr>\n",
       "      <th>220731</th>\n",
       "      <td>2070426769</td>\n",
       "      <td>Peuple du ciel, suivi de 'Les Bergers\\\";Jean-M...</td>\n",
       "      <td>2003</td>\n",
       "      <td>Gallimard</td>\n",
       "      <td>http://images.amazon.com/images/P/2070426769.0...</td>\n",
       "    </tr>\n",
       "    <tr>\n",
       "      <th>221678</th>\n",
       "      <td>0789466953</td>\n",
       "      <td>DK Readers: Creating the X-Men, How Comic Book...</td>\n",
       "      <td>2000</td>\n",
       "      <td>DK Publishing Inc</td>\n",
       "      <td>http://images.amazon.com/images/P/0789466953.0...</td>\n",
       "    </tr>\n",
       "  </tbody>\n",
       "</table>\n",
       "</div>"
      ],
      "text/plain": [
       "              ISBN                                         Book-Title  \\\n",
       "209538  078946697X  DK Readers: Creating the X-Men, How It All Beg...   \n",
       "220731  2070426769  Peuple du ciel, suivi de 'Les Bergers\\\";Jean-M...   \n",
       "221678  0789466953  DK Readers: Creating the X-Men, How Comic Book...   \n",
       "\n",
       "       Book-Author Year-Of-Publication  \\\n",
       "209538        2000   DK Publishing Inc   \n",
       "220731        2003           Gallimard   \n",
       "221678        2000   DK Publishing Inc   \n",
       "\n",
       "                                                Publisher  \n",
       "209538  http://images.amazon.com/images/P/078946697X.0...  \n",
       "220731  http://images.amazon.com/images/P/2070426769.0...  \n",
       "221678  http://images.amazon.com/images/P/0789466953.0...  "
      ]
     },
     "execution_count": 37,
     "metadata": {},
     "output_type": "execute_result"
    }
   ],
   "source": [
    "books[Year_cont]"
   ]
  },
  {
   "cell_type": "code",
   "execution_count": 38,
   "id": "4f73d97e-506b-416f-a2bd-abbd2c8c43aa",
   "metadata": {},
   "outputs": [],
   "source": [
    "# It seems like there is invalid data in 3 rows, unsignificant in proportion of th Dataset, I'll delete it"
   ]
  },
  {
   "cell_type": "code",
   "execution_count": 39,
   "id": "55d55def-9412-4470-ba50-0ad1698c8b29",
   "metadata": {},
   "outputs": [],
   "source": [
    "books= books.drop(index=[209538, 220731,221678])"
   ]
  },
  {
   "cell_type": "code",
   "execution_count": 40,
   "id": "3d301c7e-21df-4de7-966b-662c547cdcc8",
   "metadata": {},
   "outputs": [],
   "source": [
    "# Becase I saw in Publisher values that looks like URL, I'll check if there are more of it"
   ]
  },
  {
   "cell_type": "code",
   "execution_count": 41,
   "id": "e1d2ad88-e6fe-48dd-a692-754b9d4a5069",
   "metadata": {},
   "outputs": [
    {
     "data": {
      "text/plain": [
       "np.int64(0)"
      ]
     },
     "execution_count": 41,
     "metadata": {},
     "output_type": "execute_result"
    }
   ],
   "source": [
    "books[\"Publisher\"].str.contains(\"http://\").sum()"
   ]
  },
  {
   "cell_type": "code",
   "execution_count": 42,
   "id": "d2ecaea1-af83-4701-a93c-bada8ee1fe6d",
   "metadata": {},
   "outputs": [],
   "source": [
    "# I can see that there is not more wrong values like those"
   ]
  },
  {
   "cell_type": "code",
   "execution_count": 43,
   "id": "88229dbc-1335-4f9b-a3ea-1340e7394aa1",
   "metadata": {},
   "outputs": [],
   "source": [
    "# Back to Year-Of-Publication.I have to check what values do I have there."
   ]
  },
  {
   "cell_type": "code",
   "execution_count": 44,
   "id": "f24c20e9-833e-42fa-a2a8-94be85418a4a",
   "metadata": {},
   "outputs": [
    {
     "data": {
      "text/plain": [
       "array(['2002', '2001', '1991', '1999', '2000', '1993', '1996', '1988',\n",
       "       '2004', '1998', '1994', '2003', '1997', '1983', '1979', '1995',\n",
       "       '1982', '1985', '1992', '1986', '1978', '1980', '1952', '1987',\n",
       "       '1990', '1981', '1989', '1984', '0', '1968', '1961', '1958',\n",
       "       '1974', '1976', '1971', '1977', '1975', '1965', '1941', '1970',\n",
       "       '1962', '1973', '1972', '1960', '1966', '1920', '1956', '1959',\n",
       "       '1953', '1951', '1942', '1963', '1964', '1969', '1954', '1950',\n",
       "       '1967', '2005', '1957', '1940', '1937', '1955', '1946', '1936',\n",
       "       '1930', '2011', '1925', '1948', '1943', '1947', '1945', '1923',\n",
       "       '2020', '1939', '1926', '1938', '2030', '1911', '1904', '1949',\n",
       "       '1932', '1928', '1929', '1927', '1931', '1914', '2050', '1934',\n",
       "       '1910', '1933', '1902', '1924', '1921', '1900', '2038', '2026',\n",
       "       '1944', '1917', '1901', '2010', '1908', '1906', '1935', '1806',\n",
       "       '2021', '2012', '2006', '1909', '2008', '1378', '1919', '1922',\n",
       "       '1897', '2024', '1376', '2037'], dtype=object)"
      ]
     },
     "execution_count": 44,
     "metadata": {},
     "output_type": "execute_result"
    }
   ],
   "source": [
    "books[\"Year-Of-Publication\"].unique()"
   ]
  },
  {
   "cell_type": "code",
   "execution_count": 45,
   "id": "1e9b0d0a-e324-440b-a907-700c9a8f07d5",
   "metadata": {},
   "outputs": [
    {
     "data": {
      "text/html": [
       "<div>\n",
       "<style scoped>\n",
       "    .dataframe tbody tr th:only-of-type {\n",
       "        vertical-align: middle;\n",
       "    }\n",
       "\n",
       "    .dataframe tbody tr th {\n",
       "        vertical-align: top;\n",
       "    }\n",
       "\n",
       "    .dataframe thead th {\n",
       "        text-align: right;\n",
       "    }\n",
       "</style>\n",
       "<table border=\"1\" class=\"dataframe\">\n",
       "  <thead>\n",
       "    <tr style=\"text-align: right;\">\n",
       "      <th></th>\n",
       "      <th>ISBN</th>\n",
       "      <th>Book-Title</th>\n",
       "      <th>Book-Author</th>\n",
       "      <th>Year-Of-Publication</th>\n",
       "      <th>Publisher</th>\n",
       "    </tr>\n",
       "  </thead>\n",
       "  <tbody>\n",
       "    <tr>\n",
       "      <th>176</th>\n",
       "      <td>3150000335</td>\n",
       "      <td>Kabale Und Liebe</td>\n",
       "      <td>Schiller</td>\n",
       "      <td>0</td>\n",
       "      <td>Philipp Reclam, Jun Verlag GmbH</td>\n",
       "    </tr>\n",
       "    <tr>\n",
       "      <th>188</th>\n",
       "      <td>342311360X</td>\n",
       "      <td>Die Liebe in Den Zelten</td>\n",
       "      <td>Gabriel Garcia Marquez</td>\n",
       "      <td>0</td>\n",
       "      <td>Deutscher Taschenbuch Verlag (DTV)</td>\n",
       "    </tr>\n",
       "    <tr>\n",
       "      <th>288</th>\n",
       "      <td>0571197639</td>\n",
       "      <td>Poisonwood Bible Edition Uk</td>\n",
       "      <td>Barbara Kingsolver</td>\n",
       "      <td>0</td>\n",
       "      <td>Faber Faber Inc</td>\n",
       "    </tr>\n",
       "    <tr>\n",
       "      <th>351</th>\n",
       "      <td>3596214629</td>\n",
       "      <td>Herr Der Fliegen (Fiction, Poetry and Drama)</td>\n",
       "      <td>Golding</td>\n",
       "      <td>0</td>\n",
       "      <td>Fischer Taschenbuch Verlag GmbH</td>\n",
       "    </tr>\n",
       "    <tr>\n",
       "      <th>542</th>\n",
       "      <td>8845229041</td>\n",
       "      <td>Biblioteca Universale Rizzoli: Sulla Sponda De...</td>\n",
       "      <td>P Coelho</td>\n",
       "      <td>0</td>\n",
       "      <td>Fabbri - RCS Libri</td>\n",
       "    </tr>\n",
       "    <tr>\n",
       "      <th>...</th>\n",
       "      <td>...</td>\n",
       "      <td>...</td>\n",
       "      <td>...</td>\n",
       "      <td>...</td>\n",
       "      <td>...</td>\n",
       "    </tr>\n",
       "    <tr>\n",
       "      <th>270794</th>\n",
       "      <td>014029953X</td>\n",
       "      <td>Foe (Essential.penguin S.)</td>\n",
       "      <td>J.M. Coetzee</td>\n",
       "      <td>0</td>\n",
       "      <td>Penguin Books Ltd</td>\n",
       "    </tr>\n",
       "    <tr>\n",
       "      <th>270913</th>\n",
       "      <td>0340571187</td>\n",
       "      <td>Postmens House</td>\n",
       "      <td>Maggie Hemingway</td>\n",
       "      <td>0</td>\n",
       "      <td>Trafalgar Square</td>\n",
       "    </tr>\n",
       "    <tr>\n",
       "      <th>271094</th>\n",
       "      <td>8427201079</td>\n",
       "      <td>El Misterio De Sittaford</td>\n",
       "      <td>Agatha Christie</td>\n",
       "      <td>0</td>\n",
       "      <td>Editorial Molino</td>\n",
       "    </tr>\n",
       "    <tr>\n",
       "      <th>271182</th>\n",
       "      <td>0887781721</td>\n",
       "      <td>Tom Penny</td>\n",
       "      <td>Tony German</td>\n",
       "      <td>0</td>\n",
       "      <td>P. Martin Associates</td>\n",
       "    </tr>\n",
       "    <tr>\n",
       "      <th>271196</th>\n",
       "      <td>3150013763</td>\n",
       "      <td>Der Hofmeister</td>\n",
       "      <td>Jakob Lenz</td>\n",
       "      <td>0</td>\n",
       "      <td>Philipp Reclam, Jun Verlag GmbH</td>\n",
       "    </tr>\n",
       "  </tbody>\n",
       "</table>\n",
       "<p>4618 rows × 5 columns</p>\n",
       "</div>"
      ],
      "text/plain": [
       "              ISBN                                         Book-Title  \\\n",
       "176     3150000335                                   Kabale Und Liebe   \n",
       "188     342311360X                            Die Liebe in Den Zelten   \n",
       "288     0571197639                        Poisonwood Bible Edition Uk   \n",
       "351     3596214629       Herr Der Fliegen (Fiction, Poetry and Drama)   \n",
       "542     8845229041  Biblioteca Universale Rizzoli: Sulla Sponda De...   \n",
       "...            ...                                                ...   \n",
       "270794  014029953X                         Foe (Essential.penguin S.)   \n",
       "270913  0340571187                                     Postmens House   \n",
       "271094  8427201079                           El Misterio De Sittaford   \n",
       "271182  0887781721                                          Tom Penny   \n",
       "271196  3150013763                                     Der Hofmeister   \n",
       "\n",
       "                   Book-Author Year-Of-Publication  \\\n",
       "176                   Schiller                   0   \n",
       "188     Gabriel Garcia Marquez                   0   \n",
       "288         Barbara Kingsolver                   0   \n",
       "351                    Golding                   0   \n",
       "542                   P Coelho                   0   \n",
       "...                        ...                 ...   \n",
       "270794            J.M. Coetzee                   0   \n",
       "270913        Maggie Hemingway                   0   \n",
       "271094         Agatha Christie                   0   \n",
       "271182             Tony German                   0   \n",
       "271196              Jakob Lenz                   0   \n",
       "\n",
       "                                 Publisher  \n",
       "176        Philipp Reclam, Jun Verlag GmbH  \n",
       "188     Deutscher Taschenbuch Verlag (DTV)  \n",
       "288                        Faber Faber Inc  \n",
       "351        Fischer Taschenbuch Verlag GmbH  \n",
       "542                     Fabbri - RCS Libri  \n",
       "...                                    ...  \n",
       "270794                   Penguin Books Ltd  \n",
       "270913                    Trafalgar Square  \n",
       "271094                    Editorial Molino  \n",
       "271182                P. Martin Associates  \n",
       "271196     Philipp Reclam, Jun Verlag GmbH  \n",
       "\n",
       "[4618 rows x 5 columns]"
      ]
     },
     "execution_count": 45,
     "metadata": {},
     "output_type": "execute_result"
    }
   ],
   "source": [
    "books[books[\"Year-Of-Publication\"]==\"0\"] "
   ]
  },
  {
   "cell_type": "code",
   "execution_count": 46,
   "id": "0c333826-bba9-4bac-a6fd-e33287ec1fb6",
   "metadata": {},
   "outputs": [],
   "source": [
    "# Before Conversion to numeric' I'll replace \"0\" with NaN"
   ]
  },
  {
   "cell_type": "code",
   "execution_count": 47,
   "id": "d7307e8a-4cd0-4720-a414-e62135b2972c",
   "metadata": {},
   "outputs": [],
   "source": [
    "books[\"Year-Of-Publication\"] = books[\"Year-Of-Publication\"].replace(\"0\", np.nan)"
   ]
  },
  {
   "cell_type": "code",
   "execution_count": 48,
   "id": "4122b631-c7de-470d-96da-255ae7f59dba",
   "metadata": {},
   "outputs": [
    {
     "data": {
      "text/plain": [
       "np.int64(4618)"
      ]
     },
     "execution_count": 48,
     "metadata": {},
     "output_type": "execute_result"
    }
   ],
   "source": [
    "books[\"Year-Of-Publication\"].isna().sum()"
   ]
  },
  {
   "cell_type": "code",
   "execution_count": 49,
   "id": "cb2ed88f-19d5-424a-befd-e73200d39e7a",
   "metadata": {},
   "outputs": [],
   "source": [
    "# Now I'll convert datatype of column \"Year-Of-Publication\" to numeric"
   ]
  },
  {
   "cell_type": "code",
   "execution_count": 50,
   "id": "be8c0e7c-3625-49da-bdc4-28928d829af4",
   "metadata": {},
   "outputs": [],
   "source": [
    "books[\"Year-Of-Publication\"]=pd.to_numeric(books[\"Year-Of-Publication\"],errors=\"coerce\")"
   ]
  },
  {
   "cell_type": "code",
   "execution_count": 51,
   "id": "5260410c-d027-48e6-b9b2-bb0fc4f250a3",
   "metadata": {},
   "outputs": [
    {
     "name": "stdout",
     "output_type": "stream",
     "text": [
      "<class 'pandas.core.frame.DataFrame'>\n",
      "Index: 271353 entries, 0 to 271359\n",
      "Data columns (total 5 columns):\n",
      " #   Column               Non-Null Count   Dtype  \n",
      "---  ------               --------------   -----  \n",
      " 0   ISBN                 271353 non-null  object \n",
      " 1   Book-Title           271353 non-null  object \n",
      " 2   Book-Author          271353 non-null  object \n",
      " 3   Year-Of-Publication  266735 non-null  float64\n",
      " 4   Publisher            271353 non-null  object \n",
      "dtypes: float64(1), object(4)\n",
      "memory usage: 12.4+ MB\n"
     ]
    }
   ],
   "source": [
    "books.info()"
   ]
  },
  {
   "cell_type": "code",
   "execution_count": 52,
   "id": "3afed0cc-4e4a-497d-8b02-39aadbf14d03",
   "metadata": {},
   "outputs": [
    {
     "data": {
      "text/plain": [
       "array([2002., 2001., 1991., 1999., 2000., 1993., 1996., 1988., 2004.,\n",
       "       1998., 1994., 2003., 1997., 1983., 1979., 1995., 1982., 1985.,\n",
       "       1992., 1986., 1978., 1980., 1952., 1987., 1990., 1981., 1989.,\n",
       "       1984.,   nan, 1968., 1961., 1958., 1974., 1976., 1971., 1977.,\n",
       "       1975., 1965., 1941., 1970., 1962., 1973., 1972., 1960., 1966.,\n",
       "       1920., 1956., 1959., 1953., 1951., 1942., 1963., 1964., 1969.,\n",
       "       1954., 1950., 1967., 2005., 1957., 1940., 1937., 1955., 1946.,\n",
       "       1936., 1930., 2011., 1925., 1948., 1943., 1947., 1945., 1923.,\n",
       "       2020., 1939., 1926., 1938., 2030., 1911., 1904., 1949., 1932.,\n",
       "       1928., 1929., 1927., 1931., 1914., 2050., 1934., 1910., 1933.,\n",
       "       1902., 1924., 1921., 1900., 2038., 2026., 1944., 1917., 1901.,\n",
       "       2010., 1908., 1906., 1935., 1806., 2021., 2012., 2006., 1909.,\n",
       "       2008., 1378., 1919., 1922., 1897., 2024., 1376., 2037.])"
      ]
     },
     "execution_count": 52,
     "metadata": {},
     "output_type": "execute_result"
    }
   ],
   "source": [
    "books[\"Year-Of-Publication\"].unique()"
   ]
  },
  {
   "cell_type": "code",
   "execution_count": 53,
   "id": "e62e0485-6a9b-4a00-9d3b-b02355858fd4",
   "metadata": {},
   "outputs": [],
   "source": [
    "# I can see 2 problems now:  1. Data type mow is float so it displayed as decimal.  2.There are non logical numbers for YEAR like 1376, 2038."
   ]
  },
  {
   "cell_type": "code",
   "execution_count": 54,
   "id": "e24412c7-1d95-440a-a09d-66b8c073706f",
   "metadata": {},
   "outputs": [],
   "source": [
    "books[\"Year-Of-Publication\"]=books[\"Year-Of-Publication\"].astype(\"Int64\")"
   ]
  },
  {
   "cell_type": "code",
   "execution_count": 55,
   "id": "2b4d82cd-d2d4-4347-949a-5de33eb64d72",
   "metadata": {},
   "outputs": [
    {
     "name": "stdout",
     "output_type": "stream",
     "text": [
      "<class 'pandas.core.frame.DataFrame'>\n",
      "Index: 271353 entries, 0 to 271359\n",
      "Data columns (total 5 columns):\n",
      " #   Column               Non-Null Count   Dtype \n",
      "---  ------               --------------   ----- \n",
      " 0   ISBN                 271353 non-null  object\n",
      " 1   Book-Title           271353 non-null  object\n",
      " 2   Book-Author          271353 non-null  object\n",
      " 3   Year-Of-Publication  266735 non-null  Int64 \n",
      " 4   Publisher            271353 non-null  object\n",
      "dtypes: Int64(1), object(4)\n",
      "memory usage: 12.7+ MB\n"
     ]
    }
   ],
   "source": [
    "books.info()"
   ]
  },
  {
   "cell_type": "code",
   "execution_count": 56,
   "id": "35ffb6d9-5d9a-4fde-9b18-704f132e8978",
   "metadata": {},
   "outputs": [
    {
     "data": {
      "text/plain": [
       "80264     2050\n",
       "97826     2050\n",
       "116053    2038\n",
       "255409    2037\n",
       "78168     2030\n",
       "          ... \n",
       "270794    <NA>\n",
       "270913    <NA>\n",
       "271094    <NA>\n",
       "271182    <NA>\n",
       "271196    <NA>\n",
       "Name: Year-Of-Publication, Length: 271353, dtype: Int64"
      ]
     },
     "execution_count": 56,
     "metadata": {},
     "output_type": "execute_result"
    }
   ],
   "source": [
    "books[\"Year-Of-Publication\"].sort_values(ascending=False)"
   ]
  },
  {
   "cell_type": "code",
   "execution_count": 57,
   "id": "e78f3a80-92c0-413b-b149-92cffca240da",
   "metadata": {},
   "outputs": [],
   "source": [
    "books = books.loc[books[\"Year-Of-Publication\"].between(1950, 2024)]"
   ]
  },
  {
   "cell_type": "code",
   "execution_count": 58,
   "id": "4ea23e3e-6af5-43d4-8f4a-5249879edec5",
   "metadata": {},
   "outputs": [
    {
     "data": {
      "text/plain": [
       "246842    2024\n",
       "183769    2021\n",
       "238817    2020\n",
       "92156     2020\n",
       "30010     2020\n",
       "          ... \n",
       "222340    1950\n",
       "105547    1950\n",
       "2991      1950\n",
       "138357    1950\n",
       "232562    1950\n",
       "Name: Year-Of-Publication, Length: 266430, dtype: Int64"
      ]
     },
     "execution_count": 58,
     "metadata": {},
     "output_type": "execute_result"
    }
   ],
   "source": [
    "books[\"Year-Of-Publication\"].sort_values(ascending=False)"
   ]
  },
  {
   "cell_type": "code",
   "execution_count": 59,
   "id": "ce7fec1c-ccf5-4dc0-a290-78f65a0db5fc",
   "metadata": {},
   "outputs": [
    {
     "data": {
      "text/plain": [
       "np.int64(0)"
      ]
     },
     "execution_count": 59,
     "metadata": {},
     "output_type": "execute_result"
    }
   ],
   "source": [
    "books[\"Year-Of-Publication\"].isna().sum()"
   ]
  },
  {
   "cell_type": "code",
   "execution_count": 60,
   "id": "1c865145-e095-4cce-bbf6-3aa67af6bc92",
   "metadata": {},
   "outputs": [
    {
     "name": "stdout",
     "output_type": "stream",
     "text": [
      "<class 'pandas.core.frame.DataFrame'>\n",
      "Index: 266430 entries, 0 to 271359\n",
      "Data columns (total 5 columns):\n",
      " #   Column               Non-Null Count   Dtype \n",
      "---  ------               --------------   ----- \n",
      " 0   ISBN                 266430 non-null  object\n",
      " 1   Book-Title           266430 non-null  object\n",
      " 2   Book-Author          266430 non-null  object\n",
      " 3   Year-Of-Publication  266430 non-null  Int64 \n",
      " 4   Publisher            266430 non-null  object\n",
      "dtypes: Int64(1), object(4)\n",
      "memory usage: 12.5+ MB\n"
     ]
    }
   ],
   "source": [
    "books.info()"
   ]
  },
  {
   "cell_type": "code",
   "execution_count": 61,
   "id": "93daeac7-2275-49ae-bd00-03fcaa73b861",
   "metadata": {},
   "outputs": [
    {
     "data": {
      "text/html": [
       "<div>\n",
       "<style scoped>\n",
       "    .dataframe tbody tr th:only-of-type {\n",
       "        vertical-align: middle;\n",
       "    }\n",
       "\n",
       "    .dataframe tbody tr th {\n",
       "        vertical-align: top;\n",
       "    }\n",
       "\n",
       "    .dataframe thead th {\n",
       "        text-align: right;\n",
       "    }\n",
       "</style>\n",
       "<table border=\"1\" class=\"dataframe\">\n",
       "  <thead>\n",
       "    <tr style=\"text-align: right;\">\n",
       "      <th></th>\n",
       "      <th>ISBN</th>\n",
       "      <th>Book-Title</th>\n",
       "      <th>Book-Author</th>\n",
       "      <th>Year-Of-Publication</th>\n",
       "      <th>Publisher</th>\n",
       "    </tr>\n",
       "  </thead>\n",
       "  <tbody>\n",
       "    <tr>\n",
       "      <th>0</th>\n",
       "      <td>0195153448</td>\n",
       "      <td>Classical Mythology</td>\n",
       "      <td>Mark P. O. Morford</td>\n",
       "      <td>2002</td>\n",
       "      <td>Oxford University Press</td>\n",
       "    </tr>\n",
       "    <tr>\n",
       "      <th>1</th>\n",
       "      <td>0002005018</td>\n",
       "      <td>Clara Callan</td>\n",
       "      <td>Richard Bruce Wright</td>\n",
       "      <td>2001</td>\n",
       "      <td>HarperFlamingo Canada</td>\n",
       "    </tr>\n",
       "    <tr>\n",
       "      <th>2</th>\n",
       "      <td>0060973129</td>\n",
       "      <td>Decision in Normandy</td>\n",
       "      <td>Carlo D'Este</td>\n",
       "      <td>1991</td>\n",
       "      <td>HarperPerennial</td>\n",
       "    </tr>\n",
       "    <tr>\n",
       "      <th>3</th>\n",
       "      <td>0374157065</td>\n",
       "      <td>Flu: The Story of the Great Influenza Pandemic...</td>\n",
       "      <td>Gina Bari Kolata</td>\n",
       "      <td>1999</td>\n",
       "      <td>Farrar Straus Giroux</td>\n",
       "    </tr>\n",
       "    <tr>\n",
       "      <th>4</th>\n",
       "      <td>0393045218</td>\n",
       "      <td>The Mummies of Urumchi</td>\n",
       "      <td>E. J. W. Barber</td>\n",
       "      <td>1999</td>\n",
       "      <td>W. W. Norton &amp;amp; Company</td>\n",
       "    </tr>\n",
       "  </tbody>\n",
       "</table>\n",
       "</div>"
      ],
      "text/plain": [
       "         ISBN                                         Book-Title  \\\n",
       "0  0195153448                                Classical Mythology   \n",
       "1  0002005018                                       Clara Callan   \n",
       "2  0060973129                               Decision in Normandy   \n",
       "3  0374157065  Flu: The Story of the Great Influenza Pandemic...   \n",
       "4  0393045218                             The Mummies of Urumchi   \n",
       "\n",
       "            Book-Author  Year-Of-Publication                   Publisher  \n",
       "0    Mark P. O. Morford                 2002     Oxford University Press  \n",
       "1  Richard Bruce Wright                 2001       HarperFlamingo Canada  \n",
       "2          Carlo D'Este                 1991             HarperPerennial  \n",
       "3      Gina Bari Kolata                 1999        Farrar Straus Giroux  \n",
       "4       E. J. W. Barber                 1999  W. W. Norton &amp; Company  "
      ]
     },
     "execution_count": 61,
     "metadata": {},
     "output_type": "execute_result"
    }
   ],
   "source": [
    "books.head() "
   ]
  },
  {
   "cell_type": "code",
   "execution_count": 62,
   "id": "7fc8276f-9144-4b99-b440-b85d94b9357f",
   "metadata": {},
   "outputs": [],
   "source": [
    "y=books[\"Year-Of-Publication\"].value_counts()\n",
    "x=books[\"Year-Of-Publication\"]"
   ]
  },
  {
   "cell_type": "code",
   "execution_count": 63,
   "id": "4448cfc6-6ca0-4403-836a-47b876594286",
   "metadata": {},
   "outputs": [
    {
     "data": {
      "image/png": "[encoded data removed]",
      "text/plain": [
       "<Figure size 640x480 with 1 Axes>"
      ]
     },
     "metadata": {},
     "output_type": "display_data"
    }
   ],
   "source": [
    "sb.scatterplot(x=x,y=y)\n",
    "plt.show()"
   ]
  },
  {
   "cell_type": "code",
   "execution_count": 64,
   "id": "d687e12d-b1db-433f-9881-c8ce3fd15a04",
   "metadata": {},
   "outputs": [],
   "source": [
    "# I'll narrow my DATA to begin from 1987  and ends at 2020"
   ]
  },
  {
   "cell_type": "code",
   "execution_count": 65,
   "id": "d84c8456-7058-4e4b-9084-df26668f8cd4",
   "metadata": {},
   "outputs": [],
   "source": [
    "books = books.loc[(books[\"Year-Of-Publication\"]>1987)&(books[\"Year-Of-Publication\"]<2020)]"
   ]
  },
  {
   "cell_type": "code",
   "execution_count": 66,
   "id": "e5a13d6d-70de-4198-95b2-772d6a5fc6e3",
   "metadata": {},
   "outputs": [
    {
     "name": "stdout",
     "output_type": "stream",
     "text": [
      "<class 'pandas.core.frame.DataFrame'>\n",
      "Index: 213910 entries, 0 to 271359\n",
      "Data columns (total 5 columns):\n",
      " #   Column               Non-Null Count   Dtype \n",
      "---  ------               --------------   ----- \n",
      " 0   ISBN                 213910 non-null  object\n",
      " 1   Book-Title           213910 non-null  object\n",
      " 2   Book-Author          213910 non-null  object\n",
      " 3   Year-Of-Publication  213910 non-null  Int64 \n",
      " 4   Publisher            213910 non-null  object\n",
      "dtypes: Int64(1), object(4)\n",
      "memory usage: 10.0+ MB\n"
     ]
    }
   ],
   "source": [
    "books.info()"
   ]
  },
  {
   "cell_type": "code",
   "execution_count": 67,
   "id": "8584b324-b928-42d2-b746-ca3b2888c824",
   "metadata": {},
   "outputs": [
    {
     "data": {
      "text/plain": [
       "0         2002\n",
       "1         2001\n",
       "2         1991\n",
       "3         1999\n",
       "4         1999\n",
       "          ... \n",
       "271355    1988\n",
       "271356    1991\n",
       "271357    2004\n",
       "271358    1996\n",
       "271359    2000\n",
       "Name: Year-Of-Publication, Length: 213910, dtype: Int64"
      ]
     },
     "execution_count": 67,
     "metadata": {},
     "output_type": "execute_result"
    }
   ],
   "source": [
    "books [\"Year-Of-Publication\" ]"
   ]
  },
  {
   "cell_type": "code",
   "execution_count": 68,
   "id": "2fc1674d-8658-4317-ada5-30f4c95ef249",
   "metadata": {},
   "outputs": [],
   "source": [
    "books = books.sort_values(\"Year-Of-Publication\").reset_index(drop=True)\n"
   ]
  },
  {
   "cell_type": "code",
   "execution_count": 69,
   "id": "cb61fa0f-3b5d-4315-af00-e9139d8025aa",
   "metadata": {},
   "outputs": [
    {
     "data": {
      "text/html": [
       "<div>\n",
       "<style scoped>\n",
       "    .dataframe tbody tr th:only-of-type {\n",
       "        vertical-align: middle;\n",
       "    }\n",
       "\n",
       "    .dataframe tbody tr th {\n",
       "        vertical-align: top;\n",
       "    }\n",
       "\n",
       "    .dataframe thead th {\n",
       "        text-align: right;\n",
       "    }\n",
       "</style>\n",
       "<table border=\"1\" class=\"dataframe\">\n",
       "  <thead>\n",
       "    <tr style=\"text-align: right;\">\n",
       "      <th></th>\n",
       "      <th>ISBN</th>\n",
       "      <th>Book-Title</th>\n",
       "      <th>Book-Author</th>\n",
       "      <th>Year-Of-Publication</th>\n",
       "      <th>Publisher</th>\n",
       "    </tr>\n",
       "  </thead>\n",
       "  <tbody>\n",
       "    <tr>\n",
       "      <th>0</th>\n",
       "      <td>0446310786</td>\n",
       "      <td>To Kill a Mockingbird</td>\n",
       "      <td>Harper Lee</td>\n",
       "      <td>1988</td>\n",
       "      <td>Little Brown &amp;amp; Company</td>\n",
       "    </tr>\n",
       "    <tr>\n",
       "      <th>1</th>\n",
       "      <td>0716601885</td>\n",
       "      <td>Childcraft - The How and Why Library, 1988</td>\n",
       "      <td>Inc. Staff World Book</td>\n",
       "      <td>1988</td>\n",
       "      <td>World Book, Incorporated</td>\n",
       "    </tr>\n",
       "    <tr>\n",
       "      <th>2</th>\n",
       "      <td>0062554905</td>\n",
       "      <td>The color of light: Meditations for all of us ...</td>\n",
       "      <td>Perry Tilleraas</td>\n",
       "      <td>1988</td>\n",
       "      <td>Harper &amp;amp; Row</td>\n",
       "    </tr>\n",
       "    <tr>\n",
       "      <th>3</th>\n",
       "      <td>0131283804</td>\n",
       "      <td>Cheiro's Palmistry for All: The Classic of Pal...</td>\n",
       "      <td>Chiero</td>\n",
       "      <td>1988</td>\n",
       "      <td>Fireside Books</td>\n",
       "    </tr>\n",
       "    <tr>\n",
       "      <th>4</th>\n",
       "      <td>0140096531</td>\n",
       "      <td>Eyes on the Prize: America's Civil Rights Year...</td>\n",
       "      <td>Juan Williams</td>\n",
       "      <td>1988</td>\n",
       "      <td>Penguin Books</td>\n",
       "    </tr>\n",
       "    <tr>\n",
       "      <th>5</th>\n",
       "      <td>0413179605</td>\n",
       "      <td>Shcokwave Rider</td>\n",
       "      <td>J. Brunner</td>\n",
       "      <td>1988</td>\n",
       "      <td>Arrow (A Division of Random House Group)</td>\n",
       "    </tr>\n",
       "    <tr>\n",
       "      <th>6</th>\n",
       "      <td>031201483X</td>\n",
       "      <td>A Murder of Crows</td>\n",
       "      <td>Margaret Duffy</td>\n",
       "      <td>1988</td>\n",
       "      <td>Horizon Book Promotions</td>\n",
       "    </tr>\n",
       "    <tr>\n",
       "      <th>7</th>\n",
       "      <td>0345322894</td>\n",
       "      <td>Momilies: As My Mother Used to Say</td>\n",
       "      <td>Michele Slung</td>\n",
       "      <td>1988</td>\n",
       "      <td>Ballantine Books</td>\n",
       "    </tr>\n",
       "    <tr>\n",
       "      <th>8</th>\n",
       "      <td>0446513059</td>\n",
       "      <td>The Charm School</td>\n",
       "      <td>Nelson Demille</td>\n",
       "      <td>1988</td>\n",
       "      <td>Warner Books</td>\n",
       "    </tr>\n",
       "    <tr>\n",
       "      <th>9</th>\n",
       "      <td>0006164587</td>\n",
       "      <td>A Breed of Heroes</td>\n",
       "      <td>Alan Judd</td>\n",
       "      <td>1988</td>\n",
       "      <td>HarperCollins Publishers</td>\n",
       "    </tr>\n",
       "  </tbody>\n",
       "</table>\n",
       "</div>"
      ],
      "text/plain": [
       "         ISBN                                         Book-Title  \\\n",
       "0  0446310786                              To Kill a Mockingbird   \n",
       "1  0716601885         Childcraft - The How and Why Library, 1988   \n",
       "2  0062554905  The color of light: Meditations for all of us ...   \n",
       "3  0131283804  Cheiro's Palmistry for All: The Classic of Pal...   \n",
       "4  0140096531  Eyes on the Prize: America's Civil Rights Year...   \n",
       "5  0413179605                                    Shcokwave Rider   \n",
       "6  031201483X                                  A Murder of Crows   \n",
       "7  0345322894                 Momilies: As My Mother Used to Say   \n",
       "8  0446513059                                   The Charm School   \n",
       "9  0006164587                                  A Breed of Heroes   \n",
       "\n",
       "             Book-Author  Year-Of-Publication  \\\n",
       "0             Harper Lee                 1988   \n",
       "1  Inc. Staff World Book                 1988   \n",
       "2        Perry Tilleraas                 1988   \n",
       "3                 Chiero                 1988   \n",
       "4          Juan Williams                 1988   \n",
       "5             J. Brunner                 1988   \n",
       "6         Margaret Duffy                 1988   \n",
       "7          Michele Slung                 1988   \n",
       "8         Nelson Demille                 1988   \n",
       "9              Alan Judd                 1988   \n",
       "\n",
       "                                  Publisher  \n",
       "0                Little Brown &amp; Company  \n",
       "1                  World Book, Incorporated  \n",
       "2                          Harper &amp; Row  \n",
       "3                            Fireside Books  \n",
       "4                             Penguin Books  \n",
       "5  Arrow (A Division of Random House Group)  \n",
       "6                   Horizon Book Promotions  \n",
       "7                          Ballantine Books  \n",
       "8                              Warner Books  \n",
       "9                  HarperCollins Publishers  "
      ]
     },
     "execution_count": 69,
     "metadata": {},
     "output_type": "execute_result"
    }
   ],
   "source": [
    "books.head(10)"
   ]
  },
  {
   "cell_type": "code",
   "execution_count": 70,
   "id": "983cd4b7-0622-4270-ac9e-6a2e294b2d30",
   "metadata": {},
   "outputs": [
    {
     "data": {
      "text/html": [
       "<div>\n",
       "<style scoped>\n",
       "    .dataframe tbody tr th:only-of-type {\n",
       "        vertical-align: middle;\n",
       "    }\n",
       "\n",
       "    .dataframe tbody tr th {\n",
       "        vertical-align: top;\n",
       "    }\n",
       "\n",
       "    .dataframe thead th {\n",
       "        text-align: right;\n",
       "    }\n",
       "</style>\n",
       "<table border=\"1\" class=\"dataframe\">\n",
       "  <thead>\n",
       "    <tr style=\"text-align: right;\">\n",
       "      <th></th>\n",
       "      <th>ISBN</th>\n",
       "      <th>Book-Title</th>\n",
       "      <th>Book-Author</th>\n",
       "      <th>Year-Of-Publication</th>\n",
       "      <th>Publisher</th>\n",
       "    </tr>\n",
       "  </thead>\n",
       "  <tbody>\n",
       "    <tr>\n",
       "      <th>213900</th>\n",
       "      <td>006055701X</td>\n",
       "      <td>Dancing in Red Shoes Will Kill You</td>\n",
       "      <td>Dorian Cirrone</td>\n",
       "      <td>2005</td>\n",
       "      <td>HarperCollins</td>\n",
       "    </tr>\n",
       "    <tr>\n",
       "      <th>213901</th>\n",
       "      <td>0743448987</td>\n",
       "      <td>Memoirs of an Unfit Mother</td>\n",
       "      <td>Anne Robinson</td>\n",
       "      <td>2006</td>\n",
       "      <td>Pocket Books</td>\n",
       "    </tr>\n",
       "    <tr>\n",
       "      <th>213902</th>\n",
       "      <td>0743456874</td>\n",
       "      <td>Nip 'n' Tuck : A Novel</td>\n",
       "      <td>Kathy Lette</td>\n",
       "      <td>2006</td>\n",
       "      <td>Washington Square Press</td>\n",
       "    </tr>\n",
       "    <tr>\n",
       "      <th>213903</th>\n",
       "      <td>1903436346</td>\n",
       "      <td>The Winter's Tale - Arden Shakespeare : Third ...</td>\n",
       "      <td>John Pitcher</td>\n",
       "      <td>2006</td>\n",
       "      <td>Arden</td>\n",
       "    </tr>\n",
       "    <tr>\n",
       "      <th>213904</th>\n",
       "      <td>074349346X</td>\n",
       "      <td>Angels &amp;amp; Demons : A Novel</td>\n",
       "      <td>Dan Brown</td>\n",
       "      <td>2008</td>\n",
       "      <td>Washington Square Press</td>\n",
       "    </tr>\n",
       "    <tr>\n",
       "      <th>213905</th>\n",
       "      <td>0743474198</td>\n",
       "      <td>Heartbreaker</td>\n",
       "      <td>Julie Garwood</td>\n",
       "      <td>2010</td>\n",
       "      <td>Pocket</td>\n",
       "    </tr>\n",
       "    <tr>\n",
       "      <th>213906</th>\n",
       "      <td>0743457226</td>\n",
       "      <td>Deep Waters</td>\n",
       "      <td>Jayne Ann Krentz</td>\n",
       "      <td>2010</td>\n",
       "      <td>Pocket</td>\n",
       "    </tr>\n",
       "    <tr>\n",
       "      <th>213907</th>\n",
       "      <td>0380816792</td>\n",
       "      <td>A Rose in Winter</td>\n",
       "      <td>Kathleen E. Woodiwiss</td>\n",
       "      <td>2011</td>\n",
       "      <td>Harper Mass Market Paperbacks</td>\n",
       "    </tr>\n",
       "    <tr>\n",
       "      <th>213908</th>\n",
       "      <td>0394172116</td>\n",
       "      <td>Monkey (An Evergreen Book, E-112)</td>\n",
       "      <td>Cheng-En Wu</td>\n",
       "      <td>2011</td>\n",
       "      <td>Grove Press</td>\n",
       "    </tr>\n",
       "    <tr>\n",
       "      <th>213909</th>\n",
       "      <td>0307124533</td>\n",
       "      <td>Owl's Amazing but True No. 2</td>\n",
       "      <td>Owl Magazine</td>\n",
       "      <td>2012</td>\n",
       "      <td>Golden Books</td>\n",
       "    </tr>\n",
       "  </tbody>\n",
       "</table>\n",
       "</div>"
      ],
      "text/plain": [
       "              ISBN                                         Book-Title  \\\n",
       "213900  006055701X                 Dancing in Red Shoes Will Kill You   \n",
       "213901  0743448987                         Memoirs of an Unfit Mother   \n",
       "213902  0743456874                             Nip 'n' Tuck : A Novel   \n",
       "213903  1903436346  The Winter's Tale - Arden Shakespeare : Third ...   \n",
       "213904  074349346X                      Angels &amp; Demons : A Novel   \n",
       "213905  0743474198                                       Heartbreaker   \n",
       "213906  0743457226                                        Deep Waters   \n",
       "213907  0380816792                                   A Rose in Winter   \n",
       "213908  0394172116                  Monkey (An Evergreen Book, E-112)   \n",
       "213909  0307124533                       Owl's Amazing but True No. 2   \n",
       "\n",
       "                  Book-Author  Year-Of-Publication  \\\n",
       "213900         Dorian Cirrone                 2005   \n",
       "213901          Anne Robinson                 2006   \n",
       "213902            Kathy Lette                 2006   \n",
       "213903           John Pitcher                 2006   \n",
       "213904              Dan Brown                 2008   \n",
       "213905          Julie Garwood                 2010   \n",
       "213906       Jayne Ann Krentz                 2010   \n",
       "213907  Kathleen E. Woodiwiss                 2011   \n",
       "213908            Cheng-En Wu                 2011   \n",
       "213909           Owl Magazine                 2012   \n",
       "\n",
       "                            Publisher  \n",
       "213900                  HarperCollins  \n",
       "213901                   Pocket Books  \n",
       "213902        Washington Square Press  \n",
       "213903                          Arden  \n",
       "213904        Washington Square Press  \n",
       "213905                         Pocket  \n",
       "213906                         Pocket  \n",
       "213907  Harper Mass Market Paperbacks  \n",
       "213908                    Grove Press  \n",
       "213909                   Golden Books  "
      ]
     },
     "execution_count": 70,
     "metadata": {},
     "output_type": "execute_result"
    }
   ],
   "source": [
    "books.tail(10)"
   ]
  },
  {
   "cell_type": "code",
   "execution_count": 71,
   "id": "cbc5819d-5f9b-4080-9c11-f2a9362e7727",
   "metadata": {},
   "outputs": [
    {
     "data": {
      "text/plain": [
       "count       213910.0\n",
       "mean     1996.864728\n",
       "std         4.447437\n",
       "min           1988.0\n",
       "25%           1993.0\n",
       "50%           1997.0\n",
       "75%           2001.0\n",
       "max           2012.0\n",
       "Name: Year-Of-Publication, dtype: Float64"
      ]
     },
     "execution_count": 71,
     "metadata": {},
     "output_type": "execute_result"
    }
   ],
   "source": [
    "books[\"Year-Of-Publication\"].describe()\n",
    " "
   ]
  },
  {
   "cell_type": "code",
   "execution_count": 72,
   "id": "b3a04a04-cc82-4a76-8511-84b6d911c441",
   "metadata": {},
   "outputs": [
    {
     "data": {
      "text/plain": [
       "Year-Of-Publication\n",
       "2002    17626\n",
       "1999    17430\n",
       "2001    17358\n",
       "2000    17232\n",
       "1998    15766\n",
       "1997    14890\n",
       "2003    14358\n",
       "1996    14030\n",
       "1995    13545\n",
       "1994    11796\n",
       "1993    10602\n",
       "1992     9906\n",
       "1991     9389\n",
       "1990     8660\n",
       "1989     7936\n",
       "1988     7492\n",
       "2004     5839\n",
       "2005       46\n",
       "2006        3\n",
       "2010        2\n",
       "2011        2\n",
       "2008        1\n",
       "2012        1\n",
       "Name: count, dtype: Int64"
      ]
     },
     "execution_count": 72,
     "metadata": {},
     "output_type": "execute_result"
    }
   ],
   "source": [
    "books[\"Year-Of-Publication\"].value_counts()"
   ]
  },
  {
   "cell_type": "code",
   "execution_count": 73,
   "id": "7f735a17-d391-4cd5-98f0-4ca082b10756",
   "metadata": {},
   "outputs": [
    {
     "data": {
      "image/png": "[encoded data removed]",
      "text/plain": [
       "<Figure size 640x480 with 1 Axes>"
      ]
     },
     "metadata": {},
     "output_type": "display_data"
    }
   ],
   "source": [
    "books[\"Year-Of-Publication\"].hist(bins=30)\n",
    "plt.title(\"Year of Publication - Histogram\")\n",
    "plt.show()"
   ]
  },
  {
   "cell_type": "code",
   "execution_count": 74,
   "id": "d7bc67cf-ac94-4745-8f7e-5ce434d36d06",
   "metadata": {},
   "outputs": [],
   "source": [
    "# The number of entries in table \"books\" now 213,910  instead of 271,360.\n",
    "# Year-Of-Publication is Integer and could be possible to use in aggregations and math calculations.\n",
    "# There are not NULLS or whrong values.\n",
    "# There is a unsignificant data about published bokks after 2005' thouht I'll continue mu reserch untill 2005"
   ]
  },
  {
   "cell_type": "code",
   "execution_count": 75,
   "id": "40ecbe09-e69c-438d-94db-3d95269d2288",
   "metadata": {},
   "outputs": [],
   "source": [
    "books = books.loc[(books[\"Year-Of-Publication\"]<2005)]"
   ]
  },
  {
   "cell_type": "code",
   "execution_count": 76,
   "id": "c62b50e0-f834-4c95-8991-623796a2c6a8",
   "metadata": {},
   "outputs": [
    {
     "data": {
      "image/png": "[encoded data removed]",
      "text/plain": [
       "<Figure size 640x480 with 1 Axes>"
      ]
     },
     "metadata": {},
     "output_type": "display_data"
    }
   ],
   "source": [
    "books[\"Year-Of-Publication\"].hist(bins=30)\n",
    "plt.title(\"Year of Publication - Histogram\")\n",
    "plt.show()"
   ]
  },
  {
   "cell_type": "code",
   "execution_count": 77,
   "id": "a95db99c-7b93-4fcc-b15c-b3898e76cc16",
   "metadata": {},
   "outputs": [
    {
     "name": "stdout",
     "output_type": "stream",
     "text": [
      "<class 'pandas.core.frame.DataFrame'>\n",
      "Index: 213855 entries, 0 to 213854\n",
      "Data columns (total 5 columns):\n",
      " #   Column               Non-Null Count   Dtype \n",
      "---  ------               --------------   ----- \n",
      " 0   ISBN                 213855 non-null  object\n",
      " 1   Book-Title           213855 non-null  object\n",
      " 2   Book-Author          213855 non-null  object\n",
      " 3   Year-Of-Publication  213855 non-null  Int64 \n",
      " 4   Publisher            213855 non-null  object\n",
      "dtypes: Int64(1), object(4)\n",
      "memory usage: 10.0+ MB\n"
     ]
    }
   ],
   "source": [
    "books.info()"
   ]
  },
  {
   "cell_type": "code",
   "execution_count": 78,
   "id": "5a209cae-bf2f-4973-abc0-560e8368555b",
   "metadata": {},
   "outputs": [],
   "source": [
    "# Final number of books is 213,855 "
   ]
  },
  {
   "cell_type": "code",
   "execution_count": 79,
   "id": "91f301fb-6b8b-4a38-8a56-fdc2460a1e35",
   "metadata": {},
   "outputs": [],
   "source": [
    "books.to_csv(\"books_new.csv\")"
   ]
  },
  {
   "cell_type": "code",
   "execution_count": 80,
   "id": "39ad2ab1-5628-4375-b577-53fa22f7b930",
   "metadata": {},
   "outputs": [],
   "source": [
    "# I used the ISBN list in “books_new.csv” to query Open Library and download genre data for those books.\n",
    "# I decided this data is important for further research."
   ]
  },
  {
   "cell_type": "markdown",
   "id": "677464af-3b4d-46eb-9079-e32b323396c7",
   "metadata": {},
   "source": [
    "## Books_new_Genre Table"
   ]
  },
  {
   "cell_type": "code",
   "execution_count": 81,
   "id": "ee355fec-273b-48d9-95cd-6ba0a2f3ac70",
   "metadata": {},
   "outputs": [],
   "source": [
    "book_genre=pd.read_csv(\"books_new_genre.csv\")"
   ]
  },
  {
   "cell_type": "code",
   "execution_count": 82,
   "id": "7d72624b-d088-48be-aaec-1724fb5aa3ec",
   "metadata": {},
   "outputs": [
    {
     "data": {
      "text/html": [
       "<div>\n",
       "<style scoped>\n",
       "    .dataframe tbody tr th:only-of-type {\n",
       "        vertical-align: middle;\n",
       "    }\n",
       "\n",
       "    .dataframe tbody tr th {\n",
       "        vertical-align: top;\n",
       "    }\n",
       "\n",
       "    .dataframe thead th {\n",
       "        text-align: right;\n",
       "    }\n",
       "</style>\n",
       "<table border=\"1\" class=\"dataframe\">\n",
       "  <thead>\n",
       "    <tr style=\"text-align: right;\">\n",
       "      <th></th>\n",
       "      <th>isbn13</th>\n",
       "      <th>isbn10</th>\n",
       "      <th>genre_primary</th>\n",
       "      <th>genres_all</th>\n",
       "      <th>source</th>\n",
       "    </tr>\n",
       "  </thead>\n",
       "  <tbody>\n",
       "    <tr>\n",
       "      <th>0</th>\n",
       "      <td>9780759605657</td>\n",
       "      <td>0759605653</td>\n",
       "      <td>NaN</td>\n",
       "      <td>NaN</td>\n",
       "      <td>openlibrary</td>\n",
       "    </tr>\n",
       "    <tr>\n",
       "      <th>1</th>\n",
       "      <td>9781552126547</td>\n",
       "      <td>1552126544</td>\n",
       "      <td>NaN</td>\n",
       "      <td>NaN</td>\n",
       "      <td>openlibrary</td>\n",
       "    </tr>\n",
       "    <tr>\n",
       "      <th>2</th>\n",
       "      <td>9781552126301</td>\n",
       "      <td>1552126307</td>\n",
       "      <td>NaN</td>\n",
       "      <td>NaN</td>\n",
       "      <td>openlibrary</td>\n",
       "    </tr>\n",
       "    <tr>\n",
       "      <th>3</th>\n",
       "      <td>9781550592283</td>\n",
       "      <td>1550592289</td>\n",
       "      <td>Biographies</td>\n",
       "      <td>Biographies|Biography|Enquêtes|Mass murder|Mas...</td>\n",
       "      <td>openlibrary</td>\n",
       "    </tr>\n",
       "    <tr>\n",
       "      <th>4</th>\n",
       "      <td>9780743411622</td>\n",
       "      <td>0743411625</td>\n",
       "      <td>NaN</td>\n",
       "      <td>NaN</td>\n",
       "      <td>openlibrary</td>\n",
       "    </tr>\n",
       "  </tbody>\n",
       "</table>\n",
       "</div>"
      ],
      "text/plain": [
       "          isbn13      isbn10 genre_primary  \\\n",
       "0  9780759605657  0759605653           NaN   \n",
       "1  9781552126547  1552126544           NaN   \n",
       "2  9781552126301  1552126307           NaN   \n",
       "3  9781550592283  1550592289   Biographies   \n",
       "4  9780743411622  0743411625           NaN   \n",
       "\n",
       "                                          genres_all       source  \n",
       "0                                                NaN  openlibrary  \n",
       "1                                                NaN  openlibrary  \n",
       "2                                                NaN  openlibrary  \n",
       "3  Biographies|Biography|Enquêtes|Mass murder|Mas...  openlibrary  \n",
       "4                                                NaN  openlibrary  "
      ]
     },
     "execution_count": 82,
     "metadata": {},
     "output_type": "execute_result"
    }
   ],
   "source": [
    "book_genre.head()"
   ]
  },
  {
   "cell_type": "code",
   "execution_count": 83,
   "id": "b0d2e280-2272-47ed-ae70-7b754c6b4ce4",
   "metadata": {},
   "outputs": [
    {
     "name": "stdout",
     "output_type": "stream",
     "text": [
      "<class 'pandas.core.frame.DataFrame'>\n",
      "RangeIndex: 55070 entries, 0 to 55069\n",
      "Data columns (total 5 columns):\n",
      " #   Column         Non-Null Count  Dtype \n",
      "---  ------         --------------  ----- \n",
      " 0   isbn13         55070 non-null  int64 \n",
      " 1   isbn10         55070 non-null  object\n",
      " 2   genre_primary  47312 non-null  object\n",
      " 3   genres_all     47312 non-null  object\n",
      " 4   source         55070 non-null  object\n",
      "dtypes: int64(1), object(4)\n",
      "memory usage: 2.1+ MB\n"
     ]
    }
   ],
   "source": [
    "book_genre.info()"
   ]
  },
  {
   "cell_type": "code",
   "execution_count": 84,
   "id": "7c01e998-9951-43d2-a52f-86c417b0484e",
   "metadata": {},
   "outputs": [],
   "source": [
    "# I have to check colums \"genre_primary\" and \"genres_all\" in order to decide which one to use in my research"
   ]
  },
  {
   "cell_type": "code",
   "execution_count": 85,
   "id": "da1d561c-709d-4a67-b76c-6767734e5e2d",
   "metadata": {},
   "outputs": [
    {
     "data": {
      "text/plain": [
       "9133"
      ]
     },
     "execution_count": 85,
     "metadata": {},
     "output_type": "execute_result"
    }
   ],
   "source": [
    "book_genre [\"genre_primary\"].nunique()"
   ]
  },
  {
   "cell_type": "code",
   "execution_count": 86,
   "id": "1330b553-1c4a-45c6-a0d5-3a8b51e53be4",
   "metadata": {},
   "outputs": [
    {
     "data": {
      "text/plain": [
       "np.int64(47312)"
      ]
     },
     "execution_count": 86,
     "metadata": {},
     "output_type": "execute_result"
    }
   ],
   "source": [
    "book_genre [\"genre_primary\"].notna().sum()"
   ]
  },
  {
   "cell_type": "code",
   "execution_count": 87,
   "id": "12843f8d-86f5-4542-bb26-a98997dc941e",
   "metadata": {},
   "outputs": [
    {
     "data": {
      "text/plain": [
       "37848"
      ]
     },
     "execution_count": 87,
     "metadata": {},
     "output_type": "execute_result"
    }
   ],
   "source": [
    "book_genre [\"genres_all\"].nunique()"
   ]
  },
  {
   "cell_type": "code",
   "execution_count": 88,
   "id": "c5e467db-5449-4945-aa44-cc0509f6befb",
   "metadata": {},
   "outputs": [
    {
     "data": {
      "text/plain": [
       "np.int64(47312)"
      ]
     },
     "execution_count": 88,
     "metadata": {},
     "output_type": "execute_result"
    }
   ],
   "source": [
    "book_genre [\"genre_primary\"].notna().sum()"
   ]
  },
  {
   "cell_type": "code",
   "execution_count": 89,
   "id": "9af6ab43-aa0f-4e28-a152-458817df2303",
   "metadata": {},
   "outputs": [],
   "source": [
    "# Both colums contains NULLs. Theree are less unique items in \"genre_primary\", though I'll use this column."
   ]
  },
  {
   "cell_type": "code",
   "execution_count": 90,
   "id": "8c8ceafa-5bfb-4465-b106-e57598c2183a",
   "metadata": {},
   "outputs": [],
   "source": [
    "# Now I have to find and cross isbn in books table whith genre in books_new_genre table in order to receive more details of book's list.But first.\n",
    "# I'll remove unnecessary columns."
   ]
  },
  {
   "cell_type": "code",
   "execution_count": 91,
   "id": "e5fee100-57c8-408c-a2bf-210bb2bf84fc",
   "metadata": {},
   "outputs": [],
   "source": [
    "book_genre = book_genre[[\"isbn10\",\"genre_primary\"]]"
   ]
  },
  {
   "cell_type": "code",
   "execution_count": 92,
   "id": "a11ace0f-5afe-49d3-bd23-d303f644ea13",
   "metadata": {},
   "outputs": [
    {
     "data": {
      "text/html": [
       "<div>\n",
       "<style scoped>\n",
       "    .dataframe tbody tr th:only-of-type {\n",
       "        vertical-align: middle;\n",
       "    }\n",
       "\n",
       "    .dataframe tbody tr th {\n",
       "        vertical-align: top;\n",
       "    }\n",
       "\n",
       "    .dataframe thead th {\n",
       "        text-align: right;\n",
       "    }\n",
       "</style>\n",
       "<table border=\"1\" class=\"dataframe\">\n",
       "  <thead>\n",
       "    <tr style=\"text-align: right;\">\n",
       "      <th></th>\n",
       "      <th>isbn10</th>\n",
       "      <th>genre_primary</th>\n",
       "    </tr>\n",
       "  </thead>\n",
       "  <tbody>\n",
       "    <tr>\n",
       "      <th>0</th>\n",
       "      <td>0759605653</td>\n",
       "      <td>NaN</td>\n",
       "    </tr>\n",
       "    <tr>\n",
       "      <th>1</th>\n",
       "      <td>1552126544</td>\n",
       "      <td>NaN</td>\n",
       "    </tr>\n",
       "    <tr>\n",
       "      <th>2</th>\n",
       "      <td>1552126307</td>\n",
       "      <td>NaN</td>\n",
       "    </tr>\n",
       "    <tr>\n",
       "      <th>3</th>\n",
       "      <td>1550592289</td>\n",
       "      <td>Biographies</td>\n",
       "    </tr>\n",
       "    <tr>\n",
       "      <th>4</th>\n",
       "      <td>0743411625</td>\n",
       "      <td>NaN</td>\n",
       "    </tr>\n",
       "  </tbody>\n",
       "</table>\n",
       "</div>"
      ],
      "text/plain": [
       "       isbn10 genre_primary\n",
       "0  0759605653           NaN\n",
       "1  1552126544           NaN\n",
       "2  1552126307           NaN\n",
       "3  1550592289   Biographies\n",
       "4  0743411625           NaN"
      ]
     },
     "execution_count": 92,
     "metadata": {},
     "output_type": "execute_result"
    }
   ],
   "source": [
    "book_genre.head()"
   ]
  },
  {
   "cell_type": "code",
   "execution_count": 93,
   "id": "b676ac93-eedf-4e87-8d45-6faf27fa6bab",
   "metadata": {},
   "outputs": [],
   "source": [
    "books_cross_genre=pd.merge(books,book_genre,how='outer',left_on='ISBN',right_on='isbn10')"
   ]
  },
  {
   "cell_type": "code",
   "execution_count": 94,
   "id": "603c2193-ef09-4697-a7ac-a1a9681c8bd3",
   "metadata": {},
   "outputs": [
    {
     "data": {
      "text/html": [
       "<div>\n",
       "<style scoped>\n",
       "    .dataframe tbody tr th:only-of-type {\n",
       "        vertical-align: middle;\n",
       "    }\n",
       "\n",
       "    .dataframe tbody tr th {\n",
       "        vertical-align: top;\n",
       "    }\n",
       "\n",
       "    .dataframe thead th {\n",
       "        text-align: right;\n",
       "    }\n",
       "</style>\n",
       "<table border=\"1\" class=\"dataframe\">\n",
       "  <thead>\n",
       "    <tr style=\"text-align: right;\">\n",
       "      <th></th>\n",
       "      <th>ISBN</th>\n",
       "      <th>Book-Title</th>\n",
       "      <th>Book-Author</th>\n",
       "      <th>Year-Of-Publication</th>\n",
       "      <th>Publisher</th>\n",
       "      <th>isbn10</th>\n",
       "      <th>genre_primary</th>\n",
       "    </tr>\n",
       "  </thead>\n",
       "  <tbody>\n",
       "    <tr>\n",
       "      <th>0</th>\n",
       "      <td>0001010565</td>\n",
       "      <td>Mog's Christmas</td>\n",
       "      <td>Judith Kerr</td>\n",
       "      <td>1992</td>\n",
       "      <td>Collins</td>\n",
       "      <td>NaN</td>\n",
       "      <td>NaN</td>\n",
       "    </tr>\n",
       "    <tr>\n",
       "      <th>1</th>\n",
       "      <td>0001046713</td>\n",
       "      <td>Twopence to Cross the Mersey</td>\n",
       "      <td>Helen Forrester</td>\n",
       "      <td>1992</td>\n",
       "      <td>HarperCollins Publishers</td>\n",
       "      <td>NaN</td>\n",
       "      <td>NaN</td>\n",
       "    </tr>\n",
       "    <tr>\n",
       "      <th>2</th>\n",
       "      <td>000104687X</td>\n",
       "      <td>T.S. Eliot Reading \\The Wasteland\\\" and Other ...</td>\n",
       "      <td>T.S. Eliot</td>\n",
       "      <td>1993</td>\n",
       "      <td>HarperCollins Publishers</td>\n",
       "      <td>NaN</td>\n",
       "      <td>NaN</td>\n",
       "    </tr>\n",
       "    <tr>\n",
       "      <th>3</th>\n",
       "      <td>0001046934</td>\n",
       "      <td>The Prime of Miss Jean Brodie</td>\n",
       "      <td>Muriel Spark</td>\n",
       "      <td>1999</td>\n",
       "      <td>Trafalgar Square Publishing</td>\n",
       "      <td>NaN</td>\n",
       "      <td>NaN</td>\n",
       "    </tr>\n",
       "    <tr>\n",
       "      <th>4</th>\n",
       "      <td>0001047213</td>\n",
       "      <td>The Fighting Man</td>\n",
       "      <td>Gerald Seymour</td>\n",
       "      <td>1993</td>\n",
       "      <td>HarperCollins Publishers</td>\n",
       "      <td>NaN</td>\n",
       "      <td>NaN</td>\n",
       "    </tr>\n",
       "  </tbody>\n",
       "</table>\n",
       "</div>"
      ],
      "text/plain": [
       "         ISBN                                         Book-Title  \\\n",
       "0  0001010565                                    Mog's Christmas   \n",
       "1  0001046713                       Twopence to Cross the Mersey   \n",
       "2  000104687X  T.S. Eliot Reading \\The Wasteland\\\" and Other ...   \n",
       "3  0001046934                      The Prime of Miss Jean Brodie   \n",
       "4  0001047213                                   The Fighting Man   \n",
       "\n",
       "       Book-Author  Year-Of-Publication                    Publisher isbn10  \\\n",
       "0      Judith Kerr                 1992                      Collins    NaN   \n",
       "1  Helen Forrester                 1992     HarperCollins Publishers    NaN   \n",
       "2       T.S. Eliot                 1993     HarperCollins Publishers    NaN   \n",
       "3     Muriel Spark                 1999  Trafalgar Square Publishing    NaN   \n",
       "4   Gerald Seymour                 1993     HarperCollins Publishers    NaN   \n",
       "\n",
       "  genre_primary  \n",
       "0           NaN  \n",
       "1           NaN  \n",
       "2           NaN  \n",
       "3           NaN  \n",
       "4           NaN  "
      ]
     },
     "execution_count": 94,
     "metadata": {},
     "output_type": "execute_result"
    }
   ],
   "source": [
    "books_cross_genre.head()"
   ]
  },
  {
   "cell_type": "code",
   "execution_count": 95,
   "id": "6468f660-957f-4992-afbf-c2149034ad7d",
   "metadata": {},
   "outputs": [
    {
     "name": "stdout",
     "output_type": "stream",
     "text": [
      "<class 'pandas.core.frame.DataFrame'>\n",
      "RangeIndex: 213875 entries, 0 to 213874\n",
      "Data columns (total 7 columns):\n",
      " #   Column               Non-Null Count   Dtype \n",
      "---  ------               --------------   ----- \n",
      " 0   ISBN                 213855 non-null  object\n",
      " 1   Book-Title           213855 non-null  object\n",
      " 2   Book-Author          213855 non-null  object\n",
      " 3   Year-Of-Publication  213855 non-null  Int64 \n",
      " 4   Publisher            213855 non-null  object\n",
      " 5   isbn10               55070 non-null   object\n",
      " 6   genre_primary        47312 non-null   object\n",
      "dtypes: Int64(1), object(6)\n",
      "memory usage: 11.6+ MB\n"
     ]
    }
   ],
   "source": [
    "books_cross_genre.info()"
   ]
  },
  {
   "cell_type": "code",
   "execution_count": 96,
   "id": "68f97594-06a3-4117-ba42-5635f213438a",
   "metadata": {},
   "outputs": [],
   "source": [
    "# I'll drop one of ISBN colums"
   ]
  },
  {
   "cell_type": "code",
   "execution_count": 97,
   "id": "9008f9fd-a2e4-4491-90fa-ba776e35748d",
   "metadata": {},
   "outputs": [],
   "source": [
    "books_cross_genre=books_cross_genre.drop(columns='isbn10')"
   ]
  },
  {
   "cell_type": "code",
   "execution_count": 98,
   "id": "9ab67e4d-1df7-4e0a-bf94-16b54f75a842",
   "metadata": {},
   "outputs": [
    {
     "data": {
      "text/html": [
       "<div>\n",
       "<style scoped>\n",
       "    .dataframe tbody tr th:only-of-type {\n",
       "        vertical-align: middle;\n",
       "    }\n",
       "\n",
       "    .dataframe tbody tr th {\n",
       "        vertical-align: top;\n",
       "    }\n",
       "\n",
       "    .dataframe thead th {\n",
       "        text-align: right;\n",
       "    }\n",
       "</style>\n",
       "<table border=\"1\" class=\"dataframe\">\n",
       "  <thead>\n",
       "    <tr style=\"text-align: right;\">\n",
       "      <th></th>\n",
       "      <th>ISBN</th>\n",
       "      <th>Book-Title</th>\n",
       "      <th>Book-Author</th>\n",
       "      <th>Year-Of-Publication</th>\n",
       "      <th>Publisher</th>\n",
       "      <th>genre_primary</th>\n",
       "    </tr>\n",
       "  </thead>\n",
       "  <tbody>\n",
       "    <tr>\n",
       "      <th>0</th>\n",
       "      <td>0001010565</td>\n",
       "      <td>Mog's Christmas</td>\n",
       "      <td>Judith Kerr</td>\n",
       "      <td>1992</td>\n",
       "      <td>Collins</td>\n",
       "      <td>NaN</td>\n",
       "    </tr>\n",
       "    <tr>\n",
       "      <th>1</th>\n",
       "      <td>0001046713</td>\n",
       "      <td>Twopence to Cross the Mersey</td>\n",
       "      <td>Helen Forrester</td>\n",
       "      <td>1992</td>\n",
       "      <td>HarperCollins Publishers</td>\n",
       "      <td>NaN</td>\n",
       "    </tr>\n",
       "    <tr>\n",
       "      <th>2</th>\n",
       "      <td>000104687X</td>\n",
       "      <td>T.S. Eliot Reading \\The Wasteland\\\" and Other ...</td>\n",
       "      <td>T.S. Eliot</td>\n",
       "      <td>1993</td>\n",
       "      <td>HarperCollins Publishers</td>\n",
       "      <td>NaN</td>\n",
       "    </tr>\n",
       "    <tr>\n",
       "      <th>3</th>\n",
       "      <td>0001046934</td>\n",
       "      <td>The Prime of Miss Jean Brodie</td>\n",
       "      <td>Muriel Spark</td>\n",
       "      <td>1999</td>\n",
       "      <td>Trafalgar Square Publishing</td>\n",
       "      <td>NaN</td>\n",
       "    </tr>\n",
       "    <tr>\n",
       "      <th>4</th>\n",
       "      <td>0001047213</td>\n",
       "      <td>The Fighting Man</td>\n",
       "      <td>Gerald Seymour</td>\n",
       "      <td>1993</td>\n",
       "      <td>HarperCollins Publishers</td>\n",
       "      <td>NaN</td>\n",
       "    </tr>\n",
       "  </tbody>\n",
       "</table>\n",
       "</div>"
      ],
      "text/plain": [
       "         ISBN                                         Book-Title  \\\n",
       "0  0001010565                                    Mog's Christmas   \n",
       "1  0001046713                       Twopence to Cross the Mersey   \n",
       "2  000104687X  T.S. Eliot Reading \\The Wasteland\\\" and Other ...   \n",
       "3  0001046934                      The Prime of Miss Jean Brodie   \n",
       "4  0001047213                                   The Fighting Man   \n",
       "\n",
       "       Book-Author  Year-Of-Publication                    Publisher  \\\n",
       "0      Judith Kerr                 1992                      Collins   \n",
       "1  Helen Forrester                 1992     HarperCollins Publishers   \n",
       "2       T.S. Eliot                 1993     HarperCollins Publishers   \n",
       "3     Muriel Spark                 1999  Trafalgar Square Publishing   \n",
       "4   Gerald Seymour                 1993     HarperCollins Publishers   \n",
       "\n",
       "  genre_primary  \n",
       "0           NaN  \n",
       "1           NaN  \n",
       "2           NaN  \n",
       "3           NaN  \n",
       "4           NaN  "
      ]
     },
     "execution_count": 98,
     "metadata": {},
     "output_type": "execute_result"
    }
   ],
   "source": [
    "books_cross_genre.head()"
   ]
  },
  {
   "cell_type": "code",
   "execution_count": 99,
   "id": "1f6c40e9-2555-4f52-b9a4-74de7242e23f",
   "metadata": {},
   "outputs": [
    {
     "name": "stdout",
     "output_type": "stream",
     "text": [
      "<class 'pandas.core.frame.DataFrame'>\n",
      "RangeIndex: 213875 entries, 0 to 213874\n",
      "Data columns (total 6 columns):\n",
      " #   Column               Non-Null Count   Dtype \n",
      "---  ------               --------------   ----- \n",
      " 0   ISBN                 213855 non-null  object\n",
      " 1   Book-Title           213855 non-null  object\n",
      " 2   Book-Author          213855 non-null  object\n",
      " 3   Year-Of-Publication  213855 non-null  Int64 \n",
      " 4   Publisher            213855 non-null  object\n",
      " 5   genre_primary        47312 non-null   object\n",
      "dtypes: Int64(1), object(5)\n",
      "memory usage: 10.0+ MB\n"
     ]
    }
   ],
   "source": [
    "books_cross_genre.info()"
   ]
  },
  {
   "cell_type": "code",
   "execution_count": 100,
   "id": "bfdd6ae4-d351-449e-8668-7644434d7b19",
   "metadata": {},
   "outputs": [],
   "source": [
    "# I'll replace Null in genre_primary colimn to \"No specified\" and change the name of the column to \"Genre\""
   ]
  },
  {
   "cell_type": "code",
   "execution_count": 101,
   "id": "dd9b68d9-8631-4f82-a429-b616483bf865",
   "metadata": {},
   "outputs": [],
   "source": [
    "books_cross_genre=books_cross_genre.rename(columns={\"genre_primary\":\"Genre\"})"
   ]
  },
  {
   "cell_type": "code",
   "execution_count": 102,
   "id": "42c1c443-ddfe-4348-8061-e70bce6e0fdd",
   "metadata": {},
   "outputs": [],
   "source": [
    "books_cross_genre[\"Genre\"]=books_cross_genre[\"Genre\"].fillna(\"No specified\")"
   ]
  },
  {
   "cell_type": "code",
   "execution_count": 103,
   "id": "dee14d69-240a-4e6e-bf81-1647b8c2cc06",
   "metadata": {},
   "outputs": [
    {
     "name": "stdout",
     "output_type": "stream",
     "text": [
      "<class 'pandas.core.frame.DataFrame'>\n",
      "RangeIndex: 213875 entries, 0 to 213874\n",
      "Data columns (total 6 columns):\n",
      " #   Column               Non-Null Count   Dtype \n",
      "---  ------               --------------   ----- \n",
      " 0   ISBN                 213855 non-null  object\n",
      " 1   Book-Title           213855 non-null  object\n",
      " 2   Book-Author          213855 non-null  object\n",
      " 3   Year-Of-Publication  213855 non-null  Int64 \n",
      " 4   Publisher            213855 non-null  object\n",
      " 5   Genre                213875 non-null  object\n",
      "dtypes: Int64(1), object(5)\n",
      "memory usage: 10.0+ MB\n"
     ]
    }
   ],
   "source": [
    "books_cross_genre.info()"
   ]
  },
  {
   "cell_type": "code",
   "execution_count": 104,
   "id": "8d58f240-7f68-42e9-8470-76c52687a992",
   "metadata": {},
   "outputs": [
    {
     "data": {
      "text/html": [
       "<div>\n",
       "<style scoped>\n",
       "    .dataframe tbody tr th:only-of-type {\n",
       "        vertical-align: middle;\n",
       "    }\n",
       "\n",
       "    .dataframe tbody tr th {\n",
       "        vertical-align: top;\n",
       "    }\n",
       "\n",
       "    .dataframe thead th {\n",
       "        text-align: right;\n",
       "    }\n",
       "</style>\n",
       "<table border=\"1\" class=\"dataframe\">\n",
       "  <thead>\n",
       "    <tr style=\"text-align: right;\">\n",
       "      <th></th>\n",
       "      <th>ISBN</th>\n",
       "      <th>Book-Title</th>\n",
       "      <th>Book-Author</th>\n",
       "      <th>Year-Of-Publication</th>\n",
       "      <th>Publisher</th>\n",
       "      <th>Genre</th>\n",
       "    </tr>\n",
       "  </thead>\n",
       "  <tbody>\n",
       "    <tr>\n",
       "      <th>0</th>\n",
       "      <td>0001010565</td>\n",
       "      <td>Mog's Christmas</td>\n",
       "      <td>Judith Kerr</td>\n",
       "      <td>1992</td>\n",
       "      <td>Collins</td>\n",
       "      <td>No specified</td>\n",
       "    </tr>\n",
       "    <tr>\n",
       "      <th>1</th>\n",
       "      <td>0001046713</td>\n",
       "      <td>Twopence to Cross the Mersey</td>\n",
       "      <td>Helen Forrester</td>\n",
       "      <td>1992</td>\n",
       "      <td>HarperCollins Publishers</td>\n",
       "      <td>No specified</td>\n",
       "    </tr>\n",
       "    <tr>\n",
       "      <th>2</th>\n",
       "      <td>000104687X</td>\n",
       "      <td>T.S. Eliot Reading \\The Wasteland\\\" and Other ...</td>\n",
       "      <td>T.S. Eliot</td>\n",
       "      <td>1993</td>\n",
       "      <td>HarperCollins Publishers</td>\n",
       "      <td>No specified</td>\n",
       "    </tr>\n",
       "    <tr>\n",
       "      <th>3</th>\n",
       "      <td>0001046934</td>\n",
       "      <td>The Prime of Miss Jean Brodie</td>\n",
       "      <td>Muriel Spark</td>\n",
       "      <td>1999</td>\n",
       "      <td>Trafalgar Square Publishing</td>\n",
       "      <td>No specified</td>\n",
       "    </tr>\n",
       "    <tr>\n",
       "      <th>4</th>\n",
       "      <td>0001047213</td>\n",
       "      <td>The Fighting Man</td>\n",
       "      <td>Gerald Seymour</td>\n",
       "      <td>1993</td>\n",
       "      <td>HarperCollins Publishers</td>\n",
       "      <td>No specified</td>\n",
       "    </tr>\n",
       "  </tbody>\n",
       "</table>\n",
       "</div>"
      ],
      "text/plain": [
       "         ISBN                                         Book-Title  \\\n",
       "0  0001010565                                    Mog's Christmas   \n",
       "1  0001046713                       Twopence to Cross the Mersey   \n",
       "2  000104687X  T.S. Eliot Reading \\The Wasteland\\\" and Other ...   \n",
       "3  0001046934                      The Prime of Miss Jean Brodie   \n",
       "4  0001047213                                   The Fighting Man   \n",
       "\n",
       "       Book-Author  Year-Of-Publication                    Publisher  \\\n",
       "0      Judith Kerr                 1992                      Collins   \n",
       "1  Helen Forrester                 1992     HarperCollins Publishers   \n",
       "2       T.S. Eliot                 1993     HarperCollins Publishers   \n",
       "3     Muriel Spark                 1999  Trafalgar Square Publishing   \n",
       "4   Gerald Seymour                 1993     HarperCollins Publishers   \n",
       "\n",
       "          Genre  \n",
       "0  No specified  \n",
       "1  No specified  \n",
       "2  No specified  \n",
       "3  No specified  \n",
       "4  No specified  "
      ]
     },
     "execution_count": 104,
     "metadata": {},
     "output_type": "execute_result"
    }
   ],
   "source": [
    "books_cross_genre.head()"
   ]
  },
  {
   "cell_type": "markdown",
   "id": "649c5421-d1ef-4a6b-8ba6-c447c5c15cd7",
   "metadata": {},
   "source": [
    "## Ratings Table"
   ]
  },
  {
   "cell_type": "code",
   "execution_count": 105,
   "id": "e34f8a02-110e-4f7f-b451-ab123df431e3",
   "metadata": {},
   "outputs": [
    {
     "data": {
      "text/html": [
       "<div>\n",
       "<style scoped>\n",
       "    .dataframe tbody tr th:only-of-type {\n",
       "        vertical-align: middle;\n",
       "    }\n",
       "\n",
       "    .dataframe tbody tr th {\n",
       "        vertical-align: top;\n",
       "    }\n",
       "\n",
       "    .dataframe thead th {\n",
       "        text-align: right;\n",
       "    }\n",
       "</style>\n",
       "<table border=\"1\" class=\"dataframe\">\n",
       "  <thead>\n",
       "    <tr style=\"text-align: right;\">\n",
       "      <th></th>\n",
       "      <th>User-ID</th>\n",
       "      <th>ISBN</th>\n",
       "      <th>Book-Rating</th>\n",
       "    </tr>\n",
       "  </thead>\n",
       "  <tbody>\n",
       "    <tr>\n",
       "      <th>0</th>\n",
       "      <td>276725</td>\n",
       "      <td>034545104X</td>\n",
       "      <td>0</td>\n",
       "    </tr>\n",
       "    <tr>\n",
       "      <th>1</th>\n",
       "      <td>276726</td>\n",
       "      <td>0155061224</td>\n",
       "      <td>5</td>\n",
       "    </tr>\n",
       "    <tr>\n",
       "      <th>2</th>\n",
       "      <td>276727</td>\n",
       "      <td>0446520802</td>\n",
       "      <td>0</td>\n",
       "    </tr>\n",
       "    <tr>\n",
       "      <th>3</th>\n",
       "      <td>276729</td>\n",
       "      <td>052165615X</td>\n",
       "      <td>3</td>\n",
       "    </tr>\n",
       "    <tr>\n",
       "      <th>4</th>\n",
       "      <td>276729</td>\n",
       "      <td>0521795028</td>\n",
       "      <td>6</td>\n",
       "    </tr>\n",
       "  </tbody>\n",
       "</table>\n",
       "</div>"
      ],
      "text/plain": [
       "   User-ID        ISBN  Book-Rating\n",
       "0   276725  034545104X            0\n",
       "1   276726  0155061224            5\n",
       "2   276727  0446520802            0\n",
       "3   276729  052165615X            3\n",
       "4   276729  0521795028            6"
      ]
     },
     "execution_count": 105,
     "metadata": {},
     "output_type": "execute_result"
    }
   ],
   "source": [
    "ratings.head()"
   ]
  },
  {
   "cell_type": "code",
   "execution_count": 106,
   "id": "8b4e59e5-64be-457b-a825-b5b1448490a2",
   "metadata": {},
   "outputs": [
    {
     "name": "stdout",
     "output_type": "stream",
     "text": [
      "<class 'pandas.core.frame.DataFrame'>\n",
      "RangeIndex: 1149780 entries, 0 to 1149779\n",
      "Data columns (total 3 columns):\n",
      " #   Column       Non-Null Count    Dtype \n",
      "---  ------       --------------    ----- \n",
      " 0   User-ID      1149780 non-null  int64 \n",
      " 1   ISBN         1149780 non-null  object\n",
      " 2   Book-Rating  1149780 non-null  int64 \n",
      "dtypes: int64(2), object(1)\n",
      "memory usage: 26.3+ MB\n"
     ]
    }
   ],
   "source": [
    "ratings.info()"
   ]
  },
  {
   "cell_type": "code",
   "execution_count": 107,
   "id": "e701e1ed-3e31-4298-8123-351b374487b0",
   "metadata": {},
   "outputs": [],
   "source": [
    "#  I need to join books_cross_genre with ratings on ISBN and include only books present in books_cross_genre; therefore, I’ll use an INNER JOIN"
   ]
  },
  {
   "cell_type": "code",
   "execution_count": 108,
   "id": "93775f9f-0e66-4adc-afde-b8a746220b36",
   "metadata": {},
   "outputs": [],
   "source": [
    "books_cross_genre_ratings=pd.merge (books_cross_genre,ratings, on=\"ISBN\")"
   ]
  },
  {
   "cell_type": "code",
   "execution_count": 109,
   "id": "611060f8-0209-4ae1-8f77-3ad1a55c3318",
   "metadata": {},
   "outputs": [
    {
     "data": {
      "text/html": [
       "<div>\n",
       "<style scoped>\n",
       "    .dataframe tbody tr th:only-of-type {\n",
       "        vertical-align: middle;\n",
       "    }\n",
       "\n",
       "    .dataframe tbody tr th {\n",
       "        vertical-align: top;\n",
       "    }\n",
       "\n",
       "    .dataframe thead th {\n",
       "        text-align: right;\n",
       "    }\n",
       "</style>\n",
       "<table border=\"1\" class=\"dataframe\">\n",
       "  <thead>\n",
       "    <tr style=\"text-align: right;\">\n",
       "      <th></th>\n",
       "      <th>ISBN</th>\n",
       "      <th>Book-Title</th>\n",
       "      <th>Book-Author</th>\n",
       "      <th>Year-Of-Publication</th>\n",
       "      <th>Publisher</th>\n",
       "      <th>Genre</th>\n",
       "      <th>User-ID</th>\n",
       "      <th>Book-Rating</th>\n",
       "    </tr>\n",
       "  </thead>\n",
       "  <tbody>\n",
       "    <tr>\n",
       "      <th>0</th>\n",
       "      <td>0001010565</td>\n",
       "      <td>Mog's Christmas</td>\n",
       "      <td>Judith Kerr</td>\n",
       "      <td>1992</td>\n",
       "      <td>Collins</td>\n",
       "      <td>No specified</td>\n",
       "      <td>86123</td>\n",
       "      <td>0</td>\n",
       "    </tr>\n",
       "    <tr>\n",
       "      <th>1</th>\n",
       "      <td>0001010565</td>\n",
       "      <td>Mog's Christmas</td>\n",
       "      <td>Judith Kerr</td>\n",
       "      <td>1992</td>\n",
       "      <td>Collins</td>\n",
       "      <td>No specified</td>\n",
       "      <td>209516</td>\n",
       "      <td>0</td>\n",
       "    </tr>\n",
       "    <tr>\n",
       "      <th>2</th>\n",
       "      <td>0001046713</td>\n",
       "      <td>Twopence to Cross the Mersey</td>\n",
       "      <td>Helen Forrester</td>\n",
       "      <td>1992</td>\n",
       "      <td>HarperCollins Publishers</td>\n",
       "      <td>No specified</td>\n",
       "      <td>196149</td>\n",
       "      <td>0</td>\n",
       "    </tr>\n",
       "    <tr>\n",
       "      <th>3</th>\n",
       "      <td>000104687X</td>\n",
       "      <td>T.S. Eliot Reading \\The Wasteland\\\" and Other ...</td>\n",
       "      <td>T.S. Eliot</td>\n",
       "      <td>1993</td>\n",
       "      <td>HarperCollins Publishers</td>\n",
       "      <td>No specified</td>\n",
       "      <td>23902</td>\n",
       "      <td>6</td>\n",
       "    </tr>\n",
       "    <tr>\n",
       "      <th>4</th>\n",
       "      <td>0001046934</td>\n",
       "      <td>The Prime of Miss Jean Brodie</td>\n",
       "      <td>Muriel Spark</td>\n",
       "      <td>1999</td>\n",
       "      <td>Trafalgar Square Publishing</td>\n",
       "      <td>No specified</td>\n",
       "      <td>206300</td>\n",
       "      <td>0</td>\n",
       "    </tr>\n",
       "  </tbody>\n",
       "</table>\n",
       "</div>"
      ],
      "text/plain": [
       "         ISBN                                         Book-Title  \\\n",
       "0  0001010565                                    Mog's Christmas   \n",
       "1  0001010565                                    Mog's Christmas   \n",
       "2  0001046713                       Twopence to Cross the Mersey   \n",
       "3  000104687X  T.S. Eliot Reading \\The Wasteland\\\" and Other ...   \n",
       "4  0001046934                      The Prime of Miss Jean Brodie   \n",
       "\n",
       "       Book-Author  Year-Of-Publication                    Publisher  \\\n",
       "0      Judith Kerr                 1992                      Collins   \n",
       "1      Judith Kerr                 1992                      Collins   \n",
       "2  Helen Forrester                 1992     HarperCollins Publishers   \n",
       "3       T.S. Eliot                 1993     HarperCollins Publishers   \n",
       "4     Muriel Spark                 1999  Trafalgar Square Publishing   \n",
       "\n",
       "          Genre  User-ID  Book-Rating  \n",
       "0  No specified    86123            0  \n",
       "1  No specified   209516            0  \n",
       "2  No specified   196149            0  \n",
       "3  No specified    23902            6  \n",
       "4  No specified   206300            0  "
      ]
     },
     "execution_count": 109,
     "metadata": {},
     "output_type": "execute_result"
    }
   ],
   "source": [
    "books_cross_genre_ratings.head()"
   ]
  },
  {
   "cell_type": "code",
   "execution_count": 110,
   "id": "0df6797a-b8fe-4f85-83f3-4b810442604b",
   "metadata": {},
   "outputs": [
    {
     "name": "stdout",
     "output_type": "stream",
     "text": [
      "<class 'pandas.core.frame.DataFrame'>\n",
      "RangeIndex: 883251 entries, 0 to 883250\n",
      "Data columns (total 8 columns):\n",
      " #   Column               Non-Null Count   Dtype \n",
      "---  ------               --------------   ----- \n",
      " 0   ISBN                 883251 non-null  object\n",
      " 1   Book-Title           883251 non-null  object\n",
      " 2   Book-Author          883251 non-null  object\n",
      " 3   Year-Of-Publication  883251 non-null  Int64 \n",
      " 4   Publisher            883251 non-null  object\n",
      " 5   Genre                883251 non-null  object\n",
      " 6   User-ID              883251 non-null  int64 \n",
      " 7   Book-Rating          883251 non-null  int64 \n",
      "dtypes: Int64(1), int64(2), object(5)\n",
      "memory usage: 54.8+ MB\n"
     ]
    }
   ],
   "source": [
    "books_cross_genre_ratings.info()"
   ]
  },
  {
   "cell_type": "code",
   "execution_count": 111,
   "id": "ceafa3fb-c537-42a7-8738-8aeab88bdd29",
   "metadata": {},
   "outputs": [],
   "source": [
    "# Total number of book-rates now is 883,251 because there are books with multiple ratings"
   ]
  },
  {
   "cell_type": "code",
   "execution_count": 112,
   "id": "b64f9256-d4b5-44a4-992a-ea3c12c4d263",
   "metadata": {},
   "outputs": [
    {
     "data": {
      "text/plain": [
       "ISBN\n",
       "0971880107    2502\n",
       "0316666343    1295\n",
       "0385504209     883\n",
       "0060928336     732\n",
       "0312195516     723\n",
       "              ... \n",
       "0001053744       1\n",
       "0001053736       1\n",
       "0001052039       1\n",
       "0001049879       1\n",
       "0001048473       1\n",
       "Name: count, Length: 212836, dtype: int64"
      ]
     },
     "execution_count": 112,
     "metadata": {},
     "output_type": "execute_result"
    }
   ],
   "source": [
    "books_cross_genre_ratings[\"ISBN\"].value_counts()"
   ]
  },
  {
   "cell_type": "markdown",
   "id": "cce2a67d-0122-4879-bf0c-f138dd1260c3",
   "metadata": {},
   "source": [
    "## Users Table"
   ]
  },
  {
   "cell_type": "code",
   "execution_count": 113,
   "id": "127438b9-721b-4f56-9dab-e7a94a5b5feb",
   "metadata": {},
   "outputs": [
    {
     "name": "stdout",
     "output_type": "stream",
     "text": [
      "<class 'pandas.core.frame.DataFrame'>\n",
      "RangeIndex: 278858 entries, 0 to 278857\n",
      "Data columns (total 3 columns):\n",
      " #   Column    Non-Null Count   Dtype  \n",
      "---  ------    --------------   -----  \n",
      " 0   User-ID   278858 non-null  int64  \n",
      " 1   Location  278858 non-null  object \n",
      " 2   Age       168096 non-null  float64\n",
      "dtypes: float64(1), int64(1), object(1)\n",
      "memory usage: 6.4+ MB\n"
     ]
    }
   ],
   "source": [
    "users.info()"
   ]
  },
  {
   "cell_type": "code",
   "execution_count": 114,
   "id": "22af9115-2961-4388-a696-9eb9c41f6ff2",
   "metadata": {},
   "outputs": [
    {
     "data": {
      "text/html": [
       "<div>\n",
       "<style scoped>\n",
       "    .dataframe tbody tr th:only-of-type {\n",
       "        vertical-align: middle;\n",
       "    }\n",
       "\n",
       "    .dataframe tbody tr th {\n",
       "        vertical-align: top;\n",
       "    }\n",
       "\n",
       "    .dataframe thead th {\n",
       "        text-align: right;\n",
       "    }\n",
       "</style>\n",
       "<table border=\"1\" class=\"dataframe\">\n",
       "  <thead>\n",
       "    <tr style=\"text-align: right;\">\n",
       "      <th></th>\n",
       "      <th>User-ID</th>\n",
       "      <th>Location</th>\n",
       "      <th>Age</th>\n",
       "    </tr>\n",
       "  </thead>\n",
       "  <tbody>\n",
       "    <tr>\n",
       "      <th>0</th>\n",
       "      <td>1</td>\n",
       "      <td>nyc, new york, usa</td>\n",
       "      <td>NaN</td>\n",
       "    </tr>\n",
       "    <tr>\n",
       "      <th>1</th>\n",
       "      <td>2</td>\n",
       "      <td>stockton, california, usa</td>\n",
       "      <td>18.0</td>\n",
       "    </tr>\n",
       "    <tr>\n",
       "      <th>2</th>\n",
       "      <td>3</td>\n",
       "      <td>moscow, yukon territory, russia</td>\n",
       "      <td>NaN</td>\n",
       "    </tr>\n",
       "    <tr>\n",
       "      <th>3</th>\n",
       "      <td>4</td>\n",
       "      <td>porto, v.n.gaia, portugal</td>\n",
       "      <td>17.0</td>\n",
       "    </tr>\n",
       "    <tr>\n",
       "      <th>4</th>\n",
       "      <td>5</td>\n",
       "      <td>farnborough, hants, united kingdom</td>\n",
       "      <td>NaN</td>\n",
       "    </tr>\n",
       "  </tbody>\n",
       "</table>\n",
       "</div>"
      ],
      "text/plain": [
       "   User-ID                            Location   Age\n",
       "0        1                  nyc, new york, usa   NaN\n",
       "1        2           stockton, california, usa  18.0\n",
       "2        3     moscow, yukon territory, russia   NaN\n",
       "3        4           porto, v.n.gaia, portugal  17.0\n",
       "4        5  farnborough, hants, united kingdom   NaN"
      ]
     },
     "execution_count": 114,
     "metadata": {},
     "output_type": "execute_result"
    }
   ],
   "source": [
    "users.head()"
   ]
  },
  {
   "cell_type": "code",
   "execution_count": 115,
   "id": "802e62a5-8377-4ebf-b9ae-52db90660b09",
   "metadata": {},
   "outputs": [
    {
     "data": {
      "text/plain": [
       "np.int64(0)"
      ]
     },
     "execution_count": 115,
     "metadata": {},
     "output_type": "execute_result"
    }
   ],
   "source": [
    "users[\"Location\"].isna().sum()"
   ]
  },
  {
   "cell_type": "code",
   "execution_count": 116,
   "id": "dc2dbea8-85b5-417e-97e4-cd808da50abf",
   "metadata": {},
   "outputs": [
    {
     "data": {
      "text/plain": [
       "array(['nyc, new york, usa', 'stockton, california, usa',\n",
       "       'moscow, yukon territory, russia', ...,\n",
       "       'sergnano, lombardia, italy', 'stranraer, n/a, united kingdom',\n",
       "       'tacoma, washington, united kingdom'], shape=(57339,), dtype=object)"
      ]
     },
     "execution_count": 116,
     "metadata": {},
     "output_type": "execute_result"
    }
   ],
   "source": [
    "users[\"Location\"].unique()"
   ]
  },
  {
   "cell_type": "code",
   "execution_count": 117,
   "id": "a01c4437-26be-471f-b7fd-0d95819b0fb2",
   "metadata": {},
   "outputs": [],
   "source": [
    "# Although isna() returns \"0\", but I can see in unique values not only normal characters, for example\"n/a\""
   ]
  },
  {
   "cell_type": "code",
   "execution_count": 118,
   "id": "9725b54b-cb47-4bdf-b1d6-76082f490b49",
   "metadata": {},
   "outputs": [],
   "source": [
    "# I need to extract from \"Location\" only the name of country in order to continue data analisys.\n",
    "# I'll have to cut all characters in \"Location\" from left on purpose to remain all characters from right before the last coma. "
   ]
  },
  {
   "cell_type": "code",
   "execution_count": 119,
   "id": "eb139286-1c1d-4bce-a315-37c73ae198ab",
   "metadata": {},
   "outputs": [],
   "source": [
    "users[\"Location\"]=users[\"Location\"].dropna().str.rpartition(\",\")[2].str.strip()"
   ]
  },
  {
   "cell_type": "code",
   "execution_count": 120,
   "id": "4832c9d6-ffe6-427d-849f-0e2e6b136e29",
   "metadata": {},
   "outputs": [
    {
     "data": {
      "text/plain": [
       "array(['usa', 'russia', 'portugal', 'united kingdom', 'canada', 'spain',\n",
       "       'australia', 'brazil', '', 'germany', 'mexico', 'china', 'italy',\n",
       "       'distrito federal', 'france', 'netherlands', 'iraq', 'finland',\n",
       "       'new zealand', 'india', 'ghana', 'switzerland', 'slovenia', 'iran',\n",
       "       'peru', 'bosnia and herzegovina', 'vietnam', 'sri lanka',\n",
       "       'pakistan', 'denmark', 'belgium', 'malaysia', 'u.a.e', 'turkey',\n",
       "       'philippines', 'greece', 'colombia', 'norway', 'kuwait', 'chile',\n",
       "       'quit', 'lj', 'taiwan', 'denmark\"', 'españa', 'sweden',\n",
       "       'argentina', 'nigeria', 'london', 'bulgaria', 'austria', 'romania',\n",
       "       'singapore', 'albania', 'egypt', 'tunisia', 'uzbekistan', 'qatar',\n",
       "       'syria', 'saudi arabia', 'indonesia', 'sudan', 'somewherein space',\n",
       "       'poland', 'thailand', 'ireland', 'malaysia\"', 'venezuela',\n",
       "       'paraguay', 'mozambique', 'morocco', 'afghanistan', 'estonia',\n",
       "       'clackamas', 'spain\"', '\"', 'lesotho', 'yugoslavia', 'slovakia',\n",
       "       'costa rica', 'basque country', 'british virgin islands',\n",
       "       'ethiopia', 'croatia', 'united kingdom\"', 'portugal\"', 'israel',\n",
       "       'japan', 'israel\"', 'iceland', 'the', 'south africa', 'iran\"',\n",
       "       'cuba', 'antigua and barbuda', 'calabria', 'alderney',\n",
       "       'puerto rico', 'hong kong', 'nigeria\"', 'latvia', 'jersey',\n",
       "       'germany\"', 'luxembourg', 'belarus', 'cape verde\"', 'lithuania',\n",
       "       'guyana', 'scotland', 'n/a', 'jordan', 'la argentina', 'angola',\n",
       "       'algeria', 'andorra', 'kyrgyzstan', 'panama', 'csa', 'ecuador',\n",
       "       'phils', 'kazakhstan', 'dominican republic', 'turkey\"', 'brunei',\n",
       "       'bangladesh', 'monterrey', 'bahrain', 'united arab emirates',\n",
       "       'urugua', 'uruguay', 'l`italia', 'finland\"', 'honduras', 'georgia',\n",
       "       'dominica', 'malta', 'india\"', 'faroe islands', 'east africa',\n",
       "       'france\"', 'sierra leone', 'guatemala', 'mali', 'czech republic',\n",
       "       'space', 'romania\"', 'south korea', 'rwanda',\n",
       "       'trinidad and tobago', 'norway\"', 'yemen', 'cyprus',\n",
       "       'the philippines', 'öð¹ú', 'la france', 'eritrea', 'bahamas',\n",
       "       'cameroon', 'nicaragua', 'zambia', 'bolivia', 'maroc', 'isreal',\n",
       "       'belize', 'fernando de la mora', 'namibia', 'macedonia',\n",
       "       'argentina\"', 'botswana', 'queenspark', 'monaco', 'samoa',\n",
       "       'brasil', '19104', 'guernsey', 'euskal herria', 'bermuda',\n",
       "       'barbados', 'trinidad', 'england', 'armenia', 'hungary',\n",
       "       'deutschland', 'netherlands\"', 'austria\"', 'cayman islands',\n",
       "       'ukraine', 'sweden\"', 'new zealand\"', 'minnehaha', 'azerbaijan',\n",
       "       'galiza', 'de', 'switzerland\"', 'suriname', 'doodedoo', 'jamaica',\n",
       "       'caribbean sea', '&#32654;&#22269;', 'u.s. virgin islands',\n",
       "       'u.s. of a.', 'afganstand holla !!', 'catalunya', 'kosovo',\n",
       "       'serbia & montenegro', 'somalia', 'moldova', 'pakistan.',\n",
       "       'bangladesh\"', '-------', 'trinidad & tobago', 'tanzania', 'burma',\n",
       "       'uk', 'ghana\"', 'turkei', 'ksa', 'tajikistan', 'nepal',\n",
       "       'sri lanka\\\\\"n/a\\\\\"\"', 'valtesse', 'lebanon', 'cote d`ivoire',\n",
       "       'maldives', 'catalunya(catalonia)', 'mã?â©xico', 'nederlands',\n",
       "       'tdzimi', 'peru\"', 'hong kong\"', 'oman',\n",
       "       'saint vincent and the grenadines\"', 'lleida', 'antarctica',\n",
       "       'itlay', 'u.s.a.', 'palau', 'belgique',\n",
       "       'st. vincent and the grenadines', 'deutsches reich', 'catalonia',\n",
       "       'micronesia', 'kenya', 'collin', 'zhengjiang', 'grenada', 'bhutan',\n",
       "       'baxter', 'guinea-bissau', 'cote d`ivoire\"', 'evil empire',\n",
       "       'wales', 'mongolia', 'hennipen', 'equatorial geuinea', 'italy\"',\n",
       "       'italia', 'rice', 'good old usa !', 'philippines\"', 'polska',\n",
       "       'missouri', 'goteborg', 'united states', 'senegal', 'bbbzzzzz',\n",
       "       'saint lucia', 'zimbabwe', 'cass', 'baltimore', 'hampden',\n",
       "       'thailand\"', 'ust', 'ama lurra', 'polk', 'hamilton', 'fiji',\n",
       "       'bernalillo', 'effingham', 'lake', 'catalunya spain', '*',\n",
       "       'windham', 'belgium\"', 'ireland\"', 'papua new guinea',\n",
       "       'costa rica\"', 'laos', 'slovakia\"', 'united stated',\n",
       "       'the great white north', 'brazil\"',\n",
       "       'saint vincent and the grenadines', 'burkina faso', 'philippine',\n",
       "       'auckland', '?ú?{', 'c', 'gabon', 'pasco',\n",
       "       'united states of america', 'ferrara', 'morgan', 'milano',\n",
       "       'europe', 'slo', 'lkjlj', 'north korea', 'marrion',\n",
       "       'commonwealth of northern mariana islands', 'mauritius', 'benin',\n",
       "       'colombia\"', 'cnina', 'holy see', 'haiti', 'cn', 'holland',\n",
       "       'jackson', 'cherokee', 'espaã?â±a', 'lazio', 'dekalb',\n",
       "       'la belgique', 'maricopa', 'n/a - on the road', 'ua', 'chile\"',\n",
       "       'algérie', 'san marino', 'nrw', 'nyhamnsläge', 'egypt\"', 'aruba',\n",
       "       'richmond country', 'srilanka', 'el salvador', 'slovenia\"',\n",
       "       'republic of korea', 'luxembourg\"', 'côte d', 'saint loius',\n",
       "       'croatia\"', 'greece\"', 'framingham', 'monroe', 'hornyonic',\n",
       "       'ouranos', 'san bernardino', 'nyc', 'united kindgonm', 'ee.uu',\n",
       "       'here and there', 'malawi', 'channel islands', 'espaã±a',\n",
       "       'solomon islands', 'washtenaw', 'libya', 'universe', 'az',\n",
       "       'suisse', 'uganda', 'la chine éternelle !', 'iceland\"', 'macau',\n",
       "       'frome', 'brunei darussalam', 'netherlands antilles', 'niger',\n",
       "       'cape town', 'st. helena', 'sultanate of oman', 'aroostook',\n",
       "       'fredonia - land of the brave and free', 'china\"', 'chad',\n",
       "       'la chine éternelle!', 'fifi', 'djibouti', 'america',\n",
       "       'prince william', 'bademn würtemberg', 'marshall islands',\n",
       "       'la suisse', 'gb', 'worcester', 'wood', 'rmi', 'hongkong',\n",
       "       'heaven', 'serbia', 'méxico', 'poland\"', 'cape verde', 'congo',\n",
       "       'osceola', 'van wert', 'deutschland\"', '87510', 'ä¸\\xadå?½',\n",
       "       'lornsenland', 'hungary\"', 'saudia arabia', 'dublin', 'pr', 'none',\n",
       "       'p.r.china', 'liberia', 'usa & canada', 'carter', 'myanmar',\n",
       "       'rapides', 'american samoa', 'essex', 'sao tome and principe\"',\n",
       "       '-', 'vietnam\"', 'aaa', 'can', 'sicilia', 'sri lanka\"', 'english',\n",
       "       'singapore/united kingdom', 'nowhere', 'scotland\"', 'alachua',\n",
       "       'macedonia\"', 'china öð¹ú', 'czech republic\"', 'lombardia',\n",
       "       'cambodia', 'vanuatu', 'turkmenistan', 'mérida',\n",
       "       'antigua & barbuda', 'hillsborough', 'my', 'greece (=hellas)',\n",
       "       'isle of man', 'san franicsco', 'u.s>', 'u.s.a!', '02458',\n",
       "       '5057chadwick ct.', 'the netherlands', 'south korea\"',\n",
       "       'far away...', 'us', 'travelling', 'togo', 'belgi', 'pinallas',\n",
       "       'sudan\"', 'guatemala\"', 'id', 'k1c7b1', 'orense', 'rutherford',\n",
       "       'pa', 'bell', 'country', 'australia\"', 'serbia and montenegro',\n",
       "       'mexico\"', '.', 'camden', 'dfg', 'chian', 'strongbadia', 'bfe',\n",
       "       'liaoning', 'united statea', 'china people`s republic', 'italien',\n",
       "       'clinton', 'ventura county', 'berguedà', 'basilicata', 'diy',\n",
       "       'ysa', 'lawrenceville', 'input error', 'bladen', 'sardegna',\n",
       "       'thailoand', 'rosario', 'the world tomorrow', 'perãº', 'u.s.a>',\n",
       "       'in your heart', 'aotearoa', 'burkinafasu', 'adsgfdr', 'henry',\n",
       "       'kz', 'singapore\"', 'good old u.s.a.', 'united stated of america',\n",
       "       'unit', 'rosello', 'granville', 'england uk',\n",
       "       'trinidad and tobago\"', 'petrolwar nation', 'guam', 'new london',\n",
       "       'harvatija', '23232', 'copenhagen', 'burma\"', 'canda', 'prc',\n",
       "       'phippines', 'jamaica\"', 'sardinia', 'u', 'oakland', 'lecce',\n",
       "       'u k', 'moçambique', 'andorra\"', 'ventura', 'newzealand', 'europa',\n",
       "       'shelby', 'p.r. china', 'malaysian', 'usa\"', 'fred',\n",
       "       'usa (currently living in england)', 'tonga', 'roma', 'indiai',\n",
       "       'cook', 'mordor', 'l`algérie', 'z', 'u.', 'fontana', 'kiribati',\n",
       "       'australii', 'u.a.e\"', 'libya\"', 'uganda\"', 'ukrain',\n",
       "       'onondaga nation', '_ brasil', 'mauritius\"', 'united kindgdom',\n",
       "       'hungary and usa', 'queensland', 'cananda', 'pakistan\"',\n",
       "       'austbritania', 'united state', 'solano', 'unite states', 'vorce',\n",
       "       'c.a.', 'pender', 'la chine eternelle!', 'vicenza', 'p.r.c',\n",
       "       'xxxxxx', 'espanha / galiza', 'maracopa', 'palestine', 'il canada',\n",
       "       'republic of panama', 'phila', 'guinea', 'rsa', 'neverland',\n",
       "       'west yorkshire', 'smith', 'pueblo', 'northern ireland', 'pippo',\n",
       "       'türkiye', 'california', 'indonesia\"', 'uyo', 'spotsylvania',\n",
       "       'der', 'swaziland', 'livingston', 's.corea', 'h.u.g.', 'ussurfing',\n",
       "       'phillipines', 'bosnia', 'exactly where i am', 'cadd0', 'euskadi',\n",
       "       'canada eh', 'l', 'le canada', 'korea', 'nh', 'uae', 'yanhill',\n",
       "       'wonderful usa', 'burlington', 'uusa', 'madagascar',\n",
       "       'rep san marino', 'swazilandia', 'u.k.', 'johnson', 'maine',\n",
       "       '30064', 'buncombe', 'bucks', 'santa barbara', 'trinidad/tobago.',\n",
       "       'houston', 'slovak republik', 'fortaleza', 'in', 'pistlavakia',\n",
       "       'bavaria', 's.africa', 'sao tome and principe', 'europe.',\n",
       "       'saint kitts and nevis', 'palm beach', 'philippinies',\n",
       "       'north carolina', 'los estados unidos de norte america',\n",
       "       'russian federation', 'courtenay', 'mauritania', 'lee', 'comoros',\n",
       "       'hidalgo', 'morocco\"', 'xinyu', 'lithuania\"', 'orange co', 'texas',\n",
       "       'baden-württemberg', '\\\\n/a\\\\\"\"', 'unknown', 'a', 'san mateo',\n",
       "       'davidson', 'saint luica', '85021', 'tobago', 'vatican city',\n",
       "       'ohio', 'venezuela\"', 'whatcom', 'nz', 'madrid', 'toscana',\n",
       "       'st. clair', 'butler', 'allen', 'autralia', 'fairyland',\n",
       "       'we`re global!', 'thing', 'ahrensburg', 'kern', 'tanzania\"',\n",
       "       'disgruntled states of america', 'cape may', 'the gambia',\n",
       "       'españa\"', 'united sates', '\\\\\"n/a\\\\\"\"', 'tyrtyrt', 'mozambique\"',\n",
       "       'liushi', 'bih', 'w. malaysia', 'st.thomasi', 'fort bend',\n",
       "       'geermany', 'fulton', 'le madagascar', 'yakima', 'no more',\n",
       "       'dauphin', 'everywhere and anywhere', 'p r china', 'citrus.',\n",
       "       '01776', 'home of the van!!', 'people`s republic of china', 'lane',\n",
       "       'x', 'chinaöð¹ú', 'galiza neghra', 'united staes', 'asturies',\n",
       "       'nl', '&#20013;&#22269;', 'germay', 'yunling', 'rep. san marino',\n",
       "       'r.o.c.', 'victoria', 'bkk', 'la svizzera', 'hernando',\n",
       "       'united kingdom.'], dtype=object)"
      ]
     },
     "execution_count": 120,
     "metadata": {},
     "output_type": "execute_result"
    }
   ],
   "source": [
    "\n",
    "users[\"Location\"].unique()"
   ]
  },
  {
   "cell_type": "code",
   "execution_count": 121,
   "id": "93ee3533-be86-47e6-8eba-edae9a64c38c",
   "metadata": {},
   "outputs": [],
   "source": [
    "# The list of countries is very \"dirty\", with values that are not countries.\n",
    "# I assume that all kinds of wrong doesn't come in big numbers.\n",
    "# So I'll filter and continue only with rows that appear more than 100 times "
   ]
  },
  {
   "cell_type": "code",
   "execution_count": 122,
   "id": "6694922a-a371-4692-89a5-4b9eaf261f0f",
   "metadata": {},
   "outputs": [],
   "source": [
    "vc=users[\"Location\"].value_counts()"
   ]
  },
  {
   "cell_type": "code",
   "execution_count": 123,
   "id": "0be96f5b-32cc-493d-ba04-51878dc4d186",
   "metadata": {},
   "outputs": [],
   "source": [
    "valid=vc[vc>100].index"
   ]
  },
  {
   "cell_type": "code",
   "execution_count": 124,
   "id": "73d9e6f9-8d8b-4680-8351-c72b2c7ae8f9",
   "metadata": {},
   "outputs": [],
   "source": [
    "users=users.loc[users[\"Location\"].isin(valid)]"
   ]
  },
  {
   "cell_type": "code",
   "execution_count": 125,
   "id": "85358387-6f45-4364-abea-44927d4936ff",
   "metadata": {},
   "outputs": [
    {
     "data": {
      "text/plain": [
       "array(['usa', 'russia', 'portugal', 'united kingdom', 'canada', 'spain',\n",
       "       'australia', 'brazil', '', 'germany', 'mexico', 'china', 'italy',\n",
       "       'france', 'netherlands', 'finland', 'new zealand', 'india',\n",
       "       'switzerland', 'slovenia', 'iran', 'peru', 'vietnam', 'pakistan',\n",
       "       'denmark', 'belgium', 'malaysia', 'turkey', 'philippines',\n",
       "       'greece', 'colombia', 'norway', 'chile', 'taiwan', 'sweden',\n",
       "       'argentina', 'nigeria', 'bulgaria', 'austria', 'romania',\n",
       "       'singapore', 'egypt', 'indonesia', 'poland', 'ireland',\n",
       "       'venezuela', 'spain\"', 'yugoslavia', 'slovakia', 'costa rica',\n",
       "       'croatia', 'israel', 'japan', 'south africa', 'hong kong',\n",
       "       'luxembourg', 'czech republic', 'south korea'], dtype=object)"
      ]
     },
     "execution_count": 125,
     "metadata": {},
     "output_type": "execute_result"
    }
   ],
   "source": [
    "users[\"Location\"].unique()"
   ]
  },
  {
   "cell_type": "code",
   "execution_count": 126,
   "id": "91a2c0b7-84a2-4975-863b-31a6ad48ecf0",
   "metadata": {},
   "outputs": [
    {
     "data": {
      "text/plain": [
       "Location      \n",
       "usa               139711\n",
       "canada             21658\n",
       "united kingdom     18538\n",
       "germany            17043\n",
       "spain              13147\n",
       "australia          11784\n",
       "italy              11266\n",
       "                    4578\n",
       "france              3455\n",
       "portugal            3325\n",
       "new zealand         3097\n",
       "netherlands         3025\n",
       "switzerland         1745\n",
       "brazil              1674\n",
       "china               1488\n",
       "sweden              1406\n",
       "india               1290\n",
       "austria             1136\n",
       "malaysia            1119\n",
       "argentina           1083\n",
       "singapore            925\n",
       "finland              923\n",
       "mexico               840\n",
       "belgium              819\n",
       "denmark              805\n",
       "ireland              753\n",
       "philippines          743\n",
       "turkey               490\n",
       "poland               454\n",
       "pakistan             442\n",
       "greece               421\n",
       "iran                 396\n",
       "romania              357\n",
       "chile                357\n",
       "israel               345\n",
       "south africa         330\n",
       "indonesia            305\n",
       "norway               289\n",
       "japan                272\n",
       "croatia              246\n",
       "nigeria              229\n",
       "south korea          224\n",
       "slovakia             214\n",
       "czech republic       199\n",
       "yugoslavia           178\n",
       "russia               178\n",
       "hong kong            170\n",
       "taiwan               166\n",
       "costa rica           166\n",
       "slovenia             142\n",
       "peru                 140\n",
       "vietnam              139\n",
       "egypt                139\n",
       "venezuela            139\n",
       "bulgaria             133\n",
       "colombia             132\n",
       "spain\"               111\n",
       "luxembourg           104\n",
       "Name: count, dtype: int64"
      ]
     },
     "execution_count": 126,
     "metadata": {},
     "output_type": "execute_result"
    }
   ],
   "source": [
    "users[[\"Location\"]].value_counts()"
   ]
  },
  {
   "cell_type": "code",
   "execution_count": 127,
   "id": "8b18ded4-5d3b-4cf7-935f-9e8fcee5fa00",
   "metadata": {},
   "outputs": [],
   "source": [
    "# I see  4,578 empty values. I'll replace it with \"No specified\""
   ]
  },
  {
   "cell_type": "code",
   "execution_count": 128,
   "id": "77f63a99-6c7a-41d0-9b94-57802ac4314a",
   "metadata": {},
   "outputs": [],
   "source": [
    "users.loc[:, \"Location\"] = users[\"Location\"].replace(\"\", \"No specified\")\n"
   ]
  },
  {
   "cell_type": "code",
   "execution_count": 129,
   "id": "11fbf94b-76a5-427a-bb99-875b8449aae9",
   "metadata": {},
   "outputs": [],
   "source": [
    "#I will change counties name with capital letter in the begining"
   ]
  },
  {
   "cell_type": "code",
   "execution_count": 130,
   "id": "ca33f9b9-adcd-4c0d-a40d-b13584af95bf",
   "metadata": {},
   "outputs": [],
   "source": [
    "users = users.copy()\n",
    "users[\"Location\"]=users[\"Location\"].str.title()"
   ]
  },
  {
   "cell_type": "code",
   "execution_count": 131,
   "id": "5b59f647-7986-4938-8e06-79503804489f",
   "metadata": {},
   "outputs": [],
   "source": [
    "# I want to add column \"Continent\", supose it will be more useful than Country for futher calcuation and vizualization"
   ]
  },
  {
   "cell_type": "code",
   "execution_count": 132,
   "id": "1acb1045-c203-4e02-a817-c422d3fd9b21",
   "metadata": {},
   "outputs": [],
   "source": [
    "users[\"Location\"].drop_duplicates().to_csv(\"Countries.csv\", index=False)\n"
   ]
  },
  {
   "cell_type": "code",
   "execution_count": 133,
   "id": "5917dc8a-e334-4070-af86-7875b5695666",
   "metadata": {},
   "outputs": [
    {
     "data": {
      "text/html": [
       "<div>\n",
       "<style scoped>\n",
       "    .dataframe tbody tr th:only-of-type {\n",
       "        vertical-align: middle;\n",
       "    }\n",
       "\n",
       "    .dataframe tbody tr th {\n",
       "        vertical-align: top;\n",
       "    }\n",
       "\n",
       "    .dataframe thead th {\n",
       "        text-align: right;\n",
       "    }\n",
       "</style>\n",
       "<table border=\"1\" class=\"dataframe\">\n",
       "  <thead>\n",
       "    <tr style=\"text-align: right;\">\n",
       "      <th></th>\n",
       "      <th>User-ID</th>\n",
       "      <th>Location</th>\n",
       "      <th>Age</th>\n",
       "    </tr>\n",
       "  </thead>\n",
       "  <tbody>\n",
       "    <tr>\n",
       "      <th>0</th>\n",
       "      <td>1</td>\n",
       "      <td>Usa</td>\n",
       "      <td>NaN</td>\n",
       "    </tr>\n",
       "    <tr>\n",
       "      <th>1</th>\n",
       "      <td>2</td>\n",
       "      <td>Usa</td>\n",
       "      <td>18.0</td>\n",
       "    </tr>\n",
       "    <tr>\n",
       "      <th>2</th>\n",
       "      <td>3</td>\n",
       "      <td>Russia</td>\n",
       "      <td>NaN</td>\n",
       "    </tr>\n",
       "    <tr>\n",
       "      <th>3</th>\n",
       "      <td>4</td>\n",
       "      <td>Portugal</td>\n",
       "      <td>17.0</td>\n",
       "    </tr>\n",
       "    <tr>\n",
       "      <th>4</th>\n",
       "      <td>5</td>\n",
       "      <td>United Kingdom</td>\n",
       "      <td>NaN</td>\n",
       "    </tr>\n",
       "  </tbody>\n",
       "</table>\n",
       "</div>"
      ],
      "text/plain": [
       "   User-ID        Location   Age\n",
       "0        1             Usa   NaN\n",
       "1        2             Usa  18.0\n",
       "2        3          Russia   NaN\n",
       "3        4        Portugal  17.0\n",
       "4        5  United Kingdom   NaN"
      ]
     },
     "execution_count": 133,
     "metadata": {},
     "output_type": "execute_result"
    }
   ],
   "source": [
    "users.head()"
   ]
  },
  {
   "cell_type": "code",
   "execution_count": 134,
   "id": "ba95b130-c10d-4646-9059-fbc6c9af6ee2",
   "metadata": {},
   "outputs": [],
   "source": [
    "continent=pd.read_csv(\"countries&continents.csv\")"
   ]
  },
  {
   "cell_type": "code",
   "execution_count": 135,
   "id": "e9b4f297-4c51-4e68-b400-300cb64f0fb3",
   "metadata": {},
   "outputs": [
    {
     "data": {
      "text/html": [
       "<div>\n",
       "<style scoped>\n",
       "    .dataframe tbody tr th:only-of-type {\n",
       "        vertical-align: middle;\n",
       "    }\n",
       "\n",
       "    .dataframe tbody tr th {\n",
       "        vertical-align: top;\n",
       "    }\n",
       "\n",
       "    .dataframe thead th {\n",
       "        text-align: right;\n",
       "    }\n",
       "</style>\n",
       "<table border=\"1\" class=\"dataframe\">\n",
       "  <thead>\n",
       "    <tr style=\"text-align: right;\">\n",
       "      <th></th>\n",
       "      <th>Country</th>\n",
       "      <th>Continent</th>\n",
       "    </tr>\n",
       "  </thead>\n",
       "  <tbody>\n",
       "    <tr>\n",
       "      <th>0</th>\n",
       "      <td>Usa</td>\n",
       "      <td>North America</td>\n",
       "    </tr>\n",
       "    <tr>\n",
       "      <th>1</th>\n",
       "      <td>Russia</td>\n",
       "      <td>Europe</td>\n",
       "    </tr>\n",
       "    <tr>\n",
       "      <th>2</th>\n",
       "      <td>Portugal</td>\n",
       "      <td>Europe</td>\n",
       "    </tr>\n",
       "    <tr>\n",
       "      <th>3</th>\n",
       "      <td>United Kingdom</td>\n",
       "      <td>Europe</td>\n",
       "    </tr>\n",
       "    <tr>\n",
       "      <th>4</th>\n",
       "      <td>Canada</td>\n",
       "      <td>North America</td>\n",
       "    </tr>\n",
       "  </tbody>\n",
       "</table>\n",
       "</div>"
      ],
      "text/plain": [
       "          Country      Continent\n",
       "0             Usa  North America\n",
       "1          Russia         Europe\n",
       "2        Portugal         Europe\n",
       "3  United Kingdom         Europe\n",
       "4          Canada  North America"
      ]
     },
     "execution_count": 135,
     "metadata": {},
     "output_type": "execute_result"
    }
   ],
   "source": [
    "continent.head()"
   ]
  },
  {
   "cell_type": "code",
   "execution_count": 136,
   "id": "6238e190-b0c2-4c7d-ab3d-4d5b78b896cd",
   "metadata": {},
   "outputs": [],
   "source": [
    "users_upgraded=pd.merge(users,continent,left_on=\"Location\",right_on=\"Country\")"
   ]
  },
  {
   "cell_type": "code",
   "execution_count": 137,
   "id": "3839c94b-7ac8-4281-b3f3-6d628015509c",
   "metadata": {},
   "outputs": [
    {
     "data": {
      "text/html": [
       "<div>\n",
       "<style scoped>\n",
       "    .dataframe tbody tr th:only-of-type {\n",
       "        vertical-align: middle;\n",
       "    }\n",
       "\n",
       "    .dataframe tbody tr th {\n",
       "        vertical-align: top;\n",
       "    }\n",
       "\n",
       "    .dataframe thead th {\n",
       "        text-align: right;\n",
       "    }\n",
       "</style>\n",
       "<table border=\"1\" class=\"dataframe\">\n",
       "  <thead>\n",
       "    <tr style=\"text-align: right;\">\n",
       "      <th></th>\n",
       "      <th>User-ID</th>\n",
       "      <th>Location</th>\n",
       "      <th>Age</th>\n",
       "      <th>Country</th>\n",
       "      <th>Continent</th>\n",
       "    </tr>\n",
       "  </thead>\n",
       "  <tbody>\n",
       "    <tr>\n",
       "      <th>0</th>\n",
       "      <td>1</td>\n",
       "      <td>Usa</td>\n",
       "      <td>NaN</td>\n",
       "      <td>Usa</td>\n",
       "      <td>North America</td>\n",
       "    </tr>\n",
       "    <tr>\n",
       "      <th>1</th>\n",
       "      <td>2</td>\n",
       "      <td>Usa</td>\n",
       "      <td>18.0</td>\n",
       "      <td>Usa</td>\n",
       "      <td>North America</td>\n",
       "    </tr>\n",
       "    <tr>\n",
       "      <th>2</th>\n",
       "      <td>3</td>\n",
       "      <td>Russia</td>\n",
       "      <td>NaN</td>\n",
       "      <td>Russia</td>\n",
       "      <td>Europe</td>\n",
       "    </tr>\n",
       "    <tr>\n",
       "      <th>3</th>\n",
       "      <td>4</td>\n",
       "      <td>Portugal</td>\n",
       "      <td>17.0</td>\n",
       "      <td>Portugal</td>\n",
       "      <td>Europe</td>\n",
       "    </tr>\n",
       "    <tr>\n",
       "      <th>4</th>\n",
       "      <td>5</td>\n",
       "      <td>United Kingdom</td>\n",
       "      <td>NaN</td>\n",
       "      <td>United Kingdom</td>\n",
       "      <td>Europe</td>\n",
       "    </tr>\n",
       "  </tbody>\n",
       "</table>\n",
       "</div>"
      ],
      "text/plain": [
       "   User-ID        Location   Age         Country      Continent\n",
       "0        1             Usa   NaN             Usa  North America\n",
       "1        2             Usa  18.0             Usa  North America\n",
       "2        3          Russia   NaN          Russia         Europe\n",
       "3        4        Portugal  17.0        Portugal         Europe\n",
       "4        5  United Kingdom   NaN  United Kingdom         Europe"
      ]
     },
     "execution_count": 137,
     "metadata": {},
     "output_type": "execute_result"
    }
   ],
   "source": [
    "users_upgraded.head()"
   ]
  },
  {
   "cell_type": "code",
   "execution_count": 138,
   "id": "53294615-80b1-4b30-aa74-e39da09ea6a4",
   "metadata": {},
   "outputs": [],
   "source": [
    "users_upgraded=users_upgraded.drop (columns=\"Location\")"
   ]
  },
  {
   "cell_type": "code",
   "execution_count": 139,
   "id": "7d1af4d9-5c95-4cbe-b3a5-479b309edc11",
   "metadata": {},
   "outputs": [
    {
     "name": "stdout",
     "output_type": "stream",
     "text": [
      "<class 'pandas.core.frame.DataFrame'>\n",
      "RangeIndex: 285963 entries, 0 to 285962\n",
      "Data columns (total 4 columns):\n",
      " #   Column     Non-Null Count   Dtype  \n",
      "---  ------     --------------   -----  \n",
      " 0   User-ID    285963 non-null  int64  \n",
      " 1   Age        176921 non-null  float64\n",
      " 2   Country    285963 non-null  object \n",
      " 3   Continent  285963 non-null  object \n",
      "dtypes: float64(1), int64(1), object(2)\n",
      "memory usage: 8.7+ MB\n"
     ]
    }
   ],
   "source": [
    "users_upgraded.info()"
   ]
  },
  {
   "cell_type": "code",
   "execution_count": 140,
   "id": "0620bc6a-4725-464f-a337-f41d41ed891f",
   "metadata": {},
   "outputs": [
    {
     "data": {
      "text/plain": [
       "array(['North America', 'Europe', 'Australia', 'South America', 'Unknown',\n",
       "       'Asia', 'Africa'], dtype=object)"
      ]
     },
     "execution_count": 140,
     "metadata": {},
     "output_type": "execute_result"
    }
   ],
   "source": [
    "users_upgraded[\"Continent\"].unique()"
   ]
  },
  {
   "cell_type": "code",
   "execution_count": 141,
   "id": "e02af747-9cad-4267-97cd-5ba32cb48107",
   "metadata": {},
   "outputs": [],
   "source": [
    "users_upgraded=users_upgraded.rename(columns={\"Location\":\"Country\"})"
   ]
  },
  {
   "cell_type": "markdown",
   "id": "8c79bfe7-7946-4148-97db-a1e8aee12405",
   "metadata": {},
   "source": [
    "#### Column \"Age\""
   ]
  },
  {
   "cell_type": "code",
   "execution_count": 142,
   "id": "8b467436-36e9-4195-9b6d-44ce91383caa",
   "metadata": {},
   "outputs": [
    {
     "data": {
      "text/plain": [
       "array([ nan,  18.,  17.,  61.,  26.,  14.,  25.,  19.,  46.,  55.,  32.,\n",
       "        24.,  20.,  34.,  23.,  51.,  31.,  21.,  44.,  30.,  57.,  43.,\n",
       "        37.,  41.,  54.,  42.,  50.,  53.,  47.,  36.,  35.,  13.,  58.,\n",
       "        49.,  28.,  38.,  45.,  62.,  63.,  27.,  33.,  29.,  66.,  40.,\n",
       "        15.,  60.,   0.,  79.,  22.,  16.,  59.,  48.,  72.,  56.,  67.,\n",
       "         1.,  65.,  80.,  52.,  69.,  39.,  71.,  78.,   9.,  64., 103.,\n",
       "       104.,  12.,  74.,  75., 231.,   3.,  76.,  83.,  73.,  68., 119.,\n",
       "        11.,  77.,   2.,  70.,  93.,   7.,   8.,   4.,  81., 114., 230.,\n",
       "       239.,  10.,   5., 151.,   6., 101., 201.,  96.,  84.,  82.,  90.,\n",
       "       244., 133.,  91., 128.,  94.,  85., 141., 110.,  97., 148., 219.,\n",
       "        86., 124.,  92., 175., 172., 209., 212., 237.,  87., 162., 100.,\n",
       "       156., 136., 123.,  95.,  89.,  99., 108., 210., 106.,  88., 199.,\n",
       "       147., 168., 132., 159., 186., 152., 102., 116., 200., 115., 226.,\n",
       "       137., 207., 229., 138., 109., 105., 228., 183., 204.,  98., 223.,\n",
       "       113., 208., 107., 157., 111., 146., 118., 143., 140., 189., 127.])"
      ]
     },
     "execution_count": 142,
     "metadata": {},
     "output_type": "execute_result"
    }
   ],
   "source": [
    "users_upgraded[\"Age\"].unique()"
   ]
  },
  {
   "cell_type": "code",
   "execution_count": 143,
   "id": "5b94a057-6c7d-44fc-973a-edd24c727971",
   "metadata": {},
   "outputs": [],
   "source": [
    "# I have to clean the data in \"Age\": 1. convert to INTEGER, 2.convert all values under 12 and above 120 to nan"
   ]
  },
  {
   "cell_type": "code",
   "execution_count": 144,
   "id": "59862177-9c40-4b82-964e-83e116fd8e60",
   "metadata": {},
   "outputs": [],
   "source": [
    "users_upgraded[\"Age\"] = users_upgraded[\"Age\"].astype(\"Int64\")"
   ]
  },
  {
   "cell_type": "code",
   "execution_count": 145,
   "id": "ce8b7449-bf7a-4fe4-a36e-cb2ec4ff3629",
   "metadata": {},
   "outputs": [
    {
     "data": {
      "text/plain": [
       "<IntegerArray>\n",
       "[<NA>,   18,   17,   61,   26,   14,   25,   19,   46,   55,\n",
       " ...\n",
       "  208,  107,  157,  111,  146,  118,  143,  140,  189,  127]\n",
       "Length: 165, dtype: Int64"
      ]
     },
     "execution_count": 145,
     "metadata": {},
     "output_type": "execute_result"
    }
   ],
   "source": [
    "users_upgraded[\"Age\"].unique()"
   ]
  },
  {
   "cell_type": "code",
   "execution_count": 146,
   "id": "72e9a794-8406-4a3a-8164-1949eb311878",
   "metadata": {},
   "outputs": [
    {
     "name": "stdout",
     "output_type": "stream",
     "text": [
      "<class 'pandas.core.frame.DataFrame'>\n",
      "RangeIndex: 285963 entries, 0 to 285962\n",
      "Data columns (total 4 columns):\n",
      " #   Column     Non-Null Count   Dtype \n",
      "---  ------     --------------   ----- \n",
      " 0   User-ID    285963 non-null  int64 \n",
      " 1   Age        176921 non-null  Int64 \n",
      " 2   Country    285963 non-null  object\n",
      " 3   Continent  285963 non-null  object\n",
      "dtypes: Int64(1), int64(1), object(2)\n",
      "memory usage: 9.0+ MB\n"
     ]
    }
   ],
   "source": [
    "users_upgraded.info()"
   ]
  },
  {
   "cell_type": "code",
   "execution_count": 147,
   "id": "fcef6f71-0c32-43e6-99da-7b27f7e0f65c",
   "metadata": {},
   "outputs": [],
   "source": [
    "users_upgraded[\"Age\"] = users_upgraded[\"Age\"].mask((users_upgraded[\"Age\"] < 12) | (users_upgraded[\"Age\"] > 120),np.nan)"
   ]
  },
  {
   "cell_type": "code",
   "execution_count": 148,
   "id": "fd90d0ed-b1d7-4d4d-b9eb-d67865d6c6b7",
   "metadata": {},
   "outputs": [
    {
     "data": {
      "text/plain": [
       "<IntegerArray>\n",
       "[<NA>,   18,   17,   61,   26,   14,   25,   19,   46,   55,\n",
       " ...\n",
       "  102,  116,  115,  109,  105,   98,  113,  107,  111,  118]\n",
       "Length: 107, dtype: Int64"
      ]
     },
     "execution_count": 148,
     "metadata": {},
     "output_type": "execute_result"
    }
   ],
   "source": [
    "users_upgraded[\"Age\"].unique()"
   ]
  },
  {
   "cell_type": "code",
   "execution_count": 149,
   "id": "49bc71b2-fe3f-467e-9d2d-69ca1219e4b7",
   "metadata": {},
   "outputs": [
    {
     "data": {
      "text/plain": [
       "39.73518362953346"
      ]
     },
     "execution_count": 149,
     "metadata": {},
     "output_type": "execute_result"
    }
   ],
   "source": [
    "(274983-165718)/274983*100"
   ]
  },
  {
   "cell_type": "code",
   "execution_count": 150,
   "id": "58c3d263-1564-497a-a744-6dd01020d53d",
   "metadata": {},
   "outputs": [],
   "source": [
    "# There are many Null in \"Age\", about 40%. I can drop them or replace.\n",
    "# I decide for this specific research replace then with median."
   ]
  },
  {
   "cell_type": "code",
   "execution_count": 151,
   "id": "591ffab1-fba9-4d70-8602-4b4056a368e0",
   "metadata": {},
   "outputs": [],
   "source": [
    "median= users_upgraded[\"Age\"].median()\n",
    "users_upgraded[\"Age\"]=users_upgraded[\"Age\"].fillna(median)"
   ]
  },
  {
   "cell_type": "code",
   "execution_count": 152,
   "id": "4f94a8ac-9b30-46a4-a8e5-deea1fa69f48",
   "metadata": {},
   "outputs": [
    {
     "data": {
      "text/plain": [
       "np.int64(0)"
      ]
     },
     "execution_count": 152,
     "metadata": {},
     "output_type": "execute_result"
    }
   ],
   "source": [
    "users_upgraded[\"Age\"].isna().sum()"
   ]
  },
  {
   "cell_type": "code",
   "execution_count": 153,
   "id": "a9d3c57c-afe7-497b-9a72-37f102a6d3e9",
   "metadata": {},
   "outputs": [],
   "source": [
    "# I want to add column \"Age_Group\" to make it easier analyze age later and use in groupby. \n",
    "# I'll use pd.cut methode.\n",
    "# Users 12-18 yaers old would be categoriezed as \"Teenagers\", 18-25 as \"YoungAdults\", 25-45 as \"Adults\",\n",
    "# 45-75 as \"OlderAdults\" and older then 75 as  \"Olders\"."
   ]
  },
  {
   "cell_type": "code",
   "execution_count": 154,
   "id": "0462d42c-425d-4286-bcec-4318a4304da5",
   "metadata": {},
   "outputs": [],
   "source": [
    "bins=[12,18,25,45,75,121]"
   ]
  },
  {
   "cell_type": "code",
   "execution_count": 155,
   "id": "2963f71d-b342-4346-9ae1-5c748971fefe",
   "metadata": {},
   "outputs": [],
   "source": [
    "labels=[\"Teenagers\",\"YoungAdults\",\"Adults\",\"OlderAdults\",\"Olders\"]"
   ]
  },
  {
   "cell_type": "code",
   "execution_count": 156,
   "id": "26011155-70b2-4cd8-9d5b-f35c031da2c1",
   "metadata": {},
   "outputs": [],
   "source": [
    "users_upgraded[\"Age_Group\"]=pd.cut(users_upgraded[\"Age\"],bins=bins,labels=labels,right=False,include_lowest=True)"
   ]
  },
  {
   "cell_type": "code",
   "execution_count": 157,
   "id": "49e40afb-7fe9-4915-9d9c-1ff54aac81ab",
   "metadata": {},
   "outputs": [
    {
     "data": {
      "text/html": [
       "<div>\n",
       "<style scoped>\n",
       "    .dataframe tbody tr th:only-of-type {\n",
       "        vertical-align: middle;\n",
       "    }\n",
       "\n",
       "    .dataframe tbody tr th {\n",
       "        vertical-align: top;\n",
       "    }\n",
       "\n",
       "    .dataframe thead th {\n",
       "        text-align: right;\n",
       "    }\n",
       "</style>\n",
       "<table border=\"1\" class=\"dataframe\">\n",
       "  <thead>\n",
       "    <tr style=\"text-align: right;\">\n",
       "      <th></th>\n",
       "      <th>User-ID</th>\n",
       "      <th>Age</th>\n",
       "      <th>Country</th>\n",
       "      <th>Continent</th>\n",
       "      <th>Age_Group</th>\n",
       "    </tr>\n",
       "  </thead>\n",
       "  <tbody>\n",
       "    <tr>\n",
       "      <th>0</th>\n",
       "      <td>1</td>\n",
       "      <td>32</td>\n",
       "      <td>Usa</td>\n",
       "      <td>North America</td>\n",
       "      <td>Adults</td>\n",
       "    </tr>\n",
       "    <tr>\n",
       "      <th>1</th>\n",
       "      <td>2</td>\n",
       "      <td>18</td>\n",
       "      <td>Usa</td>\n",
       "      <td>North America</td>\n",
       "      <td>YoungAdults</td>\n",
       "    </tr>\n",
       "    <tr>\n",
       "      <th>2</th>\n",
       "      <td>3</td>\n",
       "      <td>32</td>\n",
       "      <td>Russia</td>\n",
       "      <td>Europe</td>\n",
       "      <td>Adults</td>\n",
       "    </tr>\n",
       "    <tr>\n",
       "      <th>3</th>\n",
       "      <td>4</td>\n",
       "      <td>17</td>\n",
       "      <td>Portugal</td>\n",
       "      <td>Europe</td>\n",
       "      <td>Teenagers</td>\n",
       "    </tr>\n",
       "    <tr>\n",
       "      <th>4</th>\n",
       "      <td>5</td>\n",
       "      <td>32</td>\n",
       "      <td>United Kingdom</td>\n",
       "      <td>Europe</td>\n",
       "      <td>Adults</td>\n",
       "    </tr>\n",
       "  </tbody>\n",
       "</table>\n",
       "</div>"
      ],
      "text/plain": [
       "   User-ID  Age         Country      Continent    Age_Group\n",
       "0        1   32             Usa  North America       Adults\n",
       "1        2   18             Usa  North America  YoungAdults\n",
       "2        3   32          Russia         Europe       Adults\n",
       "3        4   17        Portugal         Europe    Teenagers\n",
       "4        5   32  United Kingdom         Europe       Adults"
      ]
     },
     "execution_count": 157,
     "metadata": {},
     "output_type": "execute_result"
    }
   ],
   "source": [
    "users_upgraded.head()"
   ]
  },
  {
   "cell_type": "code",
   "execution_count": 158,
   "id": "67ab81ed-fd05-4307-a2ff-649e2fb36d56",
   "metadata": {},
   "outputs": [
    {
     "name": "stdout",
     "output_type": "stream",
     "text": [
      "<class 'pandas.core.frame.DataFrame'>\n",
      "RangeIndex: 285963 entries, 0 to 285962\n",
      "Data columns (total 5 columns):\n",
      " #   Column     Non-Null Count   Dtype   \n",
      "---  ------     --------------   -----   \n",
      " 0   User-ID    285963 non-null  int64   \n",
      " 1   Age        285963 non-null  Int64   \n",
      " 2   Country    285963 non-null  object  \n",
      " 3   Continent  285963 non-null  object  \n",
      " 4   Age_Group  285963 non-null  category\n",
      "dtypes: Int64(1), category(1), int64(1), object(2)\n",
      "memory usage: 9.3+ MB\n"
     ]
    }
   ],
   "source": [
    "users_upgraded.info()"
   ]
  },
  {
   "cell_type": "code",
   "execution_count": 159,
   "id": "7237d3f2-eaeb-454a-a684-84ec56eaf3a3",
   "metadata": {},
   "outputs": [],
   "source": [
    "# Last step to change order of columns"
   ]
  },
  {
   "cell_type": "code",
   "execution_count": 160,
   "id": "351d919d-46ff-469f-9bba-33e5228c81c7",
   "metadata": {},
   "outputs": [],
   "source": [
    "users_upgraded=users_upgraded[[\"User-ID\",\"Age\",\"Age_Group\",\"Country\",\"Continent\"]]"
   ]
  },
  {
   "cell_type": "code",
   "execution_count": 161,
   "id": "4a000072-7a10-4ed8-a799-98461e7130c4",
   "metadata": {},
   "outputs": [
    {
     "data": {
      "text/plain": [
       "272816"
      ]
     },
     "execution_count": 161,
     "metadata": {},
     "output_type": "execute_result"
    }
   ],
   "source": [
    "users_upgraded[\"User-ID\"].nunique()"
   ]
  },
  {
   "cell_type": "code",
   "execution_count": 162,
   "id": "2abfaf56-df54-4ff2-82b0-a36ae38b5200",
   "metadata": {},
   "outputs": [
    {
     "data": {
      "text/html": [
       "<div>\n",
       "<style scoped>\n",
       "    .dataframe tbody tr th:only-of-type {\n",
       "        vertical-align: middle;\n",
       "    }\n",
       "\n",
       "    .dataframe tbody tr th {\n",
       "        vertical-align: top;\n",
       "    }\n",
       "\n",
       "    .dataframe thead th {\n",
       "        text-align: right;\n",
       "    }\n",
       "</style>\n",
       "<table border=\"1\" class=\"dataframe\">\n",
       "  <thead>\n",
       "    <tr style=\"text-align: right;\">\n",
       "      <th></th>\n",
       "      <th>User-ID</th>\n",
       "      <th>Age</th>\n",
       "      <th>Age_Group</th>\n",
       "      <th>Country</th>\n",
       "      <th>Continent</th>\n",
       "    </tr>\n",
       "  </thead>\n",
       "  <tbody>\n",
       "    <tr>\n",
       "      <th>0</th>\n",
       "      <td>1</td>\n",
       "      <td>32</td>\n",
       "      <td>Adults</td>\n",
       "      <td>Usa</td>\n",
       "      <td>North America</td>\n",
       "    </tr>\n",
       "    <tr>\n",
       "      <th>1</th>\n",
       "      <td>2</td>\n",
       "      <td>18</td>\n",
       "      <td>YoungAdults</td>\n",
       "      <td>Usa</td>\n",
       "      <td>North America</td>\n",
       "    </tr>\n",
       "    <tr>\n",
       "      <th>2</th>\n",
       "      <td>3</td>\n",
       "      <td>32</td>\n",
       "      <td>Adults</td>\n",
       "      <td>Russia</td>\n",
       "      <td>Europe</td>\n",
       "    </tr>\n",
       "    <tr>\n",
       "      <th>3</th>\n",
       "      <td>4</td>\n",
       "      <td>17</td>\n",
       "      <td>Teenagers</td>\n",
       "      <td>Portugal</td>\n",
       "      <td>Europe</td>\n",
       "    </tr>\n",
       "    <tr>\n",
       "      <th>4</th>\n",
       "      <td>5</td>\n",
       "      <td>32</td>\n",
       "      <td>Adults</td>\n",
       "      <td>United Kingdom</td>\n",
       "      <td>Europe</td>\n",
       "    </tr>\n",
       "    <tr>\n",
       "      <th>5</th>\n",
       "      <td>6</td>\n",
       "      <td>61</td>\n",
       "      <td>OlderAdults</td>\n",
       "      <td>Usa</td>\n",
       "      <td>North America</td>\n",
       "    </tr>\n",
       "    <tr>\n",
       "      <th>6</th>\n",
       "      <td>7</td>\n",
       "      <td>32</td>\n",
       "      <td>Adults</td>\n",
       "      <td>Usa</td>\n",
       "      <td>North America</td>\n",
       "    </tr>\n",
       "    <tr>\n",
       "      <th>7</th>\n",
       "      <td>8</td>\n",
       "      <td>32</td>\n",
       "      <td>Adults</td>\n",
       "      <td>Canada</td>\n",
       "      <td>North America</td>\n",
       "    </tr>\n",
       "    <tr>\n",
       "      <th>8</th>\n",
       "      <td>9</td>\n",
       "      <td>32</td>\n",
       "      <td>Adults</td>\n",
       "      <td>Usa</td>\n",
       "      <td>North America</td>\n",
       "    </tr>\n",
       "    <tr>\n",
       "      <th>9</th>\n",
       "      <td>10</td>\n",
       "      <td>26</td>\n",
       "      <td>Adults</td>\n",
       "      <td>Spain</td>\n",
       "      <td>Europe</td>\n",
       "    </tr>\n",
       "  </tbody>\n",
       "</table>\n",
       "</div>"
      ],
      "text/plain": [
       "   User-ID  Age    Age_Group         Country      Continent\n",
       "0        1   32       Adults             Usa  North America\n",
       "1        2   18  YoungAdults             Usa  North America\n",
       "2        3   32       Adults          Russia         Europe\n",
       "3        4   17    Teenagers        Portugal         Europe\n",
       "4        5   32       Adults  United Kingdom         Europe\n",
       "5        6   61  OlderAdults             Usa  North America\n",
       "6        7   32       Adults             Usa  North America\n",
       "7        8   32       Adults          Canada  North America\n",
       "8        9   32       Adults             Usa  North America\n",
       "9       10   26       Adults           Spain         Europe"
      ]
     },
     "execution_count": 162,
     "metadata": {},
     "output_type": "execute_result"
    }
   ],
   "source": [
    "users_upgraded.head(10)"
   ]
  },
  {
   "cell_type": "markdown",
   "id": "22eb2cda-727c-4e82-bc33-9106bf4ae57a",
   "metadata": {},
   "source": [
    "## Final connection between tables. I'm gonna cross data in main table \"books_cross_genre_ratings\" with data about users from \"users_upgraded\" ."
   ]
  },
  {
   "cell_type": "code",
   "execution_count": 163,
   "id": "909610cd-8bea-4eb1-bbf1-cffefd253808",
   "metadata": {},
   "outputs": [],
   "source": [
    "books_rat_us=pd.merge(books_cross_genre_ratings ,users_upgraded, on=\"User-ID\")"
   ]
  },
  {
   "cell_type": "code",
   "execution_count": 164,
   "id": "bfefebf5-41fb-459d-8c9f-c5aae3655897",
   "metadata": {},
   "outputs": [
    {
     "data": {
      "text/html": [
       "<div>\n",
       "<style scoped>\n",
       "    .dataframe tbody tr th:only-of-type {\n",
       "        vertical-align: middle;\n",
       "    }\n",
       "\n",
       "    .dataframe tbody tr th {\n",
       "        vertical-align: top;\n",
       "    }\n",
       "\n",
       "    .dataframe thead th {\n",
       "        text-align: right;\n",
       "    }\n",
       "</style>\n",
       "<table border=\"1\" class=\"dataframe\">\n",
       "  <thead>\n",
       "    <tr style=\"text-align: right;\">\n",
       "      <th></th>\n",
       "      <th>ISBN</th>\n",
       "      <th>Book-Title</th>\n",
       "      <th>Book-Author</th>\n",
       "      <th>Year-Of-Publication</th>\n",
       "      <th>Publisher</th>\n",
       "      <th>Genre</th>\n",
       "      <th>User-ID</th>\n",
       "      <th>Book-Rating</th>\n",
       "      <th>Age</th>\n",
       "      <th>Age_Group</th>\n",
       "      <th>Country</th>\n",
       "      <th>Continent</th>\n",
       "    </tr>\n",
       "  </thead>\n",
       "  <tbody>\n",
       "    <tr>\n",
       "      <th>0</th>\n",
       "      <td>0001010565</td>\n",
       "      <td>Mog's Christmas</td>\n",
       "      <td>Judith Kerr</td>\n",
       "      <td>1992</td>\n",
       "      <td>Collins</td>\n",
       "      <td>No specified</td>\n",
       "      <td>86123</td>\n",
       "      <td>0</td>\n",
       "      <td>32</td>\n",
       "      <td>Adults</td>\n",
       "      <td>Canada</td>\n",
       "      <td>North America</td>\n",
       "    </tr>\n",
       "    <tr>\n",
       "      <th>1</th>\n",
       "      <td>0001010565</td>\n",
       "      <td>Mog's Christmas</td>\n",
       "      <td>Judith Kerr</td>\n",
       "      <td>1992</td>\n",
       "      <td>Collins</td>\n",
       "      <td>No specified</td>\n",
       "      <td>209516</td>\n",
       "      <td>0</td>\n",
       "      <td>57</td>\n",
       "      <td>OlderAdults</td>\n",
       "      <td>United Kingdom</td>\n",
       "      <td>Europe</td>\n",
       "    </tr>\n",
       "    <tr>\n",
       "      <th>2</th>\n",
       "      <td>0001046713</td>\n",
       "      <td>Twopence to Cross the Mersey</td>\n",
       "      <td>Helen Forrester</td>\n",
       "      <td>1992</td>\n",
       "      <td>HarperCollins Publishers</td>\n",
       "      <td>No specified</td>\n",
       "      <td>196149</td>\n",
       "      <td>0</td>\n",
       "      <td>29</td>\n",
       "      <td>Adults</td>\n",
       "      <td>United Kingdom</td>\n",
       "      <td>Europe</td>\n",
       "    </tr>\n",
       "    <tr>\n",
       "      <th>3</th>\n",
       "      <td>000104687X</td>\n",
       "      <td>T.S. Eliot Reading \\The Wasteland\\\" and Other ...</td>\n",
       "      <td>T.S. Eliot</td>\n",
       "      <td>1993</td>\n",
       "      <td>HarperCollins Publishers</td>\n",
       "      <td>No specified</td>\n",
       "      <td>23902</td>\n",
       "      <td>6</td>\n",
       "      <td>32</td>\n",
       "      <td>Adults</td>\n",
       "      <td>United Kingdom</td>\n",
       "      <td>Europe</td>\n",
       "    </tr>\n",
       "    <tr>\n",
       "      <th>4</th>\n",
       "      <td>0001046934</td>\n",
       "      <td>The Prime of Miss Jean Brodie</td>\n",
       "      <td>Muriel Spark</td>\n",
       "      <td>1999</td>\n",
       "      <td>Trafalgar Square Publishing</td>\n",
       "      <td>No specified</td>\n",
       "      <td>206300</td>\n",
       "      <td>0</td>\n",
       "      <td>34</td>\n",
       "      <td>Adults</td>\n",
       "      <td>United Kingdom</td>\n",
       "      <td>Europe</td>\n",
       "    </tr>\n",
       "  </tbody>\n",
       "</table>\n",
       "</div>"
      ],
      "text/plain": [
       "         ISBN                                         Book-Title  \\\n",
       "0  0001010565                                    Mog's Christmas   \n",
       "1  0001010565                                    Mog's Christmas   \n",
       "2  0001046713                       Twopence to Cross the Mersey   \n",
       "3  000104687X  T.S. Eliot Reading \\The Wasteland\\\" and Other ...   \n",
       "4  0001046934                      The Prime of Miss Jean Brodie   \n",
       "\n",
       "       Book-Author  Year-Of-Publication                    Publisher  \\\n",
       "0      Judith Kerr                 1992                      Collins   \n",
       "1      Judith Kerr                 1992                      Collins   \n",
       "2  Helen Forrester                 1992     HarperCollins Publishers   \n",
       "3       T.S. Eliot                 1993     HarperCollins Publishers   \n",
       "4     Muriel Spark                 1999  Trafalgar Square Publishing   \n",
       "\n",
       "          Genre  User-ID  Book-Rating  Age    Age_Group         Country  \\\n",
       "0  No specified    86123            0   32       Adults          Canada   \n",
       "1  No specified   209516            0   57  OlderAdults  United Kingdom   \n",
       "2  No specified   196149            0   29       Adults  United Kingdom   \n",
       "3  No specified    23902            6   32       Adults  United Kingdom   \n",
       "4  No specified   206300            0   34       Adults  United Kingdom   \n",
       "\n",
       "       Continent  \n",
       "0  North America  \n",
       "1         Europe  \n",
       "2         Europe  \n",
       "3         Europe  \n",
       "4         Europe  "
      ]
     },
     "execution_count": 164,
     "metadata": {},
     "output_type": "execute_result"
    }
   ],
   "source": [
    "books_rat_us.head()"
   ]
  },
  {
   "cell_type": "code",
   "execution_count": 165,
   "id": "e0428a68-e280-4770-8b73-b4d1565e9d9d",
   "metadata": {},
   "outputs": [
    {
     "name": "stdout",
     "output_type": "stream",
     "text": [
      "<class 'pandas.core.frame.DataFrame'>\n",
      "RangeIndex: 881240 entries, 0 to 881239\n",
      "Data columns (total 12 columns):\n",
      " #   Column               Non-Null Count   Dtype   \n",
      "---  ------               --------------   -----   \n",
      " 0   ISBN                 881240 non-null  object  \n",
      " 1   Book-Title           881240 non-null  object  \n",
      " 2   Book-Author          881240 non-null  object  \n",
      " 3   Year-Of-Publication  881240 non-null  Int64   \n",
      " 4   Publisher            881240 non-null  object  \n",
      " 5   Genre                881240 non-null  object  \n",
      " 6   User-ID              881240 non-null  int64   \n",
      " 7   Book-Rating          881240 non-null  int64   \n",
      " 8   Age                  881240 non-null  Int64   \n",
      " 9   Age_Group            881240 non-null  category\n",
      " 10  Country              881240 non-null  object  \n",
      " 11  Continent            881240 non-null  object  \n",
      "dtypes: Int64(2), category(1), int64(2), object(7)\n",
      "memory usage: 76.5+ MB\n"
     ]
    }
   ],
   "source": [
    "books_rat_us.info()"
   ]
  },
  {
   "cell_type": "code",
   "execution_count": 166,
   "id": "1bd8843b-71e6-478a-ad75-449173879c39",
   "metadata": {},
   "outputs": [],
   "source": [
    "# I want to check how many rows with complete data do I have"
   ]
  },
  {
   "cell_type": "code",
   "execution_count": 167,
   "id": "7fe4086e-3839-4bad-a4cf-7f2a6b969525",
   "metadata": {},
   "outputs": [
    {
     "data": {
      "text/plain": [
       "np.int64(0)"
      ]
     },
     "execution_count": 167,
     "metadata": {},
     "output_type": "execute_result"
    }
   ],
   "source": [
    "books_rat_us.isna().any(axis=1).sum()"
   ]
  },
  {
   "cell_type": "code",
   "execution_count": 168,
   "id": "ddc46c09-8fc2-4ba5-9163-f8e2cfb8e101",
   "metadata": {},
   "outputs": [],
   "source": [
    "count_complete_rows=books_rat_us.notna().all(axis=1).sum()"
   ]
  },
  {
   "cell_type": "code",
   "execution_count": 169,
   "id": "b39446fb-7cf6-401e-a972-c0aebf4effa1",
   "metadata": {},
   "outputs": [
    {
     "data": {
      "text/plain": [
       "np.int64(881240)"
      ]
     },
     "execution_count": 169,
     "metadata": {},
     "output_type": "execute_result"
    }
   ],
   "source": [
    "count_complete_rows"
   ]
  },
  {
   "cell_type": "markdown",
   "id": "56d60e15-4656-47bc-92e9-d186e86db6ae",
   "metadata": {},
   "source": [
    "# Basic descriptive statistics"
   ]
  },
  {
   "cell_type": "code",
   "execution_count": 170,
   "id": "7338ced1-071e-4535-8649-86d337641599",
   "metadata": {},
   "outputs": [
    {
     "name": "stdout",
     "output_type": "stream",
     "text": [
      "<class 'pandas.core.frame.DataFrame'>\n",
      "RangeIndex: 881240 entries, 0 to 881239\n",
      "Data columns (total 12 columns):\n",
      " #   Column               Non-Null Count   Dtype   \n",
      "---  ------               --------------   -----   \n",
      " 0   ISBN                 881240 non-null  object  \n",
      " 1   Book-Title           881240 non-null  object  \n",
      " 2   Book-Author          881240 non-null  object  \n",
      " 3   Year-Of-Publication  881240 non-null  Int64   \n",
      " 4   Publisher            881240 non-null  object  \n",
      " 5   Genre                881240 non-null  object  \n",
      " 6   User-ID              881240 non-null  int64   \n",
      " 7   Book-Rating          881240 non-null  int64   \n",
      " 8   Age                  881240 non-null  Int64   \n",
      " 9   Age_Group            881240 non-null  category\n",
      " 10  Country              881240 non-null  object  \n",
      " 11  Continent            881240 non-null  object  \n",
      "dtypes: Int64(2), category(1), int64(2), object(7)\n",
      "memory usage: 76.5+ MB\n"
     ]
    }
   ],
   "source": [
    "books_rat_us.info()"
   ]
  },
  {
   "cell_type": "code",
   "execution_count": 171,
   "id": "e9da097f-8070-44b3-8aa8-4df7e0df4c14",
   "metadata": {},
   "outputs": [
    {
     "data": {
      "text/plain": [
       "ISBN    211975\n",
       "dtype: int64"
      ]
     },
     "execution_count": 171,
     "metadata": {},
     "output_type": "execute_result"
    }
   ],
   "source": [
    "books_rat_us[[\"ISBN\"]].nunique()"
   ]
  },
  {
   "cell_type": "code",
   "execution_count": 172,
   "id": "1de03cc2-e62e-4448-bbdc-dc73aed17c9e",
   "metadata": {},
   "outputs": [
    {
     "data": {
      "text/plain": [
       "121592"
      ]
     },
     "execution_count": 172,
     "metadata": {},
     "output_type": "execute_result"
    }
   ],
   "source": [
    "books_rat_us[books_rat_us[\"Book-Rating\"]>0][\"ISBN\"].nunique()"
   ]
  },
  {
   "cell_type": "code",
   "execution_count": 173,
   "id": "3fdcd6d3-e182-49d9-886e-91e0256d23dc",
   "metadata": {
    "scrolled": true
   },
   "outputs": [
    {
     "data": {
      "text/plain": [
       "<IntegerArray>\n",
       "[1988, 1989, 1990, 1991, 1992, 1993, 1994, 1995, 1996, 1997, 1998, 1999, 2000,\n",
       " 2001, 2002, 2003, 2004]\n",
       "Length: 17, dtype: Int64"
      ]
     },
     "execution_count": 173,
     "metadata": {},
     "output_type": "execute_result"
    }
   ],
   "source": [
    "books_rat_us[\"Year-Of-Publication\"].sort_values().unique()"
   ]
  },
  {
   "cell_type": "code",
   "execution_count": 174,
   "id": "d199c6db-d7fc-4d84-b882-eb12ee2a70aa",
   "metadata": {},
   "outputs": [
    {
     "data": {
      "text/plain": [
       "Publisher    13612\n",
       "dtype: int64"
      ]
     },
     "execution_count": 174,
     "metadata": {},
     "output_type": "execute_result"
    }
   ],
   "source": [
    "books_rat_us[[\"Publisher\"]].nunique()"
   ]
  },
  {
   "cell_type": "code",
   "execution_count": 175,
   "id": "05b25ba4-4f90-4835-9677-90b80c132205",
   "metadata": {},
   "outputs": [
    {
     "data": {
      "text/plain": [
       "Genre    9077\n",
       "dtype: int64"
      ]
     },
     "execution_count": 175,
     "metadata": {},
     "output_type": "execute_result"
    }
   ],
   "source": [
    "books_rat_us[[\"Genre\"]].nunique()"
   ]
  },
  {
   "cell_type": "code",
   "execution_count": 176,
   "id": "23e2f553-fecb-4353-a710-61f4645bcbee",
   "metadata": {},
   "outputs": [
    {
     "data": {
      "text/plain": [
       "User-ID    84617\n",
       "dtype: int64"
      ]
     },
     "execution_count": 176,
     "metadata": {},
     "output_type": "execute_result"
    }
   ],
   "source": [
    "books_rat_us[[\"User-ID\"]].nunique()"
   ]
  },
  {
   "cell_type": "code",
   "execution_count": 177,
   "id": "98497e12-77e5-42db-9581-7a12c63f0b26",
   "metadata": {},
   "outputs": [
    {
     "data": {
      "text/plain": [
       "62513"
      ]
     },
     "execution_count": 177,
     "metadata": {},
     "output_type": "execute_result"
    }
   ],
   "source": [
    "books_rat_us[books_rat_us[\"Book-Rating\"]>0][\"User-ID\"].nunique()"
   ]
  },
  {
   "cell_type": "code",
   "execution_count": 178,
   "id": "b496f586-a83e-448c-afc1-938c41c3b427",
   "metadata": {},
   "outputs": [
    {
     "name": "stdout",
     "output_type": "stream",
     "text": [
      "ISBN    57.361481\n",
      "dtype: float64\n"
     ]
    }
   ],
   "source": [
    "print((books_rat_us[books_rat_us[\"Book-Rating\"]>0][\"ISBN\"].nunique()/ books_rat_us[[\"ISBN\"]].nunique())*100 )"
   ]
  },
  {
   "cell_type": "code",
   "execution_count": 179,
   "id": "bfc70fdd-e810-4e4e-bd82-a556376d85ff",
   "metadata": {},
   "outputs": [],
   "source": [
    "# The dataset contain of 211,975 Book-Titles published between 1988 to 2004 (inclusive).\n",
    "# Out of these, only 121,592 book titles (57%) had been rated by users.\n",
    "# The books were published by 13,612 publishers.\n",
    "# They are categorized into 9,077  genres.\n",
    "# There are 84,617 registrated users, 62,513 of them have rated books.\n"
   ]
  },
  {
   "cell_type": "code",
   "execution_count": 180,
   "id": "49bfa797-cb84-45b4-9ec9-cdc4254d495f",
   "metadata": {},
   "outputs": [
    {
     "data": {
      "text/html": [
       "<div>\n",
       "<style scoped>\n",
       "    .dataframe tbody tr th:only-of-type {\n",
       "        vertical-align: middle;\n",
       "    }\n",
       "\n",
       "    .dataframe tbody tr th {\n",
       "        vertical-align: top;\n",
       "    }\n",
       "\n",
       "    .dataframe thead th {\n",
       "        text-align: right;\n",
       "    }\n",
       "</style>\n",
       "<table border=\"1\" class=\"dataframe\">\n",
       "  <thead>\n",
       "    <tr style=\"text-align: right;\">\n",
       "      <th></th>\n",
       "      <th>Year-Of-Publication</th>\n",
       "      <th>User-ID</th>\n",
       "      <th>Book-Rating</th>\n",
       "      <th>Age</th>\n",
       "    </tr>\n",
       "  </thead>\n",
       "  <tbody>\n",
       "    <tr>\n",
       "      <th>count</th>\n",
       "      <td>881240.0</td>\n",
       "      <td>881240.000000</td>\n",
       "      <td>881240.000000</td>\n",
       "      <td>881240.0</td>\n",
       "    </tr>\n",
       "    <tr>\n",
       "      <th>mean</th>\n",
       "      <td>1997.450733</td>\n",
       "      <td>141657.347688</td>\n",
       "      <td>2.859228</td>\n",
       "      <td>35.850925</td>\n",
       "    </tr>\n",
       "    <tr>\n",
       "      <th>std</th>\n",
       "      <td>4.312449</td>\n",
       "      <td>79762.137206</td>\n",
       "      <td>3.853710</td>\n",
       "      <td>10.886938</td>\n",
       "    </tr>\n",
       "    <tr>\n",
       "      <th>min</th>\n",
       "      <td>1988.0</td>\n",
       "      <td>2.000000</td>\n",
       "      <td>0.000000</td>\n",
       "      <td>12.0</td>\n",
       "    </tr>\n",
       "    <tr>\n",
       "      <th>25%</th>\n",
       "      <td>1994.0</td>\n",
       "      <td>73394.000000</td>\n",
       "      <td>0.000000</td>\n",
       "      <td>31.0</td>\n",
       "    </tr>\n",
       "    <tr>\n",
       "      <th>50%</th>\n",
       "      <td>1998.0</td>\n",
       "      <td>142300.000000</td>\n",
       "      <td>0.000000</td>\n",
       "      <td>32.0</td>\n",
       "    </tr>\n",
       "    <tr>\n",
       "      <th>75%</th>\n",
       "      <td>2001.0</td>\n",
       "      <td>211919.000000</td>\n",
       "      <td>7.000000</td>\n",
       "      <td>41.0</td>\n",
       "    </tr>\n",
       "    <tr>\n",
       "      <th>max</th>\n",
       "      <td>2004.0</td>\n",
       "      <td>278854.000000</td>\n",
       "      <td>10.000000</td>\n",
       "      <td>118.0</td>\n",
       "    </tr>\n",
       "  </tbody>\n",
       "</table>\n",
       "</div>"
      ],
      "text/plain": [
       "       Year-Of-Publication        User-ID    Book-Rating        Age\n",
       "count             881240.0  881240.000000  881240.000000   881240.0\n",
       "mean           1997.450733  141657.347688       2.859228  35.850925\n",
       "std               4.312449   79762.137206       3.853710  10.886938\n",
       "min                 1988.0       2.000000       0.000000       12.0\n",
       "25%                 1994.0   73394.000000       0.000000       31.0\n",
       "50%                 1998.0  142300.000000       0.000000       32.0\n",
       "75%                 2001.0  211919.000000       7.000000       41.0\n",
       "max                 2004.0  278854.000000      10.000000      118.0"
      ]
     },
     "execution_count": 180,
     "metadata": {},
     "output_type": "execute_result"
    }
   ],
   "source": [
    "books_rat_us.describe()"
   ]
  },
  {
   "cell_type": "code",
   "execution_count": 181,
   "id": "18fbb0ba-12d9-4a0a-a0f1-b52947aee3c3",
   "metadata": {},
   "outputs": [],
   "source": [
    "# I see that there is a lot of \"no rate\". So I'll bring only ratings more than 0"
   ]
  },
  {
   "cell_type": "code",
   "execution_count": 182,
   "id": "58a64443-58ae-47e9-acc9-a125afa1504d",
   "metadata": {},
   "outputs": [],
   "source": [
    "mask=books_rat_us[\"Book-Rating\"]>0"
   ]
  },
  {
   "cell_type": "code",
   "execution_count": 183,
   "id": "46e3956d-cbad-48ad-a1a4-1b39d04716cd",
   "metadata": {},
   "outputs": [
    {
     "data": {
      "text/html": [
       "<div>\n",
       "<style scoped>\n",
       "    .dataframe tbody tr th:only-of-type {\n",
       "        vertical-align: middle;\n",
       "    }\n",
       "\n",
       "    .dataframe tbody tr th {\n",
       "        vertical-align: top;\n",
       "    }\n",
       "\n",
       "    .dataframe thead th {\n",
       "        text-align: right;\n",
       "    }\n",
       "</style>\n",
       "<table border=\"1\" class=\"dataframe\">\n",
       "  <thead>\n",
       "    <tr style=\"text-align: right;\">\n",
       "      <th></th>\n",
       "      <th>Year-Of-Publication</th>\n",
       "      <th>User-ID</th>\n",
       "      <th>Book-Rating</th>\n",
       "      <th>Age</th>\n",
       "    </tr>\n",
       "  </thead>\n",
       "  <tbody>\n",
       "    <tr>\n",
       "      <th>count</th>\n",
       "      <td>330954.0</td>\n",
       "      <td>330954.000000</td>\n",
       "      <td>330954.000000</td>\n",
       "      <td>330954.0</td>\n",
       "    </tr>\n",
       "    <tr>\n",
       "      <th>mean</th>\n",
       "      <td>1997.724119</td>\n",
       "      <td>138111.841368</td>\n",
       "      <td>7.613342</td>\n",
       "      <td>35.432281</td>\n",
       "    </tr>\n",
       "    <tr>\n",
       "      <th>std</th>\n",
       "      <td>4.241164</td>\n",
       "      <td>79399.972609</td>\n",
       "      <td>1.830198</td>\n",
       "      <td>10.782593</td>\n",
       "    </tr>\n",
       "    <tr>\n",
       "      <th>min</th>\n",
       "      <td>1988.0</td>\n",
       "      <td>8.000000</td>\n",
       "      <td>1.000000</td>\n",
       "      <td>12.0</td>\n",
       "    </tr>\n",
       "    <tr>\n",
       "      <th>25%</th>\n",
       "      <td>1995.0</td>\n",
       "      <td>71075.000000</td>\n",
       "      <td>7.000000</td>\n",
       "      <td>30.0</td>\n",
       "    </tr>\n",
       "    <tr>\n",
       "      <th>50%</th>\n",
       "      <td>1999.0</td>\n",
       "      <td>135674.500000</td>\n",
       "      <td>8.000000</td>\n",
       "      <td>32.0</td>\n",
       "    </tr>\n",
       "    <tr>\n",
       "      <th>75%</th>\n",
       "      <td>2001.0</td>\n",
       "      <td>207339.000000</td>\n",
       "      <td>9.000000</td>\n",
       "      <td>40.0</td>\n",
       "    </tr>\n",
       "    <tr>\n",
       "      <th>max</th>\n",
       "      <td>2004.0</td>\n",
       "      <td>278854.000000</td>\n",
       "      <td>10.000000</td>\n",
       "      <td>118.0</td>\n",
       "    </tr>\n",
       "  </tbody>\n",
       "</table>\n",
       "</div>"
      ],
      "text/plain": [
       "       Year-Of-Publication        User-ID    Book-Rating        Age\n",
       "count             330954.0  330954.000000  330954.000000   330954.0\n",
       "mean           1997.724119  138111.841368       7.613342  35.432281\n",
       "std               4.241164   79399.972609       1.830198  10.782593\n",
       "min                 1988.0       8.000000       1.000000       12.0\n",
       "25%                 1995.0   71075.000000       7.000000       30.0\n",
       "50%                 1999.0  135674.500000       8.000000       32.0\n",
       "75%                 2001.0  207339.000000       9.000000       40.0\n",
       "max                 2004.0  278854.000000      10.000000      118.0"
      ]
     },
     "execution_count": 183,
     "metadata": {},
     "output_type": "execute_result"
    }
   ],
   "source": [
    "books_rat_us[mask].describe( )"
   ]
  },
  {
   "cell_type": "code",
   "execution_count": 184,
   "id": "67febf66-7ae7-45dc-8813-d653b6a55b26",
   "metadata": {},
   "outputs": [],
   "source": [
    "# Average book-rate is 8, it's close to a median, meaning there is approximately even distribution of data.\n",
    "# Average age of users is about 32 with wider distribution from age 12 to 118. However this data biased because manipulation I've made with missing values/"
   ]
  },
  {
   "cell_type": "code",
   "execution_count": 185,
   "id": "93331eeb-7b46-4178-9dc3-d95935e5514c",
   "metadata": {},
   "outputs": [
    {
     "data": {
      "text/html": [
       "<div>\n",
       "<style scoped>\n",
       "    .dataframe tbody tr th:only-of-type {\n",
       "        vertical-align: middle;\n",
       "    }\n",
       "\n",
       "    .dataframe tbody tr th {\n",
       "        vertical-align: top;\n",
       "    }\n",
       "\n",
       "    .dataframe thead th {\n",
       "        text-align: right;\n",
       "    }\n",
       "</style>\n",
       "<table border=\"1\" class=\"dataframe\">\n",
       "  <thead>\n",
       "    <tr style=\"text-align: right;\">\n",
       "      <th></th>\n",
       "      <th>ISBN</th>\n",
       "      <th>Book-Title</th>\n",
       "      <th>Book-Author</th>\n",
       "      <th>Publisher</th>\n",
       "      <th>Genre</th>\n",
       "      <th>Country</th>\n",
       "      <th>Continent</th>\n",
       "    </tr>\n",
       "  </thead>\n",
       "  <tbody>\n",
       "    <tr>\n",
       "      <th>count</th>\n",
       "      <td>330954</td>\n",
       "      <td>330954</td>\n",
       "      <td>330954</td>\n",
       "      <td>330954</td>\n",
       "      <td>330954</td>\n",
       "      <td>330954</td>\n",
       "      <td>330954</td>\n",
       "    </tr>\n",
       "    <tr>\n",
       "      <th>unique</th>\n",
       "      <td>121592</td>\n",
       "      <td>111320</td>\n",
       "      <td>52065</td>\n",
       "      <td>9580</td>\n",
       "      <td>6691</td>\n",
       "      <td>48</td>\n",
       "      <td>7</td>\n",
       "    </tr>\n",
       "    <tr>\n",
       "      <th>top</th>\n",
       "      <td>0316666343</td>\n",
       "      <td>The Lovely Bones: A Novel</td>\n",
       "      <td>Stephen King</td>\n",
       "      <td>Ballantine Books</td>\n",
       "      <td>No specified</td>\n",
       "      <td>Usa</td>\n",
       "      <td>North America</td>\n",
       "    </tr>\n",
       "    <tr>\n",
       "      <th>freq</th>\n",
       "      <td>710</td>\n",
       "      <td>710</td>\n",
       "      <td>4007</td>\n",
       "      <td>11222</td>\n",
       "      <td>228928</td>\n",
       "      <td>230589</td>\n",
       "      <td>261020</td>\n",
       "    </tr>\n",
       "  </tbody>\n",
       "</table>\n",
       "</div>"
      ],
      "text/plain": [
       "              ISBN                 Book-Title   Book-Author         Publisher  \\\n",
       "count       330954                     330954        330954            330954   \n",
       "unique      121592                     111320         52065              9580   \n",
       "top     0316666343  The Lovely Bones: A Novel  Stephen King  Ballantine Books   \n",
       "freq           710                        710          4007             11222   \n",
       "\n",
       "               Genre Country      Continent  \n",
       "count         330954  330954         330954  \n",
       "unique          6691      48              7  \n",
       "top     No specified     Usa  North America  \n",
       "freq          228928  230589         261020  "
      ]
     },
     "execution_count": 185,
     "metadata": {},
     "output_type": "execute_result"
    }
   ],
   "source": [
    "books_rat_us[mask].describe(include= 'object' )"
   ]
  },
  {
   "cell_type": "code",
   "execution_count": 186,
   "id": "7354e942-2a2e-4a15-88a9-9a5bf3973cf5",
   "metadata": {},
   "outputs": [
    {
     "data": {
      "text/plain": [
       "['Solarize_Light2',\n",
       " '_classic_test_patch',\n",
       " '_mpl-gallery',\n",
       " '_mpl-gallery-nogrid',\n",
       " 'bmh',\n",
       " 'classic',\n",
       " 'dark_background',\n",
       " 'fast',\n",
       " 'fivethirtyeight',\n",
       " 'ggplot',\n",
       " 'grayscale',\n",
       " 'petroff10',\n",
       " 'seaborn-v0_8',\n",
       " 'seaborn-v0_8-bright',\n",
       " 'seaborn-v0_8-colorblind',\n",
       " 'seaborn-v0_8-dark',\n",
       " 'seaborn-v0_8-dark-palette',\n",
       " 'seaborn-v0_8-darkgrid',\n",
       " 'seaborn-v0_8-deep',\n",
       " 'seaborn-v0_8-muted',\n",
       " 'seaborn-v0_8-notebook',\n",
       " 'seaborn-v0_8-paper',\n",
       " 'seaborn-v0_8-pastel',\n",
       " 'seaborn-v0_8-poster',\n",
       " 'seaborn-v0_8-talk',\n",
       " 'seaborn-v0_8-ticks',\n",
       " 'seaborn-v0_8-white',\n",
       " 'seaborn-v0_8-whitegrid',\n",
       " 'tableau-colorblind10']"
      ]
     },
     "execution_count": 186,
     "metadata": {},
     "output_type": "execute_result"
    }
   ],
   "source": [
    "plt.style.available"
   ]
  },
  {
   "cell_type": "code",
   "execution_count": 187,
   "id": "e57ed830-022e-44fa-88df-6143493004c7",
   "metadata": {},
   "outputs": [
    {
     "data": {
      "image/png": "[encoded data removed]",
      "text/plain": [
       "<Figure size 640x480 with 1 Axes>"
      ]
     },
     "metadata": {},
     "output_type": "display_data"
    }
   ],
   "source": [
    "plt.style.use('seaborn-v0_8-darkgrid')\n",
    "sb.histplot(books_rat_us.loc[mask,\"Book-Rating\"],bins=20)\n",
    "plt.title(\"Distribution of Book Ratings\")\n",
    "plt.show()"
   ]
  },
  {
   "cell_type": "code",
   "execution_count": 188,
   "id": "de227380-6311-4f1e-9a23-d8e19de65728",
   "metadata": {},
   "outputs": [],
   "source": [
    "# Average Age of users is 32 and a significant majority of users are from the ‘Adults’ category which is between 25 and 45 years old.\n",
    "#The youngest users are 12 years old and the oldest is 118."
   ]
  },
  {
   "cell_type": "code",
   "execution_count": 189,
   "id": "a7b49cb7-9054-4ac1-b2b0-c66f990284da",
   "metadata": {},
   "outputs": [
    {
     "data": {
      "text/plain": [
       "np.int64(12)"
      ]
     },
     "execution_count": 189,
     "metadata": {},
     "output_type": "execute_result"
    }
   ],
   "source": [
    "books_rat_us[\"Age\"].min()"
   ]
  },
  {
   "cell_type": "code",
   "execution_count": 190,
   "id": "6aa5c566-9edc-4660-80f9-2db6f634ef8d",
   "metadata": {},
   "outputs": [
    {
     "data": {
      "text/plain": [
       "np.int64(118)"
      ]
     },
     "execution_count": 190,
     "metadata": {},
     "output_type": "execute_result"
    }
   ],
   "source": [
    "books_rat_us[\"Age\"].max()"
   ]
  },
  {
   "cell_type": "code",
   "execution_count": 191,
   "id": "23e11ab9-8875-4468-94fb-a7c0824e4b08",
   "metadata": {
    "scrolled": true
   },
   "outputs": [
    {
     "data": {
      "text/plain": [
       "<Figure size 1000x1500 with 0 Axes>"
      ]
     },
     "metadata": {},
     "output_type": "display_data"
    },
    {
     "data": {
      "image/png": "[encoded data removed]",
      "text/plain": [
       "<Figure size 511.111x500 with 1 Axes>"
      ]
     },
     "metadata": {},
     "output_type": "display_data"
    }
   ],
   "source": [
    "y=books_rat_us[\"Age_Group\"].value_counts()\n",
    "plt.figure(figsize=(10,15))\n",
    "plt.style.use('seaborn-v0_8-darkgrid')\n",
    "agedis=sb.catplot (data=books_rat_us, x=books_rat_us[\"Age_Group\"],kind=\"count\")\n",
    "axes=agedis.axes[0,0]\n",
    "#הוספת תוית על עמודה COUNT\n",
    "axes.bar_label(axes.containers[0],label_type=\"edge\")\n",
    "plt.title(\"Distribution of User's Age\")\n",
    "plt.show()"
   ]
  },
  {
   "cell_type": "code",
   "execution_count": 192,
   "id": "143a9b6a-c3ee-48f3-91f7-fad00ccf2e66",
   "metadata": {},
   "outputs": [],
   "source": [
    "# What is a geographic distribution of users?"
   ]
  },
  {
   "cell_type": "code",
   "execution_count": 193,
   "id": "f1edb3f0-d858-4c8b-a6be-3e34504bc160",
   "metadata": {},
   "outputs": [
    {
     "data": {
      "text/plain": [
       "array(['North America', 'Europe', 'Australia', 'Unknown', 'Asia',\n",
       "       'Africa', 'South America'], dtype=object)"
      ]
     },
     "execution_count": 193,
     "metadata": {},
     "output_type": "execute_result"
    }
   ],
   "source": [
    "books_rat_us[\"Continent\"].unique()"
   ]
  },
  {
   "cell_type": "code",
   "execution_count": 194,
   "id": "8fb574c0-b2fd-475a-8a75-e3e2a3e9b4d6",
   "metadata": {},
   "outputs": [
    {
     "data": {
      "image/png": "[encoded data removed]",
      "text/plain": [
       "<Figure size 640x480 with 1 Axes>"
      ]
     },
     "metadata": {},
     "output_type": "display_data"
    }
   ],
   "source": [
    "contdis=sb.countplot(data=books_rat_us, x=\"Continent\")\n",
    "#הוספת תוית על עמודה COUNT\n",
    "contdis.bar_label(contdis.containers[0],label_type=\"edge\")\n",
    "plt.title(\"Distribution of User's Geographics\")\n",
    "plt.show()\n"
   ]
  },
  {
   "cell_type": "code",
   "execution_count": 195,
   "id": "25882bfe-6574-4e3b-9208-5b5229316d59",
   "metadata": {},
   "outputs": [],
   "source": [
    "# Most frequent users are from North America, mostely from USA."
   ]
  },
  {
   "cell_type": "code",
   "execution_count": 196,
   "id": "c9ae3c39-85a9-47c0-900d-ae9ac02ba8ac",
   "metadata": {},
   "outputs": [
    {
     "data": {
      "text/plain": [
       "Country\n",
       "Usa       643901\n",
       "Canada     78315\n",
       "Mexico       264\n",
       "Name: count, dtype: int64"
      ]
     },
     "execution_count": 196,
     "metadata": {},
     "output_type": "execute_result"
    }
   ],
   "source": [
    "books_rat_us[books_rat_us[\"Continent\"]==\"North America\"][\"Country\"].value_counts()"
   ]
  },
  {
   "cell_type": "code",
   "execution_count": 197,
   "id": "9e0b69e6-f1c9-4033-9b36-2e7f3414c1ae",
   "metadata": {},
   "outputs": [],
   "source": [
    "# What are the most popular Genres according to average book-rating?"
   ]
  },
  {
   "cell_type": "code",
   "execution_count": 198,
   "id": "f2bd5810-2b90-4e57-bf86-6ecd07dd13a0",
   "metadata": {},
   "outputs": [
    {
     "data": {
      "text/plain": [
       "Genre\n",
       "the Blitz             10.0\n",
       "stone circles         10.0\n",
       "Écoles secondaires    10.0\n",
       "wizards               10.0\n",
       "western romance       10.0\n",
       "Name: Book-Rating, dtype: float64"
      ]
     },
     "execution_count": 198,
     "metadata": {},
     "output_type": "execute_result"
    }
   ],
   "source": [
    "books_rat_us[books_rat_us[\"Book-Rating\"]>0].groupby(\"Genre\")[\"Book-Rating\"].mean().sort_values(ascending=False).head() \n"
   ]
  },
  {
   "cell_type": "code",
   "execution_count": 199,
   "id": "8353f89a-a8d8-4a43-badf-350bdfe9c5e7",
   "metadata": {},
   "outputs": [],
   "source": [
    "# What are the most popular books according to average book-rating?"
   ]
  },
  {
   "cell_type": "code",
   "execution_count": 200,
   "id": "4714c6d2-0974-41cd-857c-2180ca69ed36",
   "metadata": {},
   "outputs": [
    {
     "data": {
      "text/plain": [
       "Book-Title\n",
       " The Secret of the Old Clock (Nancy Drew, Book 1)    10.0\n",
       " Dark Justice                                        10.0\n",
       "touch the flame                                      10.0\n",
       "Name: Book-Rating, dtype: float64"
      ]
     },
     "execution_count": 200,
     "metadata": {},
     "output_type": "execute_result"
    }
   ],
   "source": [
    "books_rat_us[books_rat_us[\"Book-Rating\"]>0].groupby(\"Book-Title\")[\"Book-Rating\"].mean().sort_values(ascending=False).head(3) "
   ]
  },
  {
   "cell_type": "code",
   "execution_count": 201,
   "id": "78885f85-f7e5-4632-a39e-a26610a4f966",
   "metadata": {},
   "outputs": [],
   "source": [
    "# Who are the most successful authors by average book-rating?"
   ]
  },
  {
   "cell_type": "code",
   "execution_count": 202,
   "id": "b208aba2-4dd3-43a1-9202-0df3e467dbb5",
   "metadata": {},
   "outputs": [
    {
     "data": {
      "text/plain": [
       "Book-Author\n",
       "A. E. Van Vogt             10.0\n",
       "A. E. Housman              10.0\n",
       "A. E. Hartnik              10.0\n",
       "phyllis reynolds naylor    10.0\n",
       "various authors            10.0\n",
       "Name: Book-Rating, dtype: float64"
      ]
     },
     "execution_count": 202,
     "metadata": {},
     "output_type": "execute_result"
    }
   ],
   "source": [
    "books_rat_us[books_rat_us[\"Book-Rating\"]>0].groupby(\"Book-Author\")[\"Book-Rating\"].mean().sort_values(ascending=False).head(5) "
   ]
  },
  {
   "cell_type": "code",
   "execution_count": 203,
   "id": "37752833-5315-4b99-bba2-d45ac1fa6227",
   "metadata": {},
   "outputs": [],
   "source": [
    "# Is it any correlation between age of users and their raiting trends?"
   ]
  },
  {
   "cell_type": "code",
   "execution_count": 204,
   "id": "fd7b0585-c86b-41a5-a0f1-3e5cbc3b2188",
   "metadata": {},
   "outputs": [
    {
     "data": {
      "text/html": [
       "<div>\n",
       "<style scoped>\n",
       "    .dataframe tbody tr th:only-of-type {\n",
       "        vertical-align: middle;\n",
       "    }\n",
       "\n",
       "    .dataframe tbody tr th {\n",
       "        vertical-align: top;\n",
       "    }\n",
       "\n",
       "    .dataframe thead th {\n",
       "        text-align: right;\n",
       "    }\n",
       "</style>\n",
       "<table border=\"1\" class=\"dataframe\">\n",
       "  <thead>\n",
       "    <tr style=\"text-align: right;\">\n",
       "      <th></th>\n",
       "      <th>Year-Of-Publication</th>\n",
       "      <th>User-ID</th>\n",
       "      <th>Book-Rating</th>\n",
       "      <th>Age</th>\n",
       "    </tr>\n",
       "  </thead>\n",
       "  <tbody>\n",
       "    <tr>\n",
       "      <th>Year-Of-Publication</th>\n",
       "      <td>1.000000</td>\n",
       "      <td>-0.003260</td>\n",
       "      <td>0.014524</td>\n",
       "      <td>0.048582</td>\n",
       "    </tr>\n",
       "    <tr>\n",
       "      <th>User-ID</th>\n",
       "      <td>-0.003260</td>\n",
       "      <td>1.000000</td>\n",
       "      <td>-0.019480</td>\n",
       "      <td>-0.012364</td>\n",
       "    </tr>\n",
       "    <tr>\n",
       "      <th>Book-Rating</th>\n",
       "      <td>0.014524</td>\n",
       "      <td>-0.019480</td>\n",
       "      <td>1.000000</td>\n",
       "      <td>0.035206</td>\n",
       "    </tr>\n",
       "    <tr>\n",
       "      <th>Age</th>\n",
       "      <td>0.048582</td>\n",
       "      <td>-0.012364</td>\n",
       "      <td>0.035206</td>\n",
       "      <td>1.000000</td>\n",
       "    </tr>\n",
       "  </tbody>\n",
       "</table>\n",
       "</div>"
      ],
      "text/plain": [
       "                     Year-Of-Publication   User-ID  Book-Rating       Age\n",
       "Year-Of-Publication             1.000000 -0.003260     0.014524  0.048582\n",
       "User-ID                        -0.003260  1.000000    -0.019480 -0.012364\n",
       "Book-Rating                     0.014524 -0.019480     1.000000  0.035206\n",
       "Age                             0.048582 -0.012364     0.035206  1.000000"
      ]
     },
     "execution_count": 204,
     "metadata": {},
     "output_type": "execute_result"
    }
   ],
   "source": [
    "books_rat_us.loc[mask].corr(numeric_only=True)"
   ]
  },
  {
   "cell_type": "code",
   "execution_count": 205,
   "id": "b21b41d8-27c9-4ae0-bc22-5b167f21d74e",
   "metadata": {},
   "outputs": [],
   "source": [
    "data=books_rat_us.loc[mask,[\"Age\",\"Book-Rating\"]].dropna()"
   ]
  },
  {
   "cell_type": "code",
   "execution_count": 206,
   "id": "4faa09ef-8136-47c6-afb2-5f4b716f7e97",
   "metadata": {},
   "outputs": [
    {
     "data": {
      "image/png": "[encoded data removed]",
      "text/plain": [
       "<Figure size 640x480 with 1 Axes>"
      ]
     },
     "metadata": {},
     "output_type": "display_data"
    }
   ],
   "source": [
    "books_rat_us.plot.scatter(x=\"Age\", y=\"Book-Rating\", alpha=0.3)\n",
    "plt.title (\"Age vs Book-rates\")\n",
    "plt.show()"
   ]
  },
  {
   "cell_type": "code",
   "execution_count": 207,
   "id": "c5a5ecc7-cfa3-404c-bccf-e328b3e37ff3",
   "metadata": {},
   "outputs": [],
   "source": [
    "# It seems like there is no correlation between Book-Rating and age"
   ]
  },
  {
   "cell_type": "markdown",
   "id": "b735b126-34f3-4d9d-942a-52ba303fb5a0",
   "metadata": {},
   "source": [
    "# Advanced statistics and Visualisation"
   ]
  },
  {
   "cell_type": "markdown",
   "id": "4dbb1397-d07c-4d38-96d2-06d915ac966f",
   "metadata": {},
   "source": [
    "###  Book's related statistics"
   ]
  },
  {
   "cell_type": "code",
   "execution_count": 208,
   "id": "8fc6827e-8770-4ffb-adff-c49bd65b4a57",
   "metadata": {},
   "outputs": [],
   "source": [
    "# Average rate & number of ratings for each book"
   ]
  },
  {
   "cell_type": "code",
   "execution_count": 209,
   "id": "2dc828c1-786f-4c28-a23c-a8cd4718fcad",
   "metadata": {},
   "outputs": [],
   "source": [
    "mask=books_rat_us[books_rat_us[\"Book-Rating\"]>0][[\n",
    "    \"ISBN\",\"Book-Title\",\"Book-Rating\",\"Year-Of-Publication\",\"Publisher\",\"Genre\",\"User-ID\",\"Age\",\"Age_Group\",\"Continent\"]]"
   ]
  },
  {
   "cell_type": "code",
   "execution_count": 210,
   "id": "0301f338-6685-40f8-b6e4-2b820971894e",
   "metadata": {},
   "outputs": [],
   "source": [
    "rated=mask.groupby(\"Book-Title\",as_index=False).agg (\n",
    "    mean_rating=(\"Book-Rating\",\"mean\"),num_rating=(\"Book-Rating\",\"count\")).query(\"num_rating >=10\")\n",
    "rated[\"mean_rating\"] = rated[\"mean_rating\"].round(1)"
   ]
  },
  {
   "cell_type": "code",
   "execution_count": 211,
   "id": "4cb684d6-a338-4159-9fa0-4fdbe60f88d2",
   "metadata": {},
   "outputs": [
    {
     "data": {
      "text/html": [
       "<div>\n",
       "<style scoped>\n",
       "    .dataframe tbody tr th:only-of-type {\n",
       "        vertical-align: middle;\n",
       "    }\n",
       "\n",
       "    .dataframe tbody tr th {\n",
       "        vertical-align: top;\n",
       "    }\n",
       "\n",
       "    .dataframe thead th {\n",
       "        text-align: right;\n",
       "    }\n",
       "</style>\n",
       "<table border=\"1\" class=\"dataframe\">\n",
       "  <thead>\n",
       "    <tr style=\"text-align: right;\">\n",
       "      <th></th>\n",
       "      <th>Book-Title</th>\n",
       "      <th>mean_rating</th>\n",
       "    </tr>\n",
       "  </thead>\n",
       "  <tbody>\n",
       "    <tr>\n",
       "      <th>65149</th>\n",
       "      <td>Postmarked Yesteryear: 30 Rare Holiday Postcards</td>\n",
       "      <td>10.0</td>\n",
       "    </tr>\n",
       "    <tr>\n",
       "      <th>37168</th>\n",
       "      <td>Harry Potter and the Chamber of Secrets Postca...</td>\n",
       "      <td>9.9</td>\n",
       "    </tr>\n",
       "    <tr>\n",
       "      <th>24336</th>\n",
       "      <td>Dilbert: A Book of Postcards</td>\n",
       "      <td>9.9</td>\n",
       "    </tr>\n",
       "    <tr>\n",
       "      <th>45919</th>\n",
       "      <td>Kiss of the Night (A Dark-Hunter Novel)</td>\n",
       "      <td>9.8</td>\n",
       "    </tr>\n",
       "    <tr>\n",
       "      <th>98055</th>\n",
       "      <td>The Two Towers (The Lord of the Rings, Part 2)</td>\n",
       "      <td>9.7</td>\n",
       "    </tr>\n",
       "    <tr>\n",
       "      <th>69347</th>\n",
       "      <td>Route 66 Postcards: Greetings from the Mother ...</td>\n",
       "      <td>9.7</td>\n",
       "    </tr>\n",
       "    <tr>\n",
       "      <th>67147</th>\n",
       "      <td>Ranma 1/2 (Ranma 1/2)</td>\n",
       "      <td>9.7</td>\n",
       "    </tr>\n",
       "    <tr>\n",
       "      <th>53978</th>\n",
       "      <td>Maus 1. Mein Vater kotzt Geschichte aus. Die G...</td>\n",
       "      <td>9.7</td>\n",
       "    </tr>\n",
       "    <tr>\n",
       "      <th>80427</th>\n",
       "      <td>The Authoritative Calvin and Hobbes (Calvin an...</td>\n",
       "      <td>9.6</td>\n",
       "    </tr>\n",
       "    <tr>\n",
       "      <th>47081</th>\n",
       "      <td>La Sombra del Viento</td>\n",
       "      <td>9.6</td>\n",
       "    </tr>\n",
       "    <tr>\n",
       "      <th>37158</th>\n",
       "      <td>Harry Potter Und Der Feuerkelch</td>\n",
       "      <td>9.6</td>\n",
       "    </tr>\n",
       "    <tr>\n",
       "      <th>94741</th>\n",
       "      <td>The Return of the King (The Lord of The Rings,...</td>\n",
       "      <td>9.6</td>\n",
       "    </tr>\n",
       "    <tr>\n",
       "      <th>41544</th>\n",
       "      <td>Il Piccolo Principe</td>\n",
       "      <td>9.5</td>\n",
       "    </tr>\n",
       "    <tr>\n",
       "      <th>90286</th>\n",
       "      <td>The Little Prince</td>\n",
       "      <td>9.5</td>\n",
       "    </tr>\n",
       "    <tr>\n",
       "      <th>67696</th>\n",
       "      <td>Redeeming Love</td>\n",
       "      <td>9.5</td>\n",
       "    </tr>\n",
       "    <tr>\n",
       "      <th>80505</th>\n",
       "      <td>The BFG</td>\n",
       "      <td>9.5</td>\n",
       "    </tr>\n",
       "    <tr>\n",
       "      <th>88714</th>\n",
       "      <td>The Indispensable Calvin And Hobbes</td>\n",
       "      <td>9.5</td>\n",
       "    </tr>\n",
       "    <tr>\n",
       "      <th>97312</th>\n",
       "      <td>The Teenage Liberation Handbook: How to Quit S...</td>\n",
       "      <td>9.5</td>\n",
       "    </tr>\n",
       "    <tr>\n",
       "      <th>716</th>\n",
       "      <td>52 Deck Series: 52 Ways to Celebrate Friendship</td>\n",
       "      <td>9.5</td>\n",
       "    </tr>\n",
       "    <tr>\n",
       "      <th>103063</th>\n",
       "      <td>Tully</td>\n",
       "      <td>9.5</td>\n",
       "    </tr>\n",
       "  </tbody>\n",
       "</table>\n",
       "</div>"
      ],
      "text/plain": [
       "                                               Book-Title  mean_rating\n",
       "65149    Postmarked Yesteryear: 30 Rare Holiday Postcards         10.0\n",
       "37168   Harry Potter and the Chamber of Secrets Postca...          9.9\n",
       "24336                        Dilbert: A Book of Postcards          9.9\n",
       "45919             Kiss of the Night (A Dark-Hunter Novel)          9.8\n",
       "98055      The Two Towers (The Lord of the Rings, Part 2)          9.7\n",
       "69347   Route 66 Postcards: Greetings from the Mother ...          9.7\n",
       "67147                               Ranma 1/2 (Ranma 1/2)          9.7\n",
       "53978   Maus 1. Mein Vater kotzt Geschichte aus. Die G...          9.7\n",
       "80427   The Authoritative Calvin and Hobbes (Calvin an...          9.6\n",
       "47081                                La Sombra del Viento          9.6\n",
       "37158                     Harry Potter Und Der Feuerkelch          9.6\n",
       "94741   The Return of the King (The Lord of The Rings,...          9.6\n",
       "41544                                 Il Piccolo Principe          9.5\n",
       "90286                                   The Little Prince          9.5\n",
       "67696                                      Redeeming Love          9.5\n",
       "80505                                             The BFG          9.5\n",
       "88714                 The Indispensable Calvin And Hobbes          9.5\n",
       "97312   The Teenage Liberation Handbook: How to Quit S...          9.5\n",
       "716       52 Deck Series: 52 Ways to Celebrate Friendship          9.5\n",
       "103063                                              Tully          9.5"
      ]
     },
     "execution_count": 211,
     "metadata": {},
     "output_type": "execute_result"
    }
   ],
   "source": [
    "# Top 20 books with highest average rating\n",
    "rated [[\"Book-Title\",\"mean_rating\"]].sort_values(by=\"mean_rating\",ascending=False).head(20)"
   ]
  },
  {
   "cell_type": "code",
   "execution_count": 212,
   "id": "ccb33fc0-732f-4b57-ad49-c8b67eea354c",
   "metadata": {},
   "outputs": [
    {
     "data": {
      "text/html": [
       "<div>\n",
       "<style scoped>\n",
       "    .dataframe tbody tr th:only-of-type {\n",
       "        vertical-align: middle;\n",
       "    }\n",
       "\n",
       "    .dataframe tbody tr th {\n",
       "        vertical-align: top;\n",
       "    }\n",
       "\n",
       "    .dataframe thead th {\n",
       "        text-align: right;\n",
       "    }\n",
       "</style>\n",
       "<table border=\"1\" class=\"dataframe\">\n",
       "  <thead>\n",
       "    <tr style=\"text-align: right;\">\n",
       "      <th></th>\n",
       "      <th>Book-Title</th>\n",
       "      <th>num_rating</th>\n",
       "    </tr>\n",
       "  </thead>\n",
       "  <tbody>\n",
       "    <tr>\n",
       "      <th>90629</th>\n",
       "      <td>The Lovely Bones: A Novel</td>\n",
       "      <td>710</td>\n",
       "    </tr>\n",
       "    <tr>\n",
       "      <th>108612</th>\n",
       "      <td>Wild Animus</td>\n",
       "      <td>577</td>\n",
       "    </tr>\n",
       "    <tr>\n",
       "      <th>84132</th>\n",
       "      <td>The Da Vinci Code</td>\n",
       "      <td>493</td>\n",
       "    </tr>\n",
       "    <tr>\n",
       "      <th>95655</th>\n",
       "      <td>The Secret Life of Bees</td>\n",
       "      <td>404</td>\n",
       "    </tr>\n",
       "    <tr>\n",
       "      <th>92059</th>\n",
       "      <td>The Nanny Diaries: A Novel</td>\n",
       "      <td>392</td>\n",
       "    </tr>\n",
       "    <tr>\n",
       "      <th>94588</th>\n",
       "      <td>The Red Tent (Bestselling Backlist)</td>\n",
       "      <td>380</td>\n",
       "    </tr>\n",
       "    <tr>\n",
       "      <th>13096</th>\n",
       "      <td>Bridget Jones's Diary</td>\n",
       "      <td>375</td>\n",
       "    </tr>\n",
       "    <tr>\n",
       "      <th>2627</th>\n",
       "      <td>A Painted House</td>\n",
       "      <td>360</td>\n",
       "    </tr>\n",
       "    <tr>\n",
       "      <th>49578</th>\n",
       "      <td>Life of Pi</td>\n",
       "      <td>337</td>\n",
       "    </tr>\n",
       "    <tr>\n",
       "      <th>37165</th>\n",
       "      <td>Harry Potter and the Chamber of Secrets (Book 2)</td>\n",
       "      <td>324</td>\n",
       "    </tr>\n",
       "    <tr>\n",
       "      <th>24777</th>\n",
       "      <td>Divine Secrets of the Ya-Ya Sisterhood: A Novel</td>\n",
       "      <td>320</td>\n",
       "    </tr>\n",
       "    <tr>\n",
       "      <th>37194</th>\n",
       "      <td>Harry Potter and the Sorcerer's Stone (Harry P...</td>\n",
       "      <td>309</td>\n",
       "    </tr>\n",
       "    <tr>\n",
       "      <th>6831</th>\n",
       "      <td>Angels &amp;amp; Demons</td>\n",
       "      <td>306</td>\n",
       "    </tr>\n",
       "    <tr>\n",
       "      <th>97031</th>\n",
       "      <td>The Summons</td>\n",
       "      <td>305</td>\n",
       "    </tr>\n",
       "    <tr>\n",
       "      <th>107863</th>\n",
       "      <td>Where the Heart Is (Oprah's Book Club (Paperba...</td>\n",
       "      <td>293</td>\n",
       "    </tr>\n",
       "    <tr>\n",
       "      <th>92565</th>\n",
       "      <td>The Notebook</td>\n",
       "      <td>289</td>\n",
       "    </tr>\n",
       "    <tr>\n",
       "      <th>34758</th>\n",
       "      <td>Girl with a Pearl Earring</td>\n",
       "      <td>284</td>\n",
       "    </tr>\n",
       "    <tr>\n",
       "      <th>37184</th>\n",
       "      <td>Harry Potter and the Prisoner of Azkaban (Book 3)</td>\n",
       "      <td>274</td>\n",
       "    </tr>\n",
       "    <tr>\n",
       "      <th>74365</th>\n",
       "      <td>Snow Falling on Cedars</td>\n",
       "      <td>273</td>\n",
       "    </tr>\n",
       "    <tr>\n",
       "      <th>93537</th>\n",
       "      <td>The Pilot's Wife : A Novel</td>\n",
       "      <td>270</td>\n",
       "    </tr>\n",
       "  </tbody>\n",
       "</table>\n",
       "</div>"
      ],
      "text/plain": [
       "                                               Book-Title  num_rating\n",
       "90629                           The Lovely Bones: A Novel         710\n",
       "108612                                        Wild Animus         577\n",
       "84132                                   The Da Vinci Code         493\n",
       "95655                             The Secret Life of Bees         404\n",
       "92059                          The Nanny Diaries: A Novel         392\n",
       "94588                 The Red Tent (Bestselling Backlist)         380\n",
       "13096                               Bridget Jones's Diary         375\n",
       "2627                                      A Painted House         360\n",
       "49578                                          Life of Pi         337\n",
       "37165    Harry Potter and the Chamber of Secrets (Book 2)         324\n",
       "24777     Divine Secrets of the Ya-Ya Sisterhood: A Novel         320\n",
       "37194   Harry Potter and the Sorcerer's Stone (Harry P...         309\n",
       "6831                                  Angels &amp; Demons         306\n",
       "97031                                         The Summons         305\n",
       "107863  Where the Heart Is (Oprah's Book Club (Paperba...         293\n",
       "92565                                        The Notebook         289\n",
       "34758                           Girl with a Pearl Earring         284\n",
       "37184   Harry Potter and the Prisoner of Azkaban (Book 3)         274\n",
       "74365                              Snow Falling on Cedars         273\n",
       "93537                          The Pilot's Wife : A Novel         270"
      ]
     },
     "execution_count": 212,
     "metadata": {},
     "output_type": "execute_result"
    }
   ],
   "source": [
    "# Top 20 most rated books\n",
    "rated[[\"Book-Title\",\"num_rating\"]].sort_values(by=\"num_rating\",ascending=False).head(20)"
   ]
  },
  {
   "cell_type": "code",
   "execution_count": 213,
   "id": "0c4fc705-50ff-4cb6-86cb-db3505db28ef",
   "metadata": {},
   "outputs": [],
   "source": [
    "# Highest-rated books by publication year\n",
    "rated_by_year=mask.groupby([\"Year-Of-Publication\",\"Book-Title\"],as_index=False).agg (\n",
    "    mean_rating=(\"Book-Rating\",\"mean\"), num_rating =(\"Book-Rating\",\"count\")).query(\"num_rating >=10\") "
   ]
  },
  {
   "cell_type": "code",
   "execution_count": 214,
   "id": "1b8b83a2-8bea-4d77-86fd-4e0f0cd5ed54",
   "metadata": {
    "scrolled": true
   },
   "outputs": [
    {
     "data": {
      "text/html": [
       "<div>\n",
       "<style scoped>\n",
       "    .dataframe tbody tr th:only-of-type {\n",
       "        vertical-align: middle;\n",
       "    }\n",
       "\n",
       "    .dataframe tbody tr th {\n",
       "        vertical-align: top;\n",
       "    }\n",
       "\n",
       "    .dataframe thead th {\n",
       "        text-align: right;\n",
       "    }\n",
       "</style>\n",
       "<table border=\"1\" class=\"dataframe\">\n",
       "  <thead>\n",
       "    <tr style=\"text-align: right;\">\n",
       "      <th></th>\n",
       "      <th>Year-Of-Publication</th>\n",
       "      <th>Book-Title</th>\n",
       "      <th>mean_rating</th>\n",
       "      <th>num_rating</th>\n",
       "    </tr>\n",
       "  </thead>\n",
       "  <tbody>\n",
       "    <tr>\n",
       "      <th>76</th>\n",
       "      <td>1988</td>\n",
       "      <td>A Room With a View (Classic)</td>\n",
       "      <td>7.454545</td>\n",
       "      <td>11</td>\n",
       "    </tr>\n",
       "    <tr>\n",
       "      <th>109</th>\n",
       "      <td>1988</td>\n",
       "      <td>Accidental Tourist</td>\n",
       "      <td>7.928571</td>\n",
       "      <td>14</td>\n",
       "    </tr>\n",
       "    <tr>\n",
       "      <th>146</th>\n",
       "      <td>1988</td>\n",
       "      <td>All I Really Need to Know I Learned in Kinderg...</td>\n",
       "      <td>7.375000</td>\n",
       "      <td>24</td>\n",
       "    </tr>\n",
       "    <tr>\n",
       "      <th>329</th>\n",
       "      <td>1988</td>\n",
       "      <td>Black Elk Speaks: Being the Life Story of a Ho...</td>\n",
       "      <td>7.900000</td>\n",
       "      <td>10</td>\n",
       "    </tr>\n",
       "    <tr>\n",
       "      <th>341</th>\n",
       "      <td>1988</td>\n",
       "      <td>Bloodline</td>\n",
       "      <td>7.800000</td>\n",
       "      <td>10</td>\n",
       "    </tr>\n",
       "    <tr>\n",
       "      <th>...</th>\n",
       "      <td>...</td>\n",
       "      <td>...</td>\n",
       "      <td>...</td>\n",
       "      <td>...</td>\n",
       "    </tr>\n",
       "    <tr>\n",
       "      <th>119749</th>\n",
       "      <td>2004</td>\n",
       "      <td>When He Was Wicked (Bridgerton Family Series)</td>\n",
       "      <td>8.600000</td>\n",
       "      <td>10</td>\n",
       "    </tr>\n",
       "    <tr>\n",
       "      <th>119802</th>\n",
       "      <td>2004</td>\n",
       "      <td>Wild Animus</td>\n",
       "      <td>4.367418</td>\n",
       "      <td>577</td>\n",
       "    </tr>\n",
       "    <tr>\n",
       "      <th>119820</th>\n",
       "      <td>2004</td>\n",
       "      <td>Winter Prey</td>\n",
       "      <td>8.080000</td>\n",
       "      <td>25</td>\n",
       "    </tr>\n",
       "    <tr>\n",
       "      <th>119834</th>\n",
       "      <td>2004</td>\n",
       "      <td>Without Remorse</td>\n",
       "      <td>7.844828</td>\n",
       "      <td>58</td>\n",
       "    </tr>\n",
       "    <tr>\n",
       "      <th>119837</th>\n",
       "      <td>2004</td>\n",
       "      <td>Witness in Death (Eve Dallas Mysteries (Paperb...</td>\n",
       "      <td>7.764706</td>\n",
       "      <td>17</td>\n",
       "    </tr>\n",
       "  </tbody>\n",
       "</table>\n",
       "<p>4880 rows × 4 columns</p>\n",
       "</div>"
      ],
      "text/plain": [
       "        Year-Of-Publication  \\\n",
       "76                     1988   \n",
       "109                    1988   \n",
       "146                    1988   \n",
       "329                    1988   \n",
       "341                    1988   \n",
       "...                     ...   \n",
       "119749                 2004   \n",
       "119802                 2004   \n",
       "119820                 2004   \n",
       "119834                 2004   \n",
       "119837                 2004   \n",
       "\n",
       "                                               Book-Title  mean_rating  \\\n",
       "76                           A Room With a View (Classic)     7.454545   \n",
       "109                                    Accidental Tourist     7.928571   \n",
       "146     All I Really Need to Know I Learned in Kinderg...     7.375000   \n",
       "329     Black Elk Speaks: Being the Life Story of a Ho...     7.900000   \n",
       "341                                             Bloodline     7.800000   \n",
       "...                                                   ...          ...   \n",
       "119749      When He Was Wicked (Bridgerton Family Series)     8.600000   \n",
       "119802                                        Wild Animus     4.367418   \n",
       "119820                                        Winter Prey     8.080000   \n",
       "119834                                    Without Remorse     7.844828   \n",
       "119837  Witness in Death (Eve Dallas Mysteries (Paperb...     7.764706   \n",
       "\n",
       "        num_rating  \n",
       "76              11  \n",
       "109             14  \n",
       "146             24  \n",
       "329             10  \n",
       "341             10  \n",
       "...            ...  \n",
       "119749          10  \n",
       "119802         577  \n",
       "119820          25  \n",
       "119834          58  \n",
       "119837          17  \n",
       "\n",
       "[4880 rows x 4 columns]"
      ]
     },
     "execution_count": 214,
     "metadata": {},
     "output_type": "execute_result"
    }
   ],
   "source": [
    "rated_by_year"
   ]
  },
  {
   "cell_type": "markdown",
   "id": "1fdca7e0-8726-4f11-a3ca-d3e0dfeaa2df",
   "metadata": {},
   "source": [
    "##### The highest-rated books by publication year"
   ]
  },
  {
   "cell_type": "code",
   "execution_count": 215,
   "id": "16e7f0f7-dc3d-4d1f-ade1-94434472e648",
   "metadata": {},
   "outputs": [],
   "source": [
    "# Top 3 in each year\n",
    "top3_by_year=rated_by_year.sort_values([\"Year-Of-Publication\",\"mean_rating\"],ascending=[True,False]).groupby(\n",
    "    \"Year-Of-Publication\",as_index=False).head(3)"
   ]
  },
  {
   "cell_type": "code",
   "execution_count": 216,
   "id": "18643028-f18d-4ba8-b9d5-8e4b3475997d",
   "metadata": {},
   "outputs": [
    {
     "data": {
      "text/html": [
       "<div>\n",
       "<style scoped>\n",
       "    .dataframe tbody tr th:only-of-type {\n",
       "        vertical-align: middle;\n",
       "    }\n",
       "\n",
       "    .dataframe tbody tr th {\n",
       "        vertical-align: top;\n",
       "    }\n",
       "\n",
       "    .dataframe thead th {\n",
       "        text-align: right;\n",
       "    }\n",
       "</style>\n",
       "<table border=\"1\" class=\"dataframe\">\n",
       "  <thead>\n",
       "    <tr style=\"text-align: right;\">\n",
       "      <th></th>\n",
       "      <th>Year-Of-Publication</th>\n",
       "      <th>Book-Title</th>\n",
       "      <th>mean_rating</th>\n",
       "      <th>num_rating</th>\n",
       "    </tr>\n",
       "  </thead>\n",
       "  <tbody>\n",
       "    <tr>\n",
       "      <th>2909</th>\n",
       "      <td>1988</td>\n",
       "      <td>The Return of the King (The Lord of the Rings,...</td>\n",
       "      <td>9.900000</td>\n",
       "      <td>10</td>\n",
       "    </tr>\n",
       "    <tr>\n",
       "      <th>1535</th>\n",
       "      <td>1988</td>\n",
       "      <td>Lonesome Dove</td>\n",
       "      <td>9.205882</td>\n",
       "      <td>34</td>\n",
       "    </tr>\n",
       "    <tr>\n",
       "      <th>2663</th>\n",
       "      <td>1988</td>\n",
       "      <td>The Essential Calvin and Hobbes</td>\n",
       "      <td>8.950000</td>\n",
       "      <td>20</td>\n",
       "    </tr>\n",
       "    <tr>\n",
       "      <th>3518</th>\n",
       "      <td>1989</td>\n",
       "      <td>ANNE FRANK: DIARY OF A YOUNG GIRL</td>\n",
       "      <td>9.166667</td>\n",
       "      <td>12</td>\n",
       "    </tr>\n",
       "    <tr>\n",
       "      <th>6011</th>\n",
       "      <td>1989</td>\n",
       "      <td>The Blue Castle</td>\n",
       "      <td>8.909091</td>\n",
       "      <td>11</td>\n",
       "    </tr>\n",
       "    <tr>\n",
       "      <th>7035</th>\n",
       "      <td>1989</td>\n",
       "      <td>Yukon Ho!</td>\n",
       "      <td>8.894737</td>\n",
       "      <td>19</td>\n",
       "    </tr>\n",
       "    <tr>\n",
       "      <th>10123</th>\n",
       "      <td>1990</td>\n",
       "      <td>The Authoritative Calvin and Hobbes (Calvin an...</td>\n",
       "      <td>9.571429</td>\n",
       "      <td>21</td>\n",
       "    </tr>\n",
       "    <tr>\n",
       "      <th>7066</th>\n",
       "      <td>1990</td>\n",
       "      <td>84 Charing Cross Road</td>\n",
       "      <td>9.444444</td>\n",
       "      <td>27</td>\n",
       "    </tr>\n",
       "    <tr>\n",
       "      <th>9171</th>\n",
       "      <td>1990</td>\n",
       "      <td>More Than Complete Hitchhiker's Guide</td>\n",
       "      <td>9.375000</td>\n",
       "      <td>16</td>\n",
       "    </tr>\n",
       "    <tr>\n",
       "      <th>15087</th>\n",
       "      <td>1991</td>\n",
       "      <td>The Revenge Of The Baby-Sat</td>\n",
       "      <td>9.363636</td>\n",
       "      <td>11</td>\n",
       "    </tr>\n",
       "    <tr>\n",
       "      <th>14031</th>\n",
       "      <td>1991</td>\n",
       "      <td>Robert Frost's Poems</td>\n",
       "      <td>9.272727</td>\n",
       "      <td>11</td>\n",
       "    </tr>\n",
       "    <tr>\n",
       "      <th>14538</th>\n",
       "      <td>1991</td>\n",
       "      <td>The Blue Sword</td>\n",
       "      <td>9.250000</td>\n",
       "      <td>12</td>\n",
       "    </tr>\n",
       "    <tr>\n",
       "      <th>19807</th>\n",
       "      <td>1992</td>\n",
       "      <td>The Indispensable Calvin And Hobbes</td>\n",
       "      <td>9.500000</td>\n",
       "      <td>16</td>\n",
       "    </tr>\n",
       "    <tr>\n",
       "      <th>16195</th>\n",
       "      <td>1992</td>\n",
       "      <td>Attack Of The Deranged Mutant Killer Snow Goons</td>\n",
       "      <td>9.000000</td>\n",
       "      <td>19</td>\n",
       "    </tr>\n",
       "    <tr>\n",
       "      <th>16694</th>\n",
       "      <td>1992</td>\n",
       "      <td>Cows Of Our Planet (Far Side Series)</td>\n",
       "      <td>9.000000</td>\n",
       "      <td>16</td>\n",
       "    </tr>\n",
       "    <tr>\n",
       "      <th>24243</th>\n",
       "      <td>1993</td>\n",
       "      <td>Route 66 Postcards: Greetings from the Mother ...</td>\n",
       "      <td>9.700000</td>\n",
       "      <td>10</td>\n",
       "    </tr>\n",
       "    <tr>\n",
       "      <th>25074</th>\n",
       "      <td>1993</td>\n",
       "      <td>The Far Side Gallery 4</td>\n",
       "      <td>9.357143</td>\n",
       "      <td>14</td>\n",
       "    </tr>\n",
       "    <tr>\n",
       "      <th>21238</th>\n",
       "      <td>1993</td>\n",
       "      <td>Angels in America: Millennium Approaches (Ange...</td>\n",
       "      <td>9.200000</td>\n",
       "      <td>10</td>\n",
       "    </tr>\n",
       "    <tr>\n",
       "      <th>28377</th>\n",
       "      <td>1994</td>\n",
       "      <td>Homicidal Psycho Jungle Cat: A Calvin and Hobb...</td>\n",
       "      <td>9.350000</td>\n",
       "      <td>20</td>\n",
       "    </tr>\n",
       "    <tr>\n",
       "      <th>31349</th>\n",
       "      <td>1994</td>\n",
       "      <td>The Magician's Nephew (Narnia)</td>\n",
       "      <td>9.285714</td>\n",
       "      <td>14</td>\n",
       "    </tr>\n",
       "    <tr>\n",
       "      <th>27210</th>\n",
       "      <td>1994</td>\n",
       "      <td>Cien AÃ±os de Soledad</td>\n",
       "      <td>9.272727</td>\n",
       "      <td>11</td>\n",
       "    </tr>\n",
       "    <tr>\n",
       "      <th>37830</th>\n",
       "      <td>1995</td>\n",
       "      <td>The Cay</td>\n",
       "      <td>9.363636</td>\n",
       "      <td>11</td>\n",
       "    </tr>\n",
       "    <tr>\n",
       "      <th>37806</th>\n",
       "      <td>1995</td>\n",
       "      <td>The Calvin and Hobbes Tenth Anniversary Book</td>\n",
       "      <td>9.250000</td>\n",
       "      <td>24</td>\n",
       "    </tr>\n",
       "    <tr>\n",
       "      <th>33022</th>\n",
       "      <td>1995</td>\n",
       "      <td>Autobiography of a Face</td>\n",
       "      <td>9.000000</td>\n",
       "      <td>11</td>\n",
       "    </tr>\n",
       "    <tr>\n",
       "      <th>41373</th>\n",
       "      <td>1996</td>\n",
       "      <td>Dilbert: A Book of Postcards</td>\n",
       "      <td>9.916667</td>\n",
       "      <td>12</td>\n",
       "    </tr>\n",
       "    <tr>\n",
       "      <th>42759</th>\n",
       "      <td>1996</td>\n",
       "      <td>It's A Magical World: A Calvin and Hobbes Coll...</td>\n",
       "      <td>9.300000</td>\n",
       "      <td>20</td>\n",
       "    </tr>\n",
       "    <tr>\n",
       "      <th>45542</th>\n",
       "      <td>1996</td>\n",
       "      <td>The Diamond Age</td>\n",
       "      <td>9.187500</td>\n",
       "      <td>16</td>\n",
       "    </tr>\n",
       "    <tr>\n",
       "      <th>54541</th>\n",
       "      <td>1997</td>\n",
       "      <td>The Subtle Knife (His Dark Materials, Book 2)</td>\n",
       "      <td>9.142857</td>\n",
       "      <td>14</td>\n",
       "    </tr>\n",
       "    <tr>\n",
       "      <th>50023</th>\n",
       "      <td>1997</td>\n",
       "      <td>Great Expectations (Wordsworth Classics)</td>\n",
       "      <td>9.100000</td>\n",
       "      <td>10</td>\n",
       "    </tr>\n",
       "    <tr>\n",
       "      <th>55566</th>\n",
       "      <td>1997</td>\n",
       "      <td>Your Pregnancy: Week by Week (Your Pregnancy S...</td>\n",
       "      <td>9.100000</td>\n",
       "      <td>10</td>\n",
       "    </tr>\n",
       "    <tr>\n",
       "      <th>62250</th>\n",
       "      <td>1998</td>\n",
       "      <td>The BFG</td>\n",
       "      <td>9.454545</td>\n",
       "      <td>11</td>\n",
       "    </tr>\n",
       "    <tr>\n",
       "      <th>63447</th>\n",
       "      <td>1998</td>\n",
       "      <td>The Secret Garden</td>\n",
       "      <td>9.136364</td>\n",
       "      <td>22</td>\n",
       "    </tr>\n",
       "    <tr>\n",
       "      <th>60189</th>\n",
       "      <td>1998</td>\n",
       "      <td>Mine to Take (Futuristic Romance)</td>\n",
       "      <td>9.100000</td>\n",
       "      <td>10</td>\n",
       "    </tr>\n",
       "    <tr>\n",
       "      <th>73644</th>\n",
       "      <td>1999</td>\n",
       "      <td>The Two Towers (The Lord of the Rings, Part 2)</td>\n",
       "      <td>9.750000</td>\n",
       "      <td>24</td>\n",
       "    </tr>\n",
       "    <tr>\n",
       "      <th>69706</th>\n",
       "      <td>1999</td>\n",
       "      <td>Maus 1. Mein Vater kotzt Geschichte aus. Die G...</td>\n",
       "      <td>9.700000</td>\n",
       "      <td>10</td>\n",
       "    </tr>\n",
       "    <tr>\n",
       "      <th>73363</th>\n",
       "      <td>1999</td>\n",
       "      <td>The Return of the King (The Lord of The Rings,...</td>\n",
       "      <td>9.647059</td>\n",
       "      <td>17</td>\n",
       "    </tr>\n",
       "    <tr>\n",
       "      <th>78282</th>\n",
       "      <td>2000</td>\n",
       "      <td>Harry Potter y el prisionero de Azkaban</td>\n",
       "      <td>9.538462</td>\n",
       "      <td>13</td>\n",
       "    </tr>\n",
       "    <tr>\n",
       "      <th>74935</th>\n",
       "      <td>2000</td>\n",
       "      <td>52 Deck Series: 52 Ways to Celebrate Friendship</td>\n",
       "      <td>9.529412</td>\n",
       "      <td>17</td>\n",
       "    </tr>\n",
       "    <tr>\n",
       "      <th>83096</th>\n",
       "      <td>2000</td>\n",
       "      <td>The Little Prince</td>\n",
       "      <td>9.451613</td>\n",
       "      <td>31</td>\n",
       "    </tr>\n",
       "    <tr>\n",
       "      <th>91342</th>\n",
       "      <td>2001</td>\n",
       "      <td>Postmarked Yesteryear: 30 Rare Holiday Postcards</td>\n",
       "      <td>10.000000</td>\n",
       "      <td>10</td>\n",
       "    </tr>\n",
       "    <tr>\n",
       "      <th>86659</th>\n",
       "      <td>2001</td>\n",
       "      <td>Complete Chronicles of Narnia</td>\n",
       "      <td>9.444444</td>\n",
       "      <td>18</td>\n",
       "    </tr>\n",
       "    <tr>\n",
       "      <th>94441</th>\n",
       "      <td>2001</td>\n",
       "      <td>The Two Towers (The Lord of the Rings, Part 2)</td>\n",
       "      <td>9.400000</td>\n",
       "      <td>15</td>\n",
       "    </tr>\n",
       "    <tr>\n",
       "      <th>99496</th>\n",
       "      <td>2002</td>\n",
       "      <td>Harry Potter and the Chamber of Secrets Postca...</td>\n",
       "      <td>9.869565</td>\n",
       "      <td>23</td>\n",
       "    </tr>\n",
       "    <tr>\n",
       "      <th>99907</th>\n",
       "      <td>2002</td>\n",
       "      <td>Il Piccolo Principe</td>\n",
       "      <td>9.500000</td>\n",
       "      <td>10</td>\n",
       "    </tr>\n",
       "    <tr>\n",
       "      <th>98529</th>\n",
       "      <td>2002</td>\n",
       "      <td>El Principito</td>\n",
       "      <td>9.400000</td>\n",
       "      <td>10</td>\n",
       "    </tr>\n",
       "    <tr>\n",
       "      <th>110887</th>\n",
       "      <td>2003</td>\n",
       "      <td>La Sombra del Viento</td>\n",
       "      <td>9.647059</td>\n",
       "      <td>17</td>\n",
       "    </tr>\n",
       "    <tr>\n",
       "      <th>111048</th>\n",
       "      <td>2003</td>\n",
       "      <td>Letters for Emily</td>\n",
       "      <td>9.400000</td>\n",
       "      <td>10</td>\n",
       "    </tr>\n",
       "    <tr>\n",
       "      <th>116065</th>\n",
       "      <td>2003</td>\n",
       "      <td>Wolves of the Calla (The Dark Tower, Book 5)</td>\n",
       "      <td>9.272727</td>\n",
       "      <td>22</td>\n",
       "    </tr>\n",
       "    <tr>\n",
       "      <th>117692</th>\n",
       "      <td>2004</td>\n",
       "      <td>Kiss of the Night (A Dark-Hunter Novel)</td>\n",
       "      <td>9.800000</td>\n",
       "      <td>10</td>\n",
       "    </tr>\n",
       "    <tr>\n",
       "      <th>118029</th>\n",
       "      <td>2004</td>\n",
       "      <td>My Sister's Keeper : A Novel (Picoult, Jodi)</td>\n",
       "      <td>9.523810</td>\n",
       "      <td>21</td>\n",
       "    </tr>\n",
       "    <tr>\n",
       "      <th>118561</th>\n",
       "      <td>2004</td>\n",
       "      <td>Song of Susannah (The Dark Tower, Book 6)</td>\n",
       "      <td>9.100000</td>\n",
       "      <td>10</td>\n",
       "    </tr>\n",
       "  </tbody>\n",
       "</table>\n",
       "</div>"
      ],
      "text/plain": [
       "        Year-Of-Publication  \\\n",
       "2909                   1988   \n",
       "1535                   1988   \n",
       "2663                   1988   \n",
       "3518                   1989   \n",
       "6011                   1989   \n",
       "7035                   1989   \n",
       "10123                  1990   \n",
       "7066                   1990   \n",
       "9171                   1990   \n",
       "15087                  1991   \n",
       "14031                  1991   \n",
       "14538                  1991   \n",
       "19807                  1992   \n",
       "16195                  1992   \n",
       "16694                  1992   \n",
       "24243                  1993   \n",
       "25074                  1993   \n",
       "21238                  1993   \n",
       "28377                  1994   \n",
       "31349                  1994   \n",
       "27210                  1994   \n",
       "37830                  1995   \n",
       "37806                  1995   \n",
       "33022                  1995   \n",
       "41373                  1996   \n",
       "42759                  1996   \n",
       "45542                  1996   \n",
       "54541                  1997   \n",
       "50023                  1997   \n",
       "55566                  1997   \n",
       "62250                  1998   \n",
       "63447                  1998   \n",
       "60189                  1998   \n",
       "73644                  1999   \n",
       "69706                  1999   \n",
       "73363                  1999   \n",
       "78282                  2000   \n",
       "74935                  2000   \n",
       "83096                  2000   \n",
       "91342                  2001   \n",
       "86659                  2001   \n",
       "94441                  2001   \n",
       "99496                  2002   \n",
       "99907                  2002   \n",
       "98529                  2002   \n",
       "110887                 2003   \n",
       "111048                 2003   \n",
       "116065                 2003   \n",
       "117692                 2004   \n",
       "118029                 2004   \n",
       "118561                 2004   \n",
       "\n",
       "                                               Book-Title  mean_rating  \\\n",
       "2909    The Return of the King (The Lord of the Rings,...     9.900000   \n",
       "1535                                        Lonesome Dove     9.205882   \n",
       "2663                      The Essential Calvin and Hobbes     8.950000   \n",
       "3518                    ANNE FRANK: DIARY OF A YOUNG GIRL     9.166667   \n",
       "6011                                      The Blue Castle     8.909091   \n",
       "7035                                            Yukon Ho!     8.894737   \n",
       "10123   The Authoritative Calvin and Hobbes (Calvin an...     9.571429   \n",
       "7066                                84 Charing Cross Road     9.444444   \n",
       "9171                More Than Complete Hitchhiker's Guide     9.375000   \n",
       "15087                         The Revenge Of The Baby-Sat     9.363636   \n",
       "14031                                Robert Frost's Poems     9.272727   \n",
       "14538                                      The Blue Sword     9.250000   \n",
       "19807                 The Indispensable Calvin And Hobbes     9.500000   \n",
       "16195     Attack Of The Deranged Mutant Killer Snow Goons     9.000000   \n",
       "16694                Cows Of Our Planet (Far Side Series)     9.000000   \n",
       "24243   Route 66 Postcards: Greetings from the Mother ...     9.700000   \n",
       "25074                              The Far Side Gallery 4     9.357143   \n",
       "21238   Angels in America: Millennium Approaches (Ange...     9.200000   \n",
       "28377   Homicidal Psycho Jungle Cat: A Calvin and Hobb...     9.350000   \n",
       "31349                      The Magician's Nephew (Narnia)     9.285714   \n",
       "27210                               Cien AÃ±os de Soledad     9.272727   \n",
       "37830                                             The Cay     9.363636   \n",
       "37806        The Calvin and Hobbes Tenth Anniversary Book     9.250000   \n",
       "33022                             Autobiography of a Face     9.000000   \n",
       "41373                        Dilbert: A Book of Postcards     9.916667   \n",
       "42759   It's A Magical World: A Calvin and Hobbes Coll...     9.300000   \n",
       "45542                                     The Diamond Age     9.187500   \n",
       "54541       The Subtle Knife (His Dark Materials, Book 2)     9.142857   \n",
       "50023            Great Expectations (Wordsworth Classics)     9.100000   \n",
       "55566   Your Pregnancy: Week by Week (Your Pregnancy S...     9.100000   \n",
       "62250                                             The BFG     9.454545   \n",
       "63447                                   The Secret Garden     9.136364   \n",
       "60189                   Mine to Take (Futuristic Romance)     9.100000   \n",
       "73644      The Two Towers (The Lord of the Rings, Part 2)     9.750000   \n",
       "69706   Maus 1. Mein Vater kotzt Geschichte aus. Die G...     9.700000   \n",
       "73363   The Return of the King (The Lord of The Rings,...     9.647059   \n",
       "78282             Harry Potter y el prisionero de Azkaban     9.538462   \n",
       "74935     52 Deck Series: 52 Ways to Celebrate Friendship     9.529412   \n",
       "83096                                   The Little Prince     9.451613   \n",
       "91342    Postmarked Yesteryear: 30 Rare Holiday Postcards    10.000000   \n",
       "86659                       Complete Chronicles of Narnia     9.444444   \n",
       "94441      The Two Towers (The Lord of the Rings, Part 2)     9.400000   \n",
       "99496   Harry Potter and the Chamber of Secrets Postca...     9.869565   \n",
       "99907                                 Il Piccolo Principe     9.500000   \n",
       "98529                                       El Principito     9.400000   \n",
       "110887                               La Sombra del Viento     9.647059   \n",
       "111048                                  Letters for Emily     9.400000   \n",
       "116065       Wolves of the Calla (The Dark Tower, Book 5)     9.272727   \n",
       "117692            Kiss of the Night (A Dark-Hunter Novel)     9.800000   \n",
       "118029       My Sister's Keeper : A Novel (Picoult, Jodi)     9.523810   \n",
       "118561          Song of Susannah (The Dark Tower, Book 6)     9.100000   \n",
       "\n",
       "        num_rating  \n",
       "2909            10  \n",
       "1535            34  \n",
       "2663            20  \n",
       "3518            12  \n",
       "6011            11  \n",
       "7035            19  \n",
       "10123           21  \n",
       "7066            27  \n",
       "9171            16  \n",
       "15087           11  \n",
       "14031           11  \n",
       "14538           12  \n",
       "19807           16  \n",
       "16195           19  \n",
       "16694           16  \n",
       "24243           10  \n",
       "25074           14  \n",
       "21238           10  \n",
       "28377           20  \n",
       "31349           14  \n",
       "27210           11  \n",
       "37830           11  \n",
       "37806           24  \n",
       "33022           11  \n",
       "41373           12  \n",
       "42759           20  \n",
       "45542           16  \n",
       "54541           14  \n",
       "50023           10  \n",
       "55566           10  \n",
       "62250           11  \n",
       "63447           22  \n",
       "60189           10  \n",
       "73644           24  \n",
       "69706           10  \n",
       "73363           17  \n",
       "78282           13  \n",
       "74935           17  \n",
       "83096           31  \n",
       "91342           10  \n",
       "86659           18  \n",
       "94441           15  \n",
       "99496           23  \n",
       "99907           10  \n",
       "98529           10  \n",
       "110887          17  \n",
       "111048          10  \n",
       "116065          22  \n",
       "117692          10  \n",
       "118029          21  \n",
       "118561          10  "
      ]
     },
     "execution_count": 216,
     "metadata": {},
     "output_type": "execute_result"
    }
   ],
   "source": [
    "top3_by_year\n"
   ]
  },
  {
   "cell_type": "code",
   "execution_count": 217,
   "id": "94426793-0ccd-42a9-9a51-72f8da996d3e",
   "metadata": {},
   "outputs": [],
   "source": [
    "# To be able to choose one bestseller for each year I'm gonna combine average rating with number of ratings.\n",
    "# This way bestseller has greatest count of ratings."
   ]
  },
  {
   "cell_type": "code",
   "execution_count": 218,
   "id": "cc4c8f63-7e5b-446e-8973-3d07ff73a15a",
   "metadata": {},
   "outputs": [],
   "source": [
    "bestseller_by_year=top3_by_year.sort_values([\"Year-Of-Publication\",\"num_rating\"],ascending=[True,False]).groupby(\n",
    "    \"Year-Of-Publication\",as_index=False).head(1) \n",
    "bestseller_by_year[\"mean_rating\"]=bestseller_by_year[\"mean_rating\"].round(1)\n"
   ]
  },
  {
   "cell_type": "code",
   "execution_count": 219,
   "id": "1b864775-17a9-40fb-aed6-a892b986b0e6",
   "metadata": {},
   "outputs": [
    {
     "data": {
      "text/html": [
       "<div>\n",
       "<style scoped>\n",
       "    .dataframe tbody tr th:only-of-type {\n",
       "        vertical-align: middle;\n",
       "    }\n",
       "\n",
       "    .dataframe tbody tr th {\n",
       "        vertical-align: top;\n",
       "    }\n",
       "\n",
       "    .dataframe thead th {\n",
       "        text-align: right;\n",
       "    }\n",
       "</style>\n",
       "<table border=\"1\" class=\"dataframe\">\n",
       "  <thead>\n",
       "    <tr style=\"text-align: right;\">\n",
       "      <th></th>\n",
       "      <th>Year-Of-Publication</th>\n",
       "      <th>Book-Title</th>\n",
       "      <th>mean_rating</th>\n",
       "      <th>num_rating</th>\n",
       "    </tr>\n",
       "  </thead>\n",
       "  <tbody>\n",
       "    <tr>\n",
       "      <th>1535</th>\n",
       "      <td>1988</td>\n",
       "      <td>Lonesome Dove</td>\n",
       "      <td>9.2</td>\n",
       "      <td>34</td>\n",
       "    </tr>\n",
       "    <tr>\n",
       "      <th>7035</th>\n",
       "      <td>1989</td>\n",
       "      <td>Yukon Ho!</td>\n",
       "      <td>8.9</td>\n",
       "      <td>19</td>\n",
       "    </tr>\n",
       "    <tr>\n",
       "      <th>7066</th>\n",
       "      <td>1990</td>\n",
       "      <td>84 Charing Cross Road</td>\n",
       "      <td>9.4</td>\n",
       "      <td>27</td>\n",
       "    </tr>\n",
       "    <tr>\n",
       "      <th>14538</th>\n",
       "      <td>1991</td>\n",
       "      <td>The Blue Sword</td>\n",
       "      <td>9.2</td>\n",
       "      <td>12</td>\n",
       "    </tr>\n",
       "    <tr>\n",
       "      <th>16195</th>\n",
       "      <td>1992</td>\n",
       "      <td>Attack Of The Deranged Mutant Killer Snow Goons</td>\n",
       "      <td>9.0</td>\n",
       "      <td>19</td>\n",
       "    </tr>\n",
       "    <tr>\n",
       "      <th>25074</th>\n",
       "      <td>1993</td>\n",
       "      <td>The Far Side Gallery 4</td>\n",
       "      <td>9.4</td>\n",
       "      <td>14</td>\n",
       "    </tr>\n",
       "    <tr>\n",
       "      <th>28377</th>\n",
       "      <td>1994</td>\n",
       "      <td>Homicidal Psycho Jungle Cat: A Calvin and Hobb...</td>\n",
       "      <td>9.4</td>\n",
       "      <td>20</td>\n",
       "    </tr>\n",
       "    <tr>\n",
       "      <th>37806</th>\n",
       "      <td>1995</td>\n",
       "      <td>The Calvin and Hobbes Tenth Anniversary Book</td>\n",
       "      <td>9.2</td>\n",
       "      <td>24</td>\n",
       "    </tr>\n",
       "    <tr>\n",
       "      <th>42759</th>\n",
       "      <td>1996</td>\n",
       "      <td>It's A Magical World: A Calvin and Hobbes Coll...</td>\n",
       "      <td>9.3</td>\n",
       "      <td>20</td>\n",
       "    </tr>\n",
       "    <tr>\n",
       "      <th>54541</th>\n",
       "      <td>1997</td>\n",
       "      <td>The Subtle Knife (His Dark Materials, Book 2)</td>\n",
       "      <td>9.1</td>\n",
       "      <td>14</td>\n",
       "    </tr>\n",
       "    <tr>\n",
       "      <th>63447</th>\n",
       "      <td>1998</td>\n",
       "      <td>The Secret Garden</td>\n",
       "      <td>9.1</td>\n",
       "      <td>22</td>\n",
       "    </tr>\n",
       "    <tr>\n",
       "      <th>73644</th>\n",
       "      <td>1999</td>\n",
       "      <td>The Two Towers (The Lord of the Rings, Part 2)</td>\n",
       "      <td>9.8</td>\n",
       "      <td>24</td>\n",
       "    </tr>\n",
       "    <tr>\n",
       "      <th>83096</th>\n",
       "      <td>2000</td>\n",
       "      <td>The Little Prince</td>\n",
       "      <td>9.5</td>\n",
       "      <td>31</td>\n",
       "    </tr>\n",
       "    <tr>\n",
       "      <th>86659</th>\n",
       "      <td>2001</td>\n",
       "      <td>Complete Chronicles of Narnia</td>\n",
       "      <td>9.4</td>\n",
       "      <td>18</td>\n",
       "    </tr>\n",
       "    <tr>\n",
       "      <th>99496</th>\n",
       "      <td>2002</td>\n",
       "      <td>Harry Potter and the Chamber of Secrets Postca...</td>\n",
       "      <td>9.9</td>\n",
       "      <td>23</td>\n",
       "    </tr>\n",
       "    <tr>\n",
       "      <th>116065</th>\n",
       "      <td>2003</td>\n",
       "      <td>Wolves of the Calla (The Dark Tower, Book 5)</td>\n",
       "      <td>9.3</td>\n",
       "      <td>22</td>\n",
       "    </tr>\n",
       "    <tr>\n",
       "      <th>118029</th>\n",
       "      <td>2004</td>\n",
       "      <td>My Sister's Keeper : A Novel (Picoult, Jodi)</td>\n",
       "      <td>9.5</td>\n",
       "      <td>21</td>\n",
       "    </tr>\n",
       "  </tbody>\n",
       "</table>\n",
       "</div>"
      ],
      "text/plain": [
       "        Year-Of-Publication  \\\n",
       "1535                   1988   \n",
       "7035                   1989   \n",
       "7066                   1990   \n",
       "14538                  1991   \n",
       "16195                  1992   \n",
       "25074                  1993   \n",
       "28377                  1994   \n",
       "37806                  1995   \n",
       "42759                  1996   \n",
       "54541                  1997   \n",
       "63447                  1998   \n",
       "73644                  1999   \n",
       "83096                  2000   \n",
       "86659                  2001   \n",
       "99496                  2002   \n",
       "116065                 2003   \n",
       "118029                 2004   \n",
       "\n",
       "                                               Book-Title  mean_rating  \\\n",
       "1535                                        Lonesome Dove          9.2   \n",
       "7035                                            Yukon Ho!          8.9   \n",
       "7066                                84 Charing Cross Road          9.4   \n",
       "14538                                      The Blue Sword          9.2   \n",
       "16195     Attack Of The Deranged Mutant Killer Snow Goons          9.0   \n",
       "25074                              The Far Side Gallery 4          9.4   \n",
       "28377   Homicidal Psycho Jungle Cat: A Calvin and Hobb...          9.4   \n",
       "37806        The Calvin and Hobbes Tenth Anniversary Book          9.2   \n",
       "42759   It's A Magical World: A Calvin and Hobbes Coll...          9.3   \n",
       "54541       The Subtle Knife (His Dark Materials, Book 2)          9.1   \n",
       "63447                                   The Secret Garden          9.1   \n",
       "73644      The Two Towers (The Lord of the Rings, Part 2)          9.8   \n",
       "83096                                   The Little Prince          9.5   \n",
       "86659                       Complete Chronicles of Narnia          9.4   \n",
       "99496   Harry Potter and the Chamber of Secrets Postca...          9.9   \n",
       "116065       Wolves of the Calla (The Dark Tower, Book 5)          9.3   \n",
       "118029       My Sister's Keeper : A Novel (Picoult, Jodi)          9.5   \n",
       "\n",
       "        num_rating  \n",
       "1535            34  \n",
       "7035            19  \n",
       "7066            27  \n",
       "14538           12  \n",
       "16195           19  \n",
       "25074           14  \n",
       "28377           20  \n",
       "37806           24  \n",
       "42759           20  \n",
       "54541           14  \n",
       "63447           22  \n",
       "73644           24  \n",
       "83096           31  \n",
       "86659           18  \n",
       "99496           23  \n",
       "116065          22  \n",
       "118029          21  "
      ]
     },
     "execution_count": 219,
     "metadata": {},
     "output_type": "execute_result"
    }
   ],
   "source": [
    "bestseller_by_year"
   ]
  },
  {
   "cell_type": "code",
   "execution_count": 220,
   "id": "4229bb4e-810d-4fb8-ad60-4171455245cb",
   "metadata": {},
   "outputs": [
    {
     "data": {
      "image/png": "[encoded data removed]",
      "text/plain": [
       "<Figure size 640x480 with 1 Axes>"
      ]
     },
     "metadata": {},
     "output_type": "display_data"
    }
   ],
   "source": [
    "bsy= bestseller_by_year.copy()\n",
    "#To present on axes X Years I had to convert to string\n",
    "bsy[\"Years\"]=bestseller_by_year[\"Year-Of-Publication\"].astype(str)\n",
    "ax=sb.lineplot(data=bsy,x=\"Years\",y=\"mean_rating\",marker=\"*\",ms=15,color='#4FB7B3')\n",
    "plt.title (\"Bestsellers per Year\")\n",
    "best_book = bsy.nlargest(1, \"mean_rating\")\n",
    "x_val = best_book[\"Years\"].values[0]\n",
    "y_val = best_book[\"mean_rating\"].values[0]\n",
    "title = best_book[\"Book-Title\"].values[0]\n",
    "ax.annotate(\n",
    "    title,                          \n",
    "    xy=(x_val, y_val),              \n",
    "    xytext=(0,10),                  \n",
    "    textcoords=\"offset points\",\n",
    "    ha=\"center\", fontsize=9, color=\"darkred\", weight=\"bold\")\n",
    "\n",
    "plt.xticks(rotation=45)\n",
    "plt.tight_layout()\n",
    "plt.show()"
   ]
  },
  {
   "cell_type": "code",
   "execution_count": 221,
   "id": "30892344-620b-4488-a43f-df6e28723050",
   "metadata": {},
   "outputs": [],
   "source": [
    "best_books=bestseller_by_year.nlargest(3,columns=\"mean_rating\")[[\"Year-Of-Publication\",\"Book-Title\",\"mean_rating\"]]"
   ]
  },
  {
   "cell_type": "code",
   "execution_count": 222,
   "id": "b8552922-c9a4-48cf-9458-53a208310047",
   "metadata": {},
   "outputs": [
    {
     "data": {
      "text/html": [
       "<div>\n",
       "<style scoped>\n",
       "    .dataframe tbody tr th:only-of-type {\n",
       "        vertical-align: middle;\n",
       "    }\n",
       "\n",
       "    .dataframe tbody tr th {\n",
       "        vertical-align: top;\n",
       "    }\n",
       "\n",
       "    .dataframe thead th {\n",
       "        text-align: right;\n",
       "    }\n",
       "</style>\n",
       "<table border=\"1\" class=\"dataframe\">\n",
       "  <thead>\n",
       "    <tr style=\"text-align: right;\">\n",
       "      <th></th>\n",
       "      <th>Year-Of-Publication</th>\n",
       "      <th>Book-Title</th>\n",
       "      <th>mean_rating</th>\n",
       "    </tr>\n",
       "  </thead>\n",
       "  <tbody>\n",
       "    <tr>\n",
       "      <th>99496</th>\n",
       "      <td>2002</td>\n",
       "      <td>Harry Potter and the Chamber of Secrets Postca...</td>\n",
       "      <td>9.9</td>\n",
       "    </tr>\n",
       "    <tr>\n",
       "      <th>73644</th>\n",
       "      <td>1999</td>\n",
       "      <td>The Two Towers (The Lord of the Rings, Part 2)</td>\n",
       "      <td>9.8</td>\n",
       "    </tr>\n",
       "    <tr>\n",
       "      <th>83096</th>\n",
       "      <td>2000</td>\n",
       "      <td>The Little Prince</td>\n",
       "      <td>9.5</td>\n",
       "    </tr>\n",
       "  </tbody>\n",
       "</table>\n",
       "</div>"
      ],
      "text/plain": [
       "       Year-Of-Publication                                         Book-Title  \\\n",
       "99496                 2002  Harry Potter and the Chamber of Secrets Postca...   \n",
       "73644                 1999     The Two Towers (The Lord of the Rings, Part 2)   \n",
       "83096                 2000                                  The Little Prince   \n",
       "\n",
       "       mean_rating  \n",
       "99496          9.9  \n",
       "73644          9.8  \n",
       "83096          9.5  "
      ]
     },
     "execution_count": 222,
     "metadata": {},
     "output_type": "execute_result"
    }
   ],
   "source": [
    "best_books.sort_values(by=\"mean_rating\", ascending=False)\n"
   ]
  },
  {
   "cell_type": "code",
   "execution_count": 223,
   "id": "c8df58f7-cd51-4adb-b867-7e29721cdb53",
   "metadata": {},
   "outputs": [],
   "source": [
    "# 3 Best rated books \"ever\" in the daraset over the years are:\n",
    "# No 1 - \"Harry Potter and the Chamber of Secrets\" in 2002\n",
    "## No 2 - \"The Two Towers \" in 1999\n",
    "### No 3- \"The Little Prince\" in 2000\n",
    "    "
   ]
  },
  {
   "cell_type": "markdown",
   "id": "9217d9e1-72ae-4d1f-983b-5b14390d2fc2",
   "metadata": {},
   "source": [
    "##### The highest-rated genres by year"
   ]
  },
  {
   "cell_type": "code",
   "execution_count": 224,
   "id": "6218e23a-d037-4c76-99ea-0d3905e2648f",
   "metadata": {},
   "outputs": [],
   "source": [
    "# The most popular genres in dataset"
   ]
  },
  {
   "cell_type": "code",
   "execution_count": 225,
   "id": "53a87c04-721d-4f78-bb77-33e6ea33ce1b",
   "metadata": {},
   "outputs": [],
   "source": [
    "rated_genre=mask.groupby(\"Genre\",as_index=False).agg (\n",
    "    mean_rating_genre=(\"Book-Rating\",\"mean\"),num_rating_genre=(\"Book-Rating\",\"count\")).query(\"num_rating_genre >=10\")\n",
    "rated_genre[\"mean_rating_genre\"] =rated_genre[\"mean_rating_genre\"].round(1)\n",
    "rated_genre = rated_genre.sort_values(\"mean_rating_genre\", ascending=False)   "
   ]
  },
  {
   "cell_type": "code",
   "execution_count": 226,
   "id": "d122e19f-36b5-4e73-ac19-907825d9f487",
   "metadata": {},
   "outputs": [
    {
     "data": {
      "text/html": [
       "<div>\n",
       "<style scoped>\n",
       "    .dataframe tbody tr th:only-of-type {\n",
       "        vertical-align: middle;\n",
       "    }\n",
       "\n",
       "    .dataframe tbody tr th {\n",
       "        vertical-align: top;\n",
       "    }\n",
       "\n",
       "    .dataframe thead th {\n",
       "        text-align: right;\n",
       "    }\n",
       "</style>\n",
       "<table border=\"1\" class=\"dataframe\">\n",
       "  <thead>\n",
       "    <tr style=\"text-align: right;\">\n",
       "      <th></th>\n",
       "      <th>Genre</th>\n",
       "      <th>mean_rating_genre</th>\n",
       "      <th>num_rating_genre</th>\n",
       "    </tr>\n",
       "  </thead>\n",
       "  <tbody>\n",
       "    <tr>\n",
       "      <th>4735</th>\n",
       "      <td>Postcards</td>\n",
       "      <td>9.9</td>\n",
       "      <td>14</td>\n",
       "    </tr>\n",
       "    <tr>\n",
       "      <th>4742</th>\n",
       "      <td>Potter, harry (fictitious character)</td>\n",
       "      <td>9.9</td>\n",
       "      <td>23</td>\n",
       "    </tr>\n",
       "    <tr>\n",
       "      <th>5419</th>\n",
       "      <td>Sherrilyn Kenyon</td>\n",
       "      <td>9.8</td>\n",
       "      <td>10</td>\n",
       "    </tr>\n",
       "    <tr>\n",
       "      <th>6604</th>\n",
       "      <td>manga</td>\n",
       "      <td>9.7</td>\n",
       "      <td>14</td>\n",
       "    </tr>\n",
       "    <tr>\n",
       "      <th>1440</th>\n",
       "      <td>Comics &amp; graphic novels, east asian style, man...</td>\n",
       "      <td>9.6</td>\n",
       "      <td>11</td>\n",
       "    </tr>\n",
       "    <tr>\n",
       "      <th>...</th>\n",
       "      <td>...</td>\n",
       "      <td>...</td>\n",
       "      <td>...</td>\n",
       "    </tr>\n",
       "    <tr>\n",
       "      <th>4114</th>\n",
       "      <td>Motion picture music</td>\n",
       "      <td>5.5</td>\n",
       "      <td>11</td>\n",
       "    </tr>\n",
       "    <tr>\n",
       "      <th>770</th>\n",
       "      <td>Bereavement in art</td>\n",
       "      <td>5.4</td>\n",
       "      <td>15</td>\n",
       "    </tr>\n",
       "    <tr>\n",
       "      <th>5302</th>\n",
       "      <td>Sections, columns</td>\n",
       "      <td>5.2</td>\n",
       "      <td>20</td>\n",
       "    </tr>\n",
       "    <tr>\n",
       "      <th>5338</th>\n",
       "      <td>Separated women</td>\n",
       "      <td>5.1</td>\n",
       "      <td>10</td>\n",
       "    </tr>\n",
       "    <tr>\n",
       "      <th>1385</th>\n",
       "      <td>Coal miners</td>\n",
       "      <td>4.9</td>\n",
       "      <td>19</td>\n",
       "    </tr>\n",
       "  </tbody>\n",
       "</table>\n",
       "<p>1214 rows × 3 columns</p>\n",
       "</div>"
      ],
      "text/plain": [
       "                                                  Genre  mean_rating_genre  \\\n",
       "4735                                          Postcards                9.9   \n",
       "4742               Potter, harry (fictitious character)                9.9   \n",
       "5419                                   Sherrilyn Kenyon                9.8   \n",
       "6604                                              manga                9.7   \n",
       "1440  Comics & graphic novels, east asian style, man...                9.6   \n",
       "...                                                 ...                ...   \n",
       "4114                               Motion picture music                5.5   \n",
       "770                                  Bereavement in art                5.4   \n",
       "5302                                  Sections, columns                5.2   \n",
       "5338                                    Separated women                5.1   \n",
       "1385                                        Coal miners                4.9   \n",
       "\n",
       "      num_rating_genre  \n",
       "4735                14  \n",
       "4742                23  \n",
       "5419                10  \n",
       "6604                14  \n",
       "1440                11  \n",
       "...                ...  \n",
       "4114                11  \n",
       "770                 15  \n",
       "5302                20  \n",
       "5338                10  \n",
       "1385                19  \n",
       "\n",
       "[1214 rows x 3 columns]"
      ]
     },
     "execution_count": 226,
     "metadata": {},
     "output_type": "execute_result"
    }
   ],
   "source": [
    "rated_genre"
   ]
  },
  {
   "cell_type": "code",
   "execution_count": 227,
   "id": "b445e3b4-96e1-44f5-b39d-c5b411c056d9",
   "metadata": {},
   "outputs": [],
   "source": [
    "genre_by_year=mask.groupby([\"Year-Of-Publication\",\"Genre\"],as_index=False).agg (\n",
    "    mean_rating_genre=(\"Book-Rating\",\"mean\"),num_rating_genre=(\"Book-Rating\",\"count\")).query(\"num_rating_genre >=10\")\n",
    "genre_by_year[\"mean_rating_genre\"]=genre_by_year[\"mean_rating_genre\"].round(1) \n",
    " "
   ]
  },
  {
   "cell_type": "code",
   "execution_count": 228,
   "id": "2cea5a72-e3d6-4be9-ae2f-d7f51251a1a3",
   "metadata": {},
   "outputs": [
    {
     "data": {
      "text/html": [
       "<div>\n",
       "<style scoped>\n",
       "    .dataframe tbody tr th:only-of-type {\n",
       "        vertical-align: middle;\n",
       "    }\n",
       "\n",
       "    .dataframe tbody tr th {\n",
       "        vertical-align: top;\n",
       "    }\n",
       "\n",
       "    .dataframe thead th {\n",
       "        text-align: right;\n",
       "    }\n",
       "</style>\n",
       "<table border=\"1\" class=\"dataframe\">\n",
       "  <thead>\n",
       "    <tr style=\"text-align: right;\">\n",
       "      <th></th>\n",
       "      <th>Year-Of-Publication</th>\n",
       "      <th>Genre</th>\n",
       "      <th>mean_rating_genre</th>\n",
       "      <th>num_rating_genre</th>\n",
       "    </tr>\n",
       "  </thead>\n",
       "  <tbody>\n",
       "    <tr>\n",
       "      <th>0</th>\n",
       "      <td>1988</td>\n",
       "      <td>No specified</td>\n",
       "      <td>7.6</td>\n",
       "      <td>6756</td>\n",
       "    </tr>\n",
       "    <tr>\n",
       "      <th>1</th>\n",
       "      <td>1989</td>\n",
       "      <td>No specified</td>\n",
       "      <td>7.6</td>\n",
       "      <td>8186</td>\n",
       "    </tr>\n",
       "    <tr>\n",
       "      <th>2</th>\n",
       "      <td>1990</td>\n",
       "      <td>No specified</td>\n",
       "      <td>7.7</td>\n",
       "      <td>10308</td>\n",
       "    </tr>\n",
       "    <tr>\n",
       "      <th>3</th>\n",
       "      <td>1991</td>\n",
       "      <td>No specified</td>\n",
       "      <td>7.6</td>\n",
       "      <td>11216</td>\n",
       "    </tr>\n",
       "    <tr>\n",
       "      <th>4</th>\n",
       "      <td>1992</td>\n",
       "      <td>No specified</td>\n",
       "      <td>7.6</td>\n",
       "      <td>12263</td>\n",
       "    </tr>\n",
       "    <tr>\n",
       "      <th>...</th>\n",
       "      <td>...</td>\n",
       "      <td>...</td>\n",
       "      <td>...</td>\n",
       "      <td>...</td>\n",
       "    </tr>\n",
       "    <tr>\n",
       "      <th>10757</th>\n",
       "      <td>2004</td>\n",
       "      <td>horror tales</td>\n",
       "      <td>7.9</td>\n",
       "      <td>52</td>\n",
       "    </tr>\n",
       "    <tr>\n",
       "      <th>10761</th>\n",
       "      <td>2004</td>\n",
       "      <td>mutants</td>\n",
       "      <td>8.7</td>\n",
       "      <td>26</td>\n",
       "    </tr>\n",
       "    <tr>\n",
       "      <th>10763</th>\n",
       "      <td>2004</td>\n",
       "      <td>paranormal</td>\n",
       "      <td>8.1</td>\n",
       "      <td>10</td>\n",
       "    </tr>\n",
       "    <tr>\n",
       "      <th>10765</th>\n",
       "      <td>2004</td>\n",
       "      <td>rose madder</td>\n",
       "      <td>7.6</td>\n",
       "      <td>47</td>\n",
       "    </tr>\n",
       "    <tr>\n",
       "      <th>10771</th>\n",
       "      <td>2004</td>\n",
       "      <td>suspense</td>\n",
       "      <td>7.7</td>\n",
       "      <td>105</td>\n",
       "    </tr>\n",
       "  </tbody>\n",
       "</table>\n",
       "<p>1555 rows × 4 columns</p>\n",
       "</div>"
      ],
      "text/plain": [
       "       Year-Of-Publication         Genre  mean_rating_genre  num_rating_genre\n",
       "0                     1988  No specified                7.6              6756\n",
       "1                     1989  No specified                7.6              8186\n",
       "2                     1990  No specified                7.7             10308\n",
       "3                     1991  No specified                7.6             11216\n",
       "4                     1992  No specified                7.6             12263\n",
       "...                    ...           ...                ...               ...\n",
       "10757                 2004  horror tales                7.9                52\n",
       "10761                 2004       mutants                8.7                26\n",
       "10763                 2004    paranormal                8.1                10\n",
       "10765                 2004   rose madder                7.6                47\n",
       "10771                 2004      suspense                7.7               105\n",
       "\n",
       "[1555 rows x 4 columns]"
      ]
     },
     "execution_count": 228,
     "metadata": {},
     "output_type": "execute_result"
    }
   ],
   "source": [
    "genre_by_year "
   ]
  },
  {
   "cell_type": "code",
   "execution_count": 229,
   "id": "9ae41713-5555-44d4-8950-8464e899f7c8",
   "metadata": {},
   "outputs": [],
   "source": [
    "# Now I'll show only one (the best) genre in each year that had the highest mean rate combined with greatest count of rates"
   ]
  },
  {
   "cell_type": "code",
   "execution_count": 230,
   "id": "80b98543-c9eb-4513-b5e8-f8389bd119e9",
   "metadata": {},
   "outputs": [],
   "source": [
    "pop_genre_year=genre_by_year.sort_values([\"Year-Of-Publication\",\"num_rating_genre\"], ascending=[True,False]).groupby(\n",
    "    \"Year-Of-Publication\").head(1)"
   ]
  },
  {
   "cell_type": "code",
   "execution_count": 231,
   "id": "7ab95588-8e01-42b4-b595-4d78d374d3ed",
   "metadata": {},
   "outputs": [
    {
     "data": {
      "text/html": [
       "<div>\n",
       "<style scoped>\n",
       "    .dataframe tbody tr th:only-of-type {\n",
       "        vertical-align: middle;\n",
       "    }\n",
       "\n",
       "    .dataframe tbody tr th {\n",
       "        vertical-align: top;\n",
       "    }\n",
       "\n",
       "    .dataframe thead th {\n",
       "        text-align: right;\n",
       "    }\n",
       "</style>\n",
       "<table border=\"1\" class=\"dataframe\">\n",
       "  <thead>\n",
       "    <tr style=\"text-align: right;\">\n",
       "      <th></th>\n",
       "      <th>Year-Of-Publication</th>\n",
       "      <th>Genre</th>\n",
       "      <th>mean_rating_genre</th>\n",
       "      <th>num_rating_genre</th>\n",
       "    </tr>\n",
       "  </thead>\n",
       "  <tbody>\n",
       "    <tr>\n",
       "      <th>0</th>\n",
       "      <td>1988</td>\n",
       "      <td>No specified</td>\n",
       "      <td>7.6</td>\n",
       "      <td>6756</td>\n",
       "    </tr>\n",
       "    <tr>\n",
       "      <th>1</th>\n",
       "      <td>1989</td>\n",
       "      <td>No specified</td>\n",
       "      <td>7.6</td>\n",
       "      <td>8186</td>\n",
       "    </tr>\n",
       "    <tr>\n",
       "      <th>2</th>\n",
       "      <td>1990</td>\n",
       "      <td>No specified</td>\n",
       "      <td>7.7</td>\n",
       "      <td>10308</td>\n",
       "    </tr>\n",
       "    <tr>\n",
       "      <th>3</th>\n",
       "      <td>1991</td>\n",
       "      <td>No specified</td>\n",
       "      <td>7.6</td>\n",
       "      <td>11216</td>\n",
       "    </tr>\n",
       "    <tr>\n",
       "      <th>4</th>\n",
       "      <td>1992</td>\n",
       "      <td>No specified</td>\n",
       "      <td>7.6</td>\n",
       "      <td>12263</td>\n",
       "    </tr>\n",
       "    <tr>\n",
       "      <th>5</th>\n",
       "      <td>1993</td>\n",
       "      <td>No specified</td>\n",
       "      <td>7.6</td>\n",
       "      <td>13220</td>\n",
       "    </tr>\n",
       "    <tr>\n",
       "      <th>6</th>\n",
       "      <td>1994</td>\n",
       "      <td>No specified</td>\n",
       "      <td>7.6</td>\n",
       "      <td>16428</td>\n",
       "    </tr>\n",
       "    <tr>\n",
       "      <th>7</th>\n",
       "      <td>1995</td>\n",
       "      <td>No specified</td>\n",
       "      <td>7.5</td>\n",
       "      <td>19028</td>\n",
       "    </tr>\n",
       "    <tr>\n",
       "      <th>8</th>\n",
       "      <td>1996</td>\n",
       "      <td>No specified</td>\n",
       "      <td>7.6</td>\n",
       "      <td>21191</td>\n",
       "    </tr>\n",
       "    <tr>\n",
       "      <th>9</th>\n",
       "      <td>1997</td>\n",
       "      <td>No specified</td>\n",
       "      <td>7.6</td>\n",
       "      <td>21676</td>\n",
       "    </tr>\n",
       "    <tr>\n",
       "      <th>10</th>\n",
       "      <td>1998</td>\n",
       "      <td>No specified</td>\n",
       "      <td>7.6</td>\n",
       "      <td>24666</td>\n",
       "    </tr>\n",
       "    <tr>\n",
       "      <th>11</th>\n",
       "      <td>1999</td>\n",
       "      <td>No specified</td>\n",
       "      <td>7.6</td>\n",
       "      <td>29003</td>\n",
       "    </tr>\n",
       "    <tr>\n",
       "      <th>12</th>\n",
       "      <td>2000</td>\n",
       "      <td>No specified</td>\n",
       "      <td>7.6</td>\n",
       "      <td>28065</td>\n",
       "    </tr>\n",
       "    <tr>\n",
       "      <th>1215</th>\n",
       "      <td>2001</td>\n",
       "      <td>Fiction</td>\n",
       "      <td>7.5</td>\n",
       "      <td>4125</td>\n",
       "    </tr>\n",
       "    <tr>\n",
       "      <th>4492</th>\n",
       "      <td>2002</td>\n",
       "      <td>Fiction</td>\n",
       "      <td>7.6</td>\n",
       "      <td>5303</td>\n",
       "    </tr>\n",
       "    <tr>\n",
       "      <th>7637</th>\n",
       "      <td>2003</td>\n",
       "      <td>Fiction</td>\n",
       "      <td>7.7</td>\n",
       "      <td>4405</td>\n",
       "    </tr>\n",
       "    <tr>\n",
       "      <th>9901</th>\n",
       "      <td>2004</td>\n",
       "      <td>Fiction</td>\n",
       "      <td>7.1</td>\n",
       "      <td>2301</td>\n",
       "    </tr>\n",
       "  </tbody>\n",
       "</table>\n",
       "</div>"
      ],
      "text/plain": [
       "      Year-Of-Publication         Genre  mean_rating_genre  num_rating_genre\n",
       "0                    1988  No specified                7.6              6756\n",
       "1                    1989  No specified                7.6              8186\n",
       "2                    1990  No specified                7.7             10308\n",
       "3                    1991  No specified                7.6             11216\n",
       "4                    1992  No specified                7.6             12263\n",
       "5                    1993  No specified                7.6             13220\n",
       "6                    1994  No specified                7.6             16428\n",
       "7                    1995  No specified                7.5             19028\n",
       "8                    1996  No specified                7.6             21191\n",
       "9                    1997  No specified                7.6             21676\n",
       "10                   1998  No specified                7.6             24666\n",
       "11                   1999  No specified                7.6             29003\n",
       "12                   2000  No specified                7.6             28065\n",
       "1215                 2001       Fiction                7.5              4125\n",
       "4492                 2002       Fiction                7.6              5303\n",
       "7637                 2003       Fiction                7.7              4405\n",
       "9901                 2004       Fiction                7.1              2301"
      ]
     },
     "execution_count": 231,
     "metadata": {},
     "output_type": "execute_result"
    }
   ],
   "source": [
    "pop_genre_year"
   ]
  },
  {
   "cell_type": "code",
   "execution_count": 232,
   "id": "7fcfb42c-3de7-40a0-a754-551cd2f4e00d",
   "metadata": {},
   "outputs": [],
   "source": [
    "# It seems that genres data is available only from 2001"
   ]
  },
  {
   "cell_type": "code",
   "execution_count": 233,
   "id": "d7e75248-4f11-4019-8a11-a255c7e1c14a",
   "metadata": {},
   "outputs": [],
   "source": [
    "pop_genre_year = pop_genre_year[pop_genre_year[\"Year-Of-Publication\"] >= 2001]"
   ]
  },
  {
   "cell_type": "code",
   "execution_count": 234,
   "id": "b4757860-e30c-42ad-8d1e-8418414c1379",
   "metadata": {},
   "outputs": [
    {
     "data": {
      "text/html": [
       "<div>\n",
       "<style scoped>\n",
       "    .dataframe tbody tr th:only-of-type {\n",
       "        vertical-align: middle;\n",
       "    }\n",
       "\n",
       "    .dataframe tbody tr th {\n",
       "        vertical-align: top;\n",
       "    }\n",
       "\n",
       "    .dataframe thead th {\n",
       "        text-align: right;\n",
       "    }\n",
       "</style>\n",
       "<table border=\"1\" class=\"dataframe\">\n",
       "  <thead>\n",
       "    <tr style=\"text-align: right;\">\n",
       "      <th></th>\n",
       "      <th>Year-Of-Publication</th>\n",
       "      <th>Genre</th>\n",
       "      <th>mean_rating_genre</th>\n",
       "      <th>num_rating_genre</th>\n",
       "    </tr>\n",
       "  </thead>\n",
       "  <tbody>\n",
       "    <tr>\n",
       "      <th>1215</th>\n",
       "      <td>2001</td>\n",
       "      <td>Fiction</td>\n",
       "      <td>7.5</td>\n",
       "      <td>4125</td>\n",
       "    </tr>\n",
       "    <tr>\n",
       "      <th>4492</th>\n",
       "      <td>2002</td>\n",
       "      <td>Fiction</td>\n",
       "      <td>7.6</td>\n",
       "      <td>5303</td>\n",
       "    </tr>\n",
       "    <tr>\n",
       "      <th>7637</th>\n",
       "      <td>2003</td>\n",
       "      <td>Fiction</td>\n",
       "      <td>7.7</td>\n",
       "      <td>4405</td>\n",
       "    </tr>\n",
       "    <tr>\n",
       "      <th>9901</th>\n",
       "      <td>2004</td>\n",
       "      <td>Fiction</td>\n",
       "      <td>7.1</td>\n",
       "      <td>2301</td>\n",
       "    </tr>\n",
       "  </tbody>\n",
       "</table>\n",
       "</div>"
      ],
      "text/plain": [
       "      Year-Of-Publication    Genre  mean_rating_genre  num_rating_genre\n",
       "1215                 2001  Fiction                7.5              4125\n",
       "4492                 2002  Fiction                7.6              5303\n",
       "7637                 2003  Fiction                7.7              4405\n",
       "9901                 2004  Fiction                7.1              2301"
      ]
     },
     "execution_count": 234,
     "metadata": {},
     "output_type": "execute_result"
    }
   ],
   "source": [
    "pop_genre_year"
   ]
  },
  {
   "cell_type": "code",
   "execution_count": 235,
   "id": "33486414-32c8-44d9-a59c-40d6e0338143",
   "metadata": {},
   "outputs": [],
   "source": [
    "# The most popular genre every year from 2001 to 2004 inclusive is Fiction "
   ]
  },
  {
   "cell_type": "markdown",
   "id": "e5547653-635d-4034-b815-8ef306d00cc9",
   "metadata": {},
   "source": [
    "##### The highest-rated publishers by year"
   ]
  },
  {
   "cell_type": "code",
   "execution_count": 236,
   "id": "45469742-e00d-4ac8-84e3-90fc5de3ca5e",
   "metadata": {},
   "outputs": [],
   "source": [
    "pub_by_year=mask.groupby([\"Year-Of-Publication\",\"Publisher\"],as_index=False).agg(\n",
    "    mean_rating_pub=(\"Book-Rating\",\"mean\"),num_rating_pub=(\"Book-Rating\",\"count\")).query(\"num_rating_pub >=10\")    "
   ]
  },
  {
   "cell_type": "code",
   "execution_count": 237,
   "id": "b375f19c-131e-4f26-b00d-b74791855495",
   "metadata": {},
   "outputs": [],
   "source": [
    "pub_by_year[\"mean_rating_pub\"]=pub_by_year[\"mean_rating_pub\"].round(1) "
   ]
  },
  {
   "cell_type": "code",
   "execution_count": 238,
   "id": "55c9be67-49fe-4cf8-a236-ca6cf359cca2",
   "metadata": {},
   "outputs": [],
   "source": [
    "pop_pub_by_year=pub_by_year.sort_values([\"Year-Of-Publication\",\"num_rating_pub\"], ascending=[True,False]).groupby(\n",
    "    \"Year-Of-Publication\").head(1)"
   ]
  },
  {
   "cell_type": "code",
   "execution_count": 239,
   "id": "dc58f23d-c52a-420a-8451-8e33ebcaf224",
   "metadata": {},
   "outputs": [
    {
     "data": {
      "text/html": [
       "<div>\n",
       "<style scoped>\n",
       "    .dataframe tbody tr th:only-of-type {\n",
       "        vertical-align: middle;\n",
       "    }\n",
       "\n",
       "    .dataframe tbody tr th {\n",
       "        vertical-align: top;\n",
       "    }\n",
       "\n",
       "    .dataframe thead th {\n",
       "        text-align: right;\n",
       "    }\n",
       "</style>\n",
       "<table border=\"1\" class=\"dataframe\">\n",
       "  <thead>\n",
       "    <tr style=\"text-align: right;\">\n",
       "      <th></th>\n",
       "      <th>Year-Of-Publication</th>\n",
       "      <th>Publisher</th>\n",
       "      <th>mean_rating_pub</th>\n",
       "      <th>num_rating_pub</th>\n",
       "    </tr>\n",
       "  </thead>\n",
       "  <tbody>\n",
       "    <tr>\n",
       "      <th>61</th>\n",
       "      <td>1988</td>\n",
       "      <td>Ballantine Books</td>\n",
       "      <td>7.5</td>\n",
       "      <td>336</td>\n",
       "    </tr>\n",
       "    <tr>\n",
       "      <th>1637</th>\n",
       "      <td>1989</td>\n",
       "      <td>Pocket</td>\n",
       "      <td>7.5</td>\n",
       "      <td>354</td>\n",
       "    </tr>\n",
       "    <tr>\n",
       "      <th>2699</th>\n",
       "      <td>1990</td>\n",
       "      <td>Pocket</td>\n",
       "      <td>7.8</td>\n",
       "      <td>699</td>\n",
       "    </tr>\n",
       "    <tr>\n",
       "      <th>3844</th>\n",
       "      <td>1991</td>\n",
       "      <td>Pocket</td>\n",
       "      <td>7.6</td>\n",
       "      <td>652</td>\n",
       "    </tr>\n",
       "    <tr>\n",
       "      <th>4281</th>\n",
       "      <td>1992</td>\n",
       "      <td>Ballantine Books</td>\n",
       "      <td>7.5</td>\n",
       "      <td>519</td>\n",
       "    </tr>\n",
       "    <tr>\n",
       "      <th>5621</th>\n",
       "      <td>1993</td>\n",
       "      <td>Ballantine Books</td>\n",
       "      <td>7.6</td>\n",
       "      <td>893</td>\n",
       "    </tr>\n",
       "    <tr>\n",
       "      <th>8111</th>\n",
       "      <td>1994</td>\n",
       "      <td>Signet Book</td>\n",
       "      <td>7.4</td>\n",
       "      <td>573</td>\n",
       "    </tr>\n",
       "    <tr>\n",
       "      <th>8554</th>\n",
       "      <td>1995</td>\n",
       "      <td>Ballantine Books</td>\n",
       "      <td>7.5</td>\n",
       "      <td>823</td>\n",
       "    </tr>\n",
       "    <tr>\n",
       "      <th>10273</th>\n",
       "      <td>1996</td>\n",
       "      <td>Berkley Publishing Group</td>\n",
       "      <td>7.6</td>\n",
       "      <td>1098</td>\n",
       "    </tr>\n",
       "    <tr>\n",
       "      <th>12010</th>\n",
       "      <td>1997</td>\n",
       "      <td>Berkley Publishing Group</td>\n",
       "      <td>7.3</td>\n",
       "      <td>786</td>\n",
       "    </tr>\n",
       "    <tr>\n",
       "      <th>15742</th>\n",
       "      <td>1998</td>\n",
       "      <td>Warner Books</td>\n",
       "      <td>7.8</td>\n",
       "      <td>997</td>\n",
       "    </tr>\n",
       "    <tr>\n",
       "      <th>16015</th>\n",
       "      <td>1999</td>\n",
       "      <td>Ballantine Books</td>\n",
       "      <td>7.5</td>\n",
       "      <td>1033</td>\n",
       "    </tr>\n",
       "    <tr>\n",
       "      <th>19712</th>\n",
       "      <td>2000</td>\n",
       "      <td>Pocket</td>\n",
       "      <td>7.4</td>\n",
       "      <td>806</td>\n",
       "    </tr>\n",
       "    <tr>\n",
       "      <th>20594</th>\n",
       "      <td>2001</td>\n",
       "      <td>Berkley Publishing Group</td>\n",
       "      <td>7.4</td>\n",
       "      <td>923</td>\n",
       "    </tr>\n",
       "    <tr>\n",
       "      <th>22801</th>\n",
       "      <td>2002</td>\n",
       "      <td>Ballantine Books</td>\n",
       "      <td>7.6</td>\n",
       "      <td>1288</td>\n",
       "    </tr>\n",
       "    <tr>\n",
       "      <th>25188</th>\n",
       "      <td>2003</td>\n",
       "      <td>Doubleday</td>\n",
       "      <td>8.0</td>\n",
       "      <td>846</td>\n",
       "    </tr>\n",
       "    <tr>\n",
       "      <th>26480</th>\n",
       "      <td>2004</td>\n",
       "      <td>Berkley Publishing Group</td>\n",
       "      <td>7.8</td>\n",
       "      <td>820</td>\n",
       "    </tr>\n",
       "  </tbody>\n",
       "</table>\n",
       "</div>"
      ],
      "text/plain": [
       "       Year-Of-Publication                 Publisher  mean_rating_pub  \\\n",
       "61                    1988          Ballantine Books              7.5   \n",
       "1637                  1989                    Pocket              7.5   \n",
       "2699                  1990                    Pocket              7.8   \n",
       "3844                  1991                    Pocket              7.6   \n",
       "4281                  1992          Ballantine Books              7.5   \n",
       "5621                  1993          Ballantine Books              7.6   \n",
       "8111                  1994               Signet Book              7.4   \n",
       "8554                  1995          Ballantine Books              7.5   \n",
       "10273                 1996  Berkley Publishing Group              7.6   \n",
       "12010                 1997  Berkley Publishing Group              7.3   \n",
       "15742                 1998              Warner Books              7.8   \n",
       "16015                 1999          Ballantine Books              7.5   \n",
       "19712                 2000                    Pocket              7.4   \n",
       "20594                 2001  Berkley Publishing Group              7.4   \n",
       "22801                 2002          Ballantine Books              7.6   \n",
       "25188                 2003                 Doubleday              8.0   \n",
       "26480                 2004  Berkley Publishing Group              7.8   \n",
       "\n",
       "       num_rating_pub  \n",
       "61                336  \n",
       "1637              354  \n",
       "2699              699  \n",
       "3844              652  \n",
       "4281              519  \n",
       "5621              893  \n",
       "8111              573  \n",
       "8554              823  \n",
       "10273            1098  \n",
       "12010             786  \n",
       "15742             997  \n",
       "16015            1033  \n",
       "19712             806  \n",
       "20594             923  \n",
       "22801            1288  \n",
       "25188             846  \n",
       "26480             820  "
      ]
     },
     "execution_count": 239,
     "metadata": {},
     "output_type": "execute_result"
    }
   ],
   "source": [
    "pop_pub_by_year"
   ]
  },
  {
   "cell_type": "code",
   "execution_count": 240,
   "id": "0fec81f2-2bd9-4351-acbf-7ede2903e9b3",
   "metadata": {},
   "outputs": [],
   "source": [
    "winers=pop_pub_by_year[\"Publisher\"].value_counts().sort_values(ascending=False).reset_index()\n",
    "# The puplisher \"Ballantine Books\" seems like the most successful over the years- Top 1 6 times. \"Pocket\"  and \"Berkley Publishing Group\" are also very popular "
   ]
  },
  {
   "cell_type": "code",
   "execution_count": 241,
   "id": "8f104575-f384-4b1d-a4c8-dbca55120daf",
   "metadata": {},
   "outputs": [],
   "source": [
    "winers.columns = [\"Publisher\", \"n_years_top\"]"
   ]
  },
  {
   "cell_type": "code",
   "execution_count": 242,
   "id": "c507629b-061b-4c87-8e8b-fbb7ea1c79c5",
   "metadata": {},
   "outputs": [
    {
     "data": {
      "text/html": [
       "<div>\n",
       "<style scoped>\n",
       "    .dataframe tbody tr th:only-of-type {\n",
       "        vertical-align: middle;\n",
       "    }\n",
       "\n",
       "    .dataframe tbody tr th {\n",
       "        vertical-align: top;\n",
       "    }\n",
       "\n",
       "    .dataframe thead th {\n",
       "        text-align: right;\n",
       "    }\n",
       "</style>\n",
       "<table border=\"1\" class=\"dataframe\">\n",
       "  <thead>\n",
       "    <tr style=\"text-align: right;\">\n",
       "      <th></th>\n",
       "      <th>Publisher</th>\n",
       "      <th>n_years_top</th>\n",
       "    </tr>\n",
       "  </thead>\n",
       "  <tbody>\n",
       "    <tr>\n",
       "      <th>0</th>\n",
       "      <td>Ballantine Books</td>\n",
       "      <td>6</td>\n",
       "    </tr>\n",
       "    <tr>\n",
       "      <th>1</th>\n",
       "      <td>Pocket</td>\n",
       "      <td>4</td>\n",
       "    </tr>\n",
       "    <tr>\n",
       "      <th>2</th>\n",
       "      <td>Berkley Publishing Group</td>\n",
       "      <td>4</td>\n",
       "    </tr>\n",
       "    <tr>\n",
       "      <th>3</th>\n",
       "      <td>Signet Book</td>\n",
       "      <td>1</td>\n",
       "    </tr>\n",
       "    <tr>\n",
       "      <th>4</th>\n",
       "      <td>Warner Books</td>\n",
       "      <td>1</td>\n",
       "    </tr>\n",
       "    <tr>\n",
       "      <th>5</th>\n",
       "      <td>Doubleday</td>\n",
       "      <td>1</td>\n",
       "    </tr>\n",
       "  </tbody>\n",
       "</table>\n",
       "</div>"
      ],
      "text/plain": [
       "                  Publisher  n_years_top\n",
       "0          Ballantine Books            6\n",
       "1                    Pocket            4\n",
       "2  Berkley Publishing Group            4\n",
       "3               Signet Book            1\n",
       "4              Warner Books            1\n",
       "5                 Doubleday            1"
      ]
     },
     "execution_count": 242,
     "metadata": {},
     "output_type": "execute_result"
    }
   ],
   "source": [
    "winers"
   ]
  },
  {
   "cell_type": "code",
   "execution_count": 243,
   "id": "0b4ebf62-44d1-451e-8ea5-c5c122bd4843",
   "metadata": {},
   "outputs": [
    {
     "data": {
      "image/png": "[encoded data removed]",
      "text/plain": [
       "<Figure size 640x480 with 1 Axes>"
      ]
     },
     "metadata": {},
     "output_type": "display_data"
    }
   ],
   "source": [
    "\n",
    "sb.barplot(data=winers, x=\"n_years_top\", y=\"Publisher\",color=\"#239BA7\")\n",
    "plt.title (\"Publishers with most 'top-rated' years\")\n",
    "plt.show()"
   ]
  },
  {
   "cell_type": "markdown",
   "id": "7c8b8d4d-d515-4231-b59e-fd72b3f883c5",
   "metadata": {},
   "source": [
    "###  User's related statistics"
   ]
  },
  {
   "cell_type": "code",
   "execution_count": 244,
   "id": "8851a860-cafc-45c4-9299-28371290f5f6",
   "metadata": {},
   "outputs": [],
   "source": [
    "# For this research, I’ll include users who have rated at least one book (variable mask)"
   ]
  },
  {
   "cell_type": "code",
   "execution_count": 245,
   "id": "2ddd0ccc-db97-4520-8bf2-6b7ed69415b9",
   "metadata": {},
   "outputs": [],
   "source": [
    "# In basic statistic chapter I've demonstrated that there is no correlation between age and book- rating.\n",
    "# Let see if there is any between age and number of times that user had rated books.\n",
    "# Meaning is there any more active age group in online book rating"
   ]
  },
  {
   "cell_type": "code",
   "execution_count": 246,
   "id": "722a545d-00e5-41d5-9633-0d0637a9d6ab",
   "metadata": {},
   "outputs": [],
   "source": [
    "n_user_ratings=mask.groupby( \"User-ID\",as_index=False).agg(n_user_ratings=(\"Book-Rating\",\"count\")).sort_values(\n",
    "    \"n_user_ratings\",ascending=False)"
   ]
  },
  {
   "cell_type": "code",
   "execution_count": 247,
   "id": "468552bd-4283-438f-b8cf-0b90095a2088",
   "metadata": {},
   "outputs": [
    {
     "data": {
      "text/html": [
       "<div>\n",
       "<style scoped>\n",
       "    .dataframe tbody tr th:only-of-type {\n",
       "        vertical-align: middle;\n",
       "    }\n",
       "\n",
       "    .dataframe tbody tr th {\n",
       "        vertical-align: top;\n",
       "    }\n",
       "\n",
       "    .dataframe thead th {\n",
       "        text-align: right;\n",
       "    }\n",
       "</style>\n",
       "<table border=\"1\" class=\"dataframe\">\n",
       "  <thead>\n",
       "    <tr style=\"text-align: right;\">\n",
       "      <th></th>\n",
       "      <th>User-ID</th>\n",
       "      <th>n_user_ratings</th>\n",
       "    </tr>\n",
       "  </thead>\n",
       "  <tbody>\n",
       "    <tr>\n",
       "      <th>22095</th>\n",
       "      <td>98391</td>\n",
       "      <td>5688</td>\n",
       "    </tr>\n",
       "    <tr>\n",
       "      <th>34552</th>\n",
       "      <td>153662</td>\n",
       "      <td>1609</td>\n",
       "    </tr>\n",
       "    <tr>\n",
       "      <th>42473</th>\n",
       "      <td>189835</td>\n",
       "      <td>1403</td>\n",
       "    </tr>\n",
       "    <tr>\n",
       "      <th>52683</th>\n",
       "      <td>235105</td>\n",
       "      <td>974</td>\n",
       "    </tr>\n",
       "    <tr>\n",
       "      <th>3568</th>\n",
       "      <td>16795</td>\n",
       "      <td>843</td>\n",
       "    </tr>\n",
       "  </tbody>\n",
       "</table>\n",
       "</div>"
      ],
      "text/plain": [
       "       User-ID  n_user_ratings\n",
       "22095    98391            5688\n",
       "34552   153662            1609\n",
       "42473   189835            1403\n",
       "52683   235105             974\n",
       "3568     16795             843"
      ]
     },
     "execution_count": 247,
     "metadata": {},
     "output_type": "execute_result"
    }
   ],
   "source": [
    "n_user_ratings.head()"
   ]
  },
  {
   "cell_type": "code",
   "execution_count": 248,
   "id": "aeec2c50-b2e1-4dea-8e62-d58c23cf0ddd",
   "metadata": {},
   "outputs": [],
   "source": [
    "# To investigate a possible link between rating activity and users’ age or geography, I will merge the aggregated rating data with user details (Age, Country, etc.)\n",
    "n_ratings_user_details=pd.merge(n_user_ratings,books_rat_us,on=\"User-ID\")[[\n",
    "    \"User-ID\",\"n_user_ratings\",\"Age\",\"Age_Group\",\"Country\",\"Continent\"]]"
   ]
  },
  {
   "cell_type": "code",
   "execution_count": 249,
   "id": "be01a74f-6aa8-4273-bec4-647e9ae7db64",
   "metadata": {},
   "outputs": [
    {
     "data": {
      "text/html": [
       "<div>\n",
       "<style scoped>\n",
       "    .dataframe tbody tr th:only-of-type {\n",
       "        vertical-align: middle;\n",
       "    }\n",
       "\n",
       "    .dataframe tbody tr th {\n",
       "        vertical-align: top;\n",
       "    }\n",
       "\n",
       "    .dataframe thead th {\n",
       "        text-align: right;\n",
       "    }\n",
       "</style>\n",
       "<table border=\"1\" class=\"dataframe\">\n",
       "  <thead>\n",
       "    <tr style=\"text-align: right;\">\n",
       "      <th></th>\n",
       "      <th>User-ID</th>\n",
       "      <th>n_user_ratings</th>\n",
       "      <th>Age</th>\n",
       "      <th>Age_Group</th>\n",
       "      <th>Country</th>\n",
       "      <th>Continent</th>\n",
       "    </tr>\n",
       "  </thead>\n",
       "  <tbody>\n",
       "    <tr>\n",
       "      <th>0</th>\n",
       "      <td>98391</td>\n",
       "      <td>5688</td>\n",
       "      <td>52</td>\n",
       "      <td>OlderAdults</td>\n",
       "      <td>Usa</td>\n",
       "      <td>North America</td>\n",
       "    </tr>\n",
       "    <tr>\n",
       "      <th>1</th>\n",
       "      <td>98391</td>\n",
       "      <td>5688</td>\n",
       "      <td>52</td>\n",
       "      <td>OlderAdults</td>\n",
       "      <td>Usa</td>\n",
       "      <td>North America</td>\n",
       "    </tr>\n",
       "    <tr>\n",
       "      <th>2</th>\n",
       "      <td>98391</td>\n",
       "      <td>5688</td>\n",
       "      <td>52</td>\n",
       "      <td>OlderAdults</td>\n",
       "      <td>Usa</td>\n",
       "      <td>North America</td>\n",
       "    </tr>\n",
       "    <tr>\n",
       "      <th>3</th>\n",
       "      <td>98391</td>\n",
       "      <td>5688</td>\n",
       "      <td>52</td>\n",
       "      <td>OlderAdults</td>\n",
       "      <td>Usa</td>\n",
       "      <td>North America</td>\n",
       "    </tr>\n",
       "    <tr>\n",
       "      <th>4</th>\n",
       "      <td>98391</td>\n",
       "      <td>5688</td>\n",
       "      <td>52</td>\n",
       "      <td>OlderAdults</td>\n",
       "      <td>Usa</td>\n",
       "      <td>North America</td>\n",
       "    </tr>\n",
       "  </tbody>\n",
       "</table>\n",
       "</div>"
      ],
      "text/plain": [
       "   User-ID  n_user_ratings  Age    Age_Group Country      Continent\n",
       "0    98391            5688   52  OlderAdults     Usa  North America\n",
       "1    98391            5688   52  OlderAdults     Usa  North America\n",
       "2    98391            5688   52  OlderAdults     Usa  North America\n",
       "3    98391            5688   52  OlderAdults     Usa  North America\n",
       "4    98391            5688   52  OlderAdults     Usa  North America"
      ]
     },
     "execution_count": 249,
     "metadata": {},
     "output_type": "execute_result"
    }
   ],
   "source": [
    "n_ratings_user_details.head()"
   ]
  },
  {
   "cell_type": "code",
   "execution_count": 250,
   "id": "bc253986-d96c-4dcc-906c-25cca640cfa1",
   "metadata": {},
   "outputs": [
    {
     "name": "stdout",
     "output_type": "stream",
     "text": [
      "<class 'pandas.core.frame.DataFrame'>\n",
      "RangeIndex: 840549 entries, 0 to 840548\n",
      "Data columns (total 6 columns):\n",
      " #   Column          Non-Null Count   Dtype   \n",
      "---  ------          --------------   -----   \n",
      " 0   User-ID         840549 non-null  int64   \n",
      " 1   n_user_ratings  840549 non-null  int64   \n",
      " 2   Age             840549 non-null  Int64   \n",
      " 3   Age_Group       840549 non-null  category\n",
      " 4   Country         840549 non-null  object  \n",
      " 5   Continent       840549 non-null  object  \n",
      "dtypes: Int64(1), category(1), int64(2), object(2)\n",
      "memory usage: 33.7+ MB\n"
     ]
    }
   ],
   "source": [
    "n_ratings_user_details.info()"
   ]
  },
  {
   "cell_type": "code",
   "execution_count": 251,
   "id": "0d59da36-fd8c-4c40-bb60-b4826b4a3e6a",
   "metadata": {},
   "outputs": [
    {
     "data": {
      "text/html": [
       "<div>\n",
       "<style scoped>\n",
       "    .dataframe tbody tr th:only-of-type {\n",
       "        vertical-align: middle;\n",
       "    }\n",
       "\n",
       "    .dataframe tbody tr th {\n",
       "        vertical-align: top;\n",
       "    }\n",
       "\n",
       "    .dataframe thead th {\n",
       "        text-align: right;\n",
       "    }\n",
       "</style>\n",
       "<table border=\"1\" class=\"dataframe\">\n",
       "  <thead>\n",
       "    <tr style=\"text-align: right;\">\n",
       "      <th></th>\n",
       "      <th>n_user_ratings</th>\n",
       "      <th>Age</th>\n",
       "    </tr>\n",
       "  </thead>\n",
       "  <tbody>\n",
       "    <tr>\n",
       "      <th>n_user_ratings</th>\n",
       "      <td>1.000000</td>\n",
       "      <td>0.150188</td>\n",
       "    </tr>\n",
       "    <tr>\n",
       "      <th>Age</th>\n",
       "      <td>0.150188</td>\n",
       "      <td>1.000000</td>\n",
       "    </tr>\n",
       "  </tbody>\n",
       "</table>\n",
       "</div>"
      ],
      "text/plain": [
       "                n_user_ratings       Age\n",
       "n_user_ratings        1.000000  0.150188\n",
       "Age                   0.150188  1.000000"
      ]
     },
     "execution_count": 251,
     "metadata": {},
     "output_type": "execute_result"
    }
   ],
   "source": [
    "n_ratings_user_details[[\"n_user_ratings\",\"Age\"]].corr()\n",
    "# It seem's there is no strong correlation between rating activity and users’ age"
   ]
  },
  {
   "cell_type": "code",
   "execution_count": 252,
   "id": "99f53460-1e83-4918-a70e-3ece23972fcd",
   "metadata": {},
   "outputs": [
    {
     "data": {
      "image/png": "[encoded data removed]",
      "text/plain": [
       "<Figure size 640x480 with 1 Axes>"
      ]
     },
     "metadata": {},
     "output_type": "display_data"
    }
   ],
   "source": [
    "df = n_ratings_user_details.copy()\n",
    "x=df[\"Age\"]\n",
    "y=df[\"n_user_ratings\"]\n",
    "ax = sb.regplot(data= df, x=x, y=y,scatter_kws={\"alpha\":0.25, \"s\":12},ci=None)  \n",
    "ax.set_title(\"Rating activity vs Age\")\n",
    "plt.show()"
   ]
  },
  {
   "cell_type": "code",
   "execution_count": 253,
   "id": "cad37209-4a41-4df7-8926-04c4dfb26370",
   "metadata": {},
   "outputs": [],
   "source": [
    "# I have to deal with outliers, in this case I have one specific user with above 5,500 ratings"
   ]
  },
  {
   "cell_type": "code",
   "execution_count": 254,
   "id": "48630300-ea0b-440d-85d2-d91da40bfa75",
   "metadata": {},
   "outputs": [
    {
     "data": {
      "image/png": "[encoded data removed]",
      "text/plain": [
       "<Figure size 640x480 with 1 Axes>"
      ]
     },
     "metadata": {},
     "output_type": "display_data"
    }
   ],
   "source": [
    "df = n_ratings_user_details.copy()\n",
    "mask1=df[\"n_user_ratings\"].between(0, 1000)\n",
    "y=df.loc[ mask1,\"n_user_ratings\"]\n",
    "x=df.loc[ mask1,\"Age\"]\n",
    "ax = sb.scatterplot(data= df, x=x, y=y,alpha=0.25, s=30)  \n",
    "ax.set_title(\"Rating activity vs Age\")\n",
    "plt.show()"
   ]
  },
  {
   "cell_type": "code",
   "execution_count": 255,
   "id": "c0e18454-cea0-4a07-8d29-55e97141c9d7",
   "metadata": {},
   "outputs": [],
   "source": [
    "# Another way to present the data on boxenplot"
   ]
  },
  {
   "cell_type": "code",
   "execution_count": 256,
   "id": "161bf032-35d1-4fe2-936f-b68eff8bc5a6",
   "metadata": {},
   "outputs": [
    {
     "data": {
      "image/png": "[encoded data removed]",
      "text/plain": [
       "<Figure size 640x480 with 1 Axes>"
      ]
     },
     "metadata": {},
     "output_type": "display_data"
    }
   ],
   "source": [
    "mask1=df[\"n_user_ratings\"].between(0, 1000)\n",
    "sb.boxenplot( x=df.loc[mask1,\"Age_Group\"], y=df.loc[mask1,\"n_user_ratings\"])\n",
    "plt.title(\"Ratings per user by Age group\")\n",
    "plt.show()\n"
   ]
  },
  {
   "cell_type": "code",
   "execution_count": 257,
   "id": "580bcd0e-963b-4108-ae18-6f5ceeaba266",
   "metadata": {},
   "outputs": [],
   "source": [
    "# There is not strong correlation between user's age and rating activity.In general Adults & OlderAdults tend to rate more books per user."
   ]
  },
  {
   "cell_type": "code",
   "execution_count": 258,
   "id": "01255e72-1b68-49de-89a3-23bafeb7568b",
   "metadata": {},
   "outputs": [],
   "source": [
    "# Now I’ll show whether rating activity differs across countries and continents.\n",
    "# \"Country\" and \"Continent\" are object data type, though corr methoda doesn't help"
   ]
  },
  {
   "cell_type": "code",
   "execution_count": 259,
   "id": "dfb96f1c-eda4-4d08-935a-3f66da47490d",
   "metadata": {},
   "outputs": [
    {
     "data": {
      "image/png": "[encoded data removed]",
      "text/plain": [
       "<Figure size 640x480 with 1 Axes>"
      ]
     },
     "metadata": {},
     "output_type": "display_data"
    }
   ],
   "source": [
    "mask1=df[\"n_user_ratings\"].between(0, 1000)\n",
    "sb.pointplot(x=df.loc[mask1,\"Continent\"], y=df.loc[mask1,\"n_user_ratings\"],errorbar=\"sd\", color=\"#932F67\")\n",
    "plt.title (\"Ratings per user Continent\")        \n",
    "plt.show()\n",
    "# errorbar=\"sd\"- presents standard deviation of each distribution."
   ]
  },
  {
   "cell_type": "code",
   "execution_count": 260,
   "id": "d8b30a03-8172-4473-8271-8d9f6202f085",
   "metadata": {},
   "outputs": [],
   "source": [
    "# From this plot, users in North America appear to be the most active raters, with Europe next.\n",
    "# The wide error bars show high variability in activity within each continent. Africa has the lowest average activity."
   ]
  },
  {
   "cell_type": "markdown",
   "id": "f0c53b66-ed19-4621-93d3-6488fafa12e4",
   "metadata": {},
   "source": [
    "###  Which genres are rated highest within each age group?"
   ]
  },
  {
   "cell_type": "code",
   "execution_count": 261,
   "id": "7f4409d9-fd41-4742-b2cd-832a7ee0f28e",
   "metadata": {},
   "outputs": [],
   "source": [
    "dfgen = books_rat_us[books_rat_us[\"Book-Rating\"] > 0].copy()\n",
    "dfgen=dfgen.groupby([\"Age_Group\",\"Genre\"],as_index=False, observed =True)[\"Book-Rating\"].mean() \n"
   ]
  },
  {
   "cell_type": "code",
   "execution_count": 262,
   "id": "31259819-b71d-4fe5-a428-ba63fb25be3d",
   "metadata": {},
   "outputs": [
    {
     "data": {
      "text/html": [
       "<div>\n",
       "<style scoped>\n",
       "    .dataframe tbody tr th:only-of-type {\n",
       "        vertical-align: middle;\n",
       "    }\n",
       "\n",
       "    .dataframe tbody tr th {\n",
       "        vertical-align: top;\n",
       "    }\n",
       "\n",
       "    .dataframe thead th {\n",
       "        text-align: right;\n",
       "    }\n",
       "</style>\n",
       "<table border=\"1\" class=\"dataframe\">\n",
       "  <thead>\n",
       "    <tr style=\"text-align: right;\">\n",
       "      <th></th>\n",
       "      <th>Age_Group</th>\n",
       "      <th>Genre</th>\n",
       "      <th>Book-Rating</th>\n",
       "    </tr>\n",
       "  </thead>\n",
       "  <tbody>\n",
       "    <tr>\n",
       "      <th>0</th>\n",
       "      <td>Teenagers</td>\n",
       "      <td>1940s</td>\n",
       "      <td>5.0</td>\n",
       "    </tr>\n",
       "    <tr>\n",
       "      <th>1</th>\n",
       "      <td>Teenagers</td>\n",
       "      <td>3rd Grade</td>\n",
       "      <td>9.0</td>\n",
       "    </tr>\n",
       "    <tr>\n",
       "      <th>2</th>\n",
       "      <td>Teenagers</td>\n",
       "      <td>Abolitionists</td>\n",
       "      <td>7.0</td>\n",
       "    </tr>\n",
       "    <tr>\n",
       "      <th>3</th>\n",
       "      <td>Teenagers</td>\n",
       "      <td>Abortion</td>\n",
       "      <td>8.0</td>\n",
       "    </tr>\n",
       "    <tr>\n",
       "      <th>4</th>\n",
       "      <td>Teenagers</td>\n",
       "      <td>Abused women</td>\n",
       "      <td>6.0</td>\n",
       "    </tr>\n",
       "    <tr>\n",
       "      <th>...</th>\n",
       "      <td>...</td>\n",
       "      <td>...</td>\n",
       "      <td>...</td>\n",
       "    </tr>\n",
       "    <tr>\n",
       "      <th>11646</th>\n",
       "      <td>Olders</td>\n",
       "      <td>murder</td>\n",
       "      <td>10.0</td>\n",
       "    </tr>\n",
       "    <tr>\n",
       "      <th>11647</th>\n",
       "      <td>Olders</td>\n",
       "      <td>mutants</td>\n",
       "      <td>10.0</td>\n",
       "    </tr>\n",
       "    <tr>\n",
       "      <th>11648</th>\n",
       "      <td>Olders</td>\n",
       "      <td>mystery fiction</td>\n",
       "      <td>8.0</td>\n",
       "    </tr>\n",
       "    <tr>\n",
       "      <th>11649</th>\n",
       "      <td>Olders</td>\n",
       "      <td>orphans</td>\n",
       "      <td>9.0</td>\n",
       "    </tr>\n",
       "    <tr>\n",
       "      <th>11650</th>\n",
       "      <td>Olders</td>\n",
       "      <td>techno-thriller</td>\n",
       "      <td>7.0</td>\n",
       "    </tr>\n",
       "  </tbody>\n",
       "</table>\n",
       "<p>11651 rows × 3 columns</p>\n",
       "</div>"
      ],
      "text/plain": [
       "       Age_Group            Genre  Book-Rating\n",
       "0      Teenagers            1940s          5.0\n",
       "1      Teenagers        3rd Grade          9.0\n",
       "2      Teenagers    Abolitionists          7.0\n",
       "3      Teenagers         Abortion          8.0\n",
       "4      Teenagers     Abused women          6.0\n",
       "...          ...              ...          ...\n",
       "11646     Olders           murder         10.0\n",
       "11647     Olders          mutants         10.0\n",
       "11648     Olders  mystery fiction          8.0\n",
       "11649     Olders          orphans          9.0\n",
       "11650     Olders  techno-thriller          7.0\n",
       "\n",
       "[11651 rows x 3 columns]"
      ]
     },
     "execution_count": 262,
     "metadata": {},
     "output_type": "execute_result"
    }
   ],
   "source": [
    "dfgen"
   ]
  },
  {
   "cell_type": "code",
   "execution_count": 263,
   "id": "d9036d75-e409-4b50-b070-ce3d462261d6",
   "metadata": {},
   "outputs": [],
   "source": [
    "# For futher calculation, I'll take only top genres - most frequent"
   ]
  },
  {
   "cell_type": "code",
   "execution_count": 264,
   "id": "2d0fafd8-6b0f-4e0b-a9a4-324bdbd2b788",
   "metadata": {},
   "outputs": [],
   "source": [
    "dfg = books_rat_us[books_rat_us[\"Book-Rating\"] > 0].copy()"
   ]
  },
  {
   "cell_type": "code",
   "execution_count": 265,
   "id": "32434889-c15f-4b81-ae8c-55319650d12f",
   "metadata": {},
   "outputs": [],
   "source": [
    "top_genres = dfg[\"Genre\"].value_counts().nlargest(10).index\n",
    "dftop = dfg[dfg[\"Genre\"].isin(top_genres)].copy()"
   ]
  },
  {
   "cell_type": "code",
   "execution_count": 266,
   "id": "a3f787b7-12ad-49f2-9227-e6dcdbf111fe",
   "metadata": {},
   "outputs": [],
   "source": [
    "mean_piv=dftop.pivot_table(values=\"Book-Rating\",index=\"Age_Group\",columns=\"Genre\",aggfunc=\"mean\", observed=True).round(1)"
   ]
  },
  {
   "cell_type": "code",
   "execution_count": 267,
   "id": "540c04e7-720c-43e6-87ad-50c78db7a644",
   "metadata": {},
   "outputs": [
    {
     "data": {
      "text/html": [
       "<div>\n",
       "<style scoped>\n",
       "    .dataframe tbody tr th:only-of-type {\n",
       "        vertical-align: middle;\n",
       "    }\n",
       "\n",
       "    .dataframe tbody tr th {\n",
       "        vertical-align: top;\n",
       "    }\n",
       "\n",
       "    .dataframe thead th {\n",
       "        text-align: right;\n",
       "    }\n",
       "</style>\n",
       "<table border=\"1\" class=\"dataframe\">\n",
       "  <thead>\n",
       "    <tr style=\"text-align: right;\">\n",
       "      <th>Genre</th>\n",
       "      <th>Detective and mystery stories</th>\n",
       "      <th>Fiction</th>\n",
       "      <th>Fiction, romance, general</th>\n",
       "      <th>Literature</th>\n",
       "      <th>Murder</th>\n",
       "      <th>Mystery</th>\n",
       "      <th>No specified</th>\n",
       "      <th>Open Library Staff Picks</th>\n",
       "      <th>Private investigators</th>\n",
       "      <th>Social life and customs</th>\n",
       "    </tr>\n",
       "    <tr>\n",
       "      <th>Age_Group</th>\n",
       "      <th></th>\n",
       "      <th></th>\n",
       "      <th></th>\n",
       "      <th></th>\n",
       "      <th></th>\n",
       "      <th></th>\n",
       "      <th></th>\n",
       "      <th></th>\n",
       "      <th></th>\n",
       "      <th></th>\n",
       "    </tr>\n",
       "  </thead>\n",
       "  <tbody>\n",
       "    <tr>\n",
       "      <th>Teenagers</th>\n",
       "      <td>9.1</td>\n",
       "      <td>7.9</td>\n",
       "      <td>7.0</td>\n",
       "      <td>7.4</td>\n",
       "      <td>8.4</td>\n",
       "      <td>7.8</td>\n",
       "      <td>7.7</td>\n",
       "      <td>7.7</td>\n",
       "      <td>8.7</td>\n",
       "      <td>7.8</td>\n",
       "    </tr>\n",
       "    <tr>\n",
       "      <th>YoungAdults</th>\n",
       "      <td>8.0</td>\n",
       "      <td>7.5</td>\n",
       "      <td>7.6</td>\n",
       "      <td>7.8</td>\n",
       "      <td>8.1</td>\n",
       "      <td>7.9</td>\n",
       "      <td>7.6</td>\n",
       "      <td>7.6</td>\n",
       "      <td>8.5</td>\n",
       "      <td>7.7</td>\n",
       "    </tr>\n",
       "    <tr>\n",
       "      <th>Adults</th>\n",
       "      <td>7.7</td>\n",
       "      <td>7.4</td>\n",
       "      <td>7.2</td>\n",
       "      <td>7.4</td>\n",
       "      <td>8.0</td>\n",
       "      <td>7.6</td>\n",
       "      <td>7.5</td>\n",
       "      <td>7.6</td>\n",
       "      <td>7.6</td>\n",
       "      <td>7.6</td>\n",
       "    </tr>\n",
       "    <tr>\n",
       "      <th>OlderAdults</th>\n",
       "      <td>8.0</td>\n",
       "      <td>7.9</td>\n",
       "      <td>8.0</td>\n",
       "      <td>7.3</td>\n",
       "      <td>7.9</td>\n",
       "      <td>8.2</td>\n",
       "      <td>7.8</td>\n",
       "      <td>7.5</td>\n",
       "      <td>8.0</td>\n",
       "      <td>7.8</td>\n",
       "    </tr>\n",
       "    <tr>\n",
       "      <th>Olders</th>\n",
       "      <td>7.5</td>\n",
       "      <td>7.1</td>\n",
       "      <td>6.0</td>\n",
       "      <td>5.0</td>\n",
       "      <td>6.0</td>\n",
       "      <td>8.0</td>\n",
       "      <td>7.2</td>\n",
       "      <td>7.5</td>\n",
       "      <td>6.9</td>\n",
       "      <td>8.2</td>\n",
       "    </tr>\n",
       "  </tbody>\n",
       "</table>\n",
       "</div>"
      ],
      "text/plain": [
       "Genre        Detective and mystery stories  Fiction  \\\n",
       "Age_Group                                             \n",
       "Teenagers                              9.1      7.9   \n",
       "YoungAdults                            8.0      7.5   \n",
       "Adults                                 7.7      7.4   \n",
       "OlderAdults                            8.0      7.9   \n",
       "Olders                                 7.5      7.1   \n",
       "\n",
       "Genre        Fiction, romance, general  Literature  Murder  Mystery  \\\n",
       "Age_Group                                                             \n",
       "Teenagers                          7.0         7.4     8.4      7.8   \n",
       "YoungAdults                        7.6         7.8     8.1      7.9   \n",
       "Adults                             7.2         7.4     8.0      7.6   \n",
       "OlderAdults                        8.0         7.3     7.9      8.2   \n",
       "Olders                             6.0         5.0     6.0      8.0   \n",
       "\n",
       "Genre        No specified  Open Library Staff Picks  Private investigators  \\\n",
       "Age_Group                                                                    \n",
       "Teenagers             7.7                       7.7                    8.7   \n",
       "YoungAdults           7.6                       7.6                    8.5   \n",
       "Adults                7.5                       7.6                    7.6   \n",
       "OlderAdults           7.8                       7.5                    8.0   \n",
       "Olders                7.2                       7.5                    6.9   \n",
       "\n",
       "Genre        Social life and customs  \n",
       "Age_Group                             \n",
       "Teenagers                        7.8  \n",
       "YoungAdults                      7.7  \n",
       "Adults                           7.6  \n",
       "OlderAdults                      7.8  \n",
       "Olders                           8.2  "
      ]
     },
     "execution_count": 267,
     "metadata": {},
     "output_type": "execute_result"
    }
   ],
   "source": [
    "mean_piv"
   ]
  },
  {
   "cell_type": "code",
   "execution_count": 268,
   "id": "46448b11-7b3e-4126-bfdd-fc691b283a16",
   "metadata": {},
   "outputs": [
    {
     "data": {
      "image/png": "[encoded data removed]",
      "text/plain": [
       "<Figure size 1400x600 with 2 Axes>"
      ]
     },
     "metadata": {},
     "output_type": "display_data"
    }
   ],
   "source": [
    "cmap = sb.cubehelix_palette(rot=-.2, as_cmap=True)\n",
    "\n",
    "plt.figure(figsize=(14,6))\n",
    "\n",
    "sb.heatmap(mean_piv, annot=True, fmt=\".2f\",cmap=cmap)\n",
    "plt.tick_params(axis=\"x\", labelrotation=45,labelsize=9)\n",
    "plt.tick_params(axis=\"y\", labelrotation=0)\n",
    "plt.title(\"Mean rating by Age Group × Genre (Top 10 genres)\", fontsize=18, weight=\"bold\", pad=12)\n",
    "plt.show()"
   ]
  },
  {
   "cell_type": "code",
   "execution_count": 269,
   "id": "9f9d4899-9db0-4bcf-8d03-4e5411472758",
   "metadata": {},
   "outputs": [],
   "source": [
    "# There are several conclusions from this graph:\n",
    "# 1. Teenagers give higher average ratings than Olders, especially in several genres.\n",
    "# 2. Teenagers rate “Detective and mystery stories” and “Private investigators” the highest among all age groups (AVG 9.1 and 8.7, respectively).\n",
    "# 3. YoungAdults and Adults show no strong genre-specific pattern—their means cluster tightly around 7.4–7.9 across genres.\n",
    "# 4. Olders (75+) tend to like “Fiction, romance, general”, “Literature”, and “Murder” less (AVG 6.0, 5.0, 6.0).\n",
    "# 5. “Detective and mystery stories” and “Private investigators” are broadly liked across age groups (typically above 7.5), with Teenagers highest.\n",
    "# 6. “Social life and customs” is actually highest for Olders ( AVG 8.2), not Adults."
   ]
  },
  {
   "cell_type": "markdown",
   "id": "fd833473-1f66-4527-86ca-2cf969753308",
   "metadata": {},
   "source": [
    "### Which genres are rated highest in different geographic regions?"
   ]
  },
  {
   "cell_type": "code",
   "execution_count": 270,
   "id": "a22a4aef-70f3-4a2b-b743-ab2df8d5faa2",
   "metadata": {},
   "outputs": [],
   "source": [
    "dfgenre = books_rat_us[(books_rat_us[\"Book-Rating\"] > 0) & (books_rat_us[\"Genre\"]!= \"No specified\")].copy()\n",
    "dfcont=dfgenre.groupby([\"Continent\",\"Genre\"],as_index=False, observed =True)[\"Book-Rating\"].mean() \n"
   ]
  },
  {
   "cell_type": "code",
   "execution_count": 271,
   "id": "baf6959b-6624-481d-9e79-e8d6dfdde3dd",
   "metadata": {},
   "outputs": [
    {
     "data": {
      "text/html": [
       "<div>\n",
       "<style scoped>\n",
       "    .dataframe tbody tr th:only-of-type {\n",
       "        vertical-align: middle;\n",
       "    }\n",
       "\n",
       "    .dataframe tbody tr th {\n",
       "        vertical-align: top;\n",
       "    }\n",
       "\n",
       "    .dataframe thead th {\n",
       "        text-align: right;\n",
       "    }\n",
       "</style>\n",
       "<table border=\"1\" class=\"dataframe\">\n",
       "  <thead>\n",
       "    <tr style=\"text-align: right;\">\n",
       "      <th></th>\n",
       "      <th>Continent</th>\n",
       "      <th>Genre</th>\n",
       "      <th>Book-Rating</th>\n",
       "    </tr>\n",
       "  </thead>\n",
       "  <tbody>\n",
       "    <tr>\n",
       "      <th>0</th>\n",
       "      <td>Africa</td>\n",
       "      <td>Biography</td>\n",
       "      <td>4.0</td>\n",
       "    </tr>\n",
       "    <tr>\n",
       "      <th>1</th>\n",
       "      <td>Africa</td>\n",
       "      <td>Boys</td>\n",
       "      <td>4.0</td>\n",
       "    </tr>\n",
       "    <tr>\n",
       "      <th>2</th>\n",
       "      <td>Africa</td>\n",
       "      <td>British</td>\n",
       "      <td>7.0</td>\n",
       "    </tr>\n",
       "    <tr>\n",
       "      <th>3</th>\n",
       "      <td>Africa</td>\n",
       "      <td>Chinese Medicine</td>\n",
       "      <td>10.0</td>\n",
       "    </tr>\n",
       "    <tr>\n",
       "      <th>4</th>\n",
       "      <td>Africa</td>\n",
       "      <td>Comic books, strips, etc., history and criticism</td>\n",
       "      <td>10.0</td>\n",
       "    </tr>\n",
       "  </tbody>\n",
       "</table>\n",
       "</div>"
      ],
      "text/plain": [
       "  Continent                                             Genre  Book-Rating\n",
       "0    Africa                                         Biography          4.0\n",
       "1    Africa                                              Boys          4.0\n",
       "2    Africa                                           British          7.0\n",
       "3    Africa                                  Chinese Medicine         10.0\n",
       "4    Africa  Comic books, strips, etc., history and criticism         10.0"
      ]
     },
     "execution_count": 271,
     "metadata": {},
     "output_type": "execute_result"
    }
   ],
   "source": [
    "dfcont.head()"
   ]
  },
  {
   "cell_type": "code",
   "execution_count": 272,
   "id": "d7c82810-2fb1-4ae5-9c14-6a1f7283341a",
   "metadata": {},
   "outputs": [],
   "source": [
    "# Most rated genres in each Continent"
   ]
  },
  {
   "cell_type": "code",
   "execution_count": 273,
   "id": "04458b29-fc63-43b3-9d2e-e0028740d460",
   "metadata": {},
   "outputs": [],
   "source": [
    "top_genres_cont=dfcont[\"Genre\"].value_counts().nlargest(5).index.tolist()\n",
    "dftop_gc=dfcont[dfcont[\"Genre\"].isin(top_genres_cont)].copy()"
   ]
  },
  {
   "cell_type": "code",
   "execution_count": 274,
   "id": "80dd0fbf-c62f-40f7-ba80-76dcdc9e9531",
   "metadata": {},
   "outputs": [],
   "source": [
    "mean_piv_gc=dftop_gc.pivot_table(values=\"Book-Rating\",index=\"Continent\",columns=\"Genre\",aggfunc=\"mean\",observed=True ).round(1)"
   ]
  },
  {
   "cell_type": "code",
   "execution_count": 275,
   "id": "921dfa57-bb46-4948-b4a9-349bd3dcf6ec",
   "metadata": {},
   "outputs": [
    {
     "data": {
      "text/html": [
       "<div>\n",
       "<style scoped>\n",
       "    .dataframe tbody tr th:only-of-type {\n",
       "        vertical-align: middle;\n",
       "    }\n",
       "\n",
       "    .dataframe tbody tr th {\n",
       "        vertical-align: top;\n",
       "    }\n",
       "\n",
       "    .dataframe thead th {\n",
       "        text-align: right;\n",
       "    }\n",
       "</style>\n",
       "<table border=\"1\" class=\"dataframe\">\n",
       "  <thead>\n",
       "    <tr style=\"text-align: right;\">\n",
       "      <th>Genre</th>\n",
       "      <th>Boys</th>\n",
       "      <th>England, fiction</th>\n",
       "      <th>Fantasy fiction</th>\n",
       "      <th>Fiction</th>\n",
       "      <th>Mystery</th>\n",
       "    </tr>\n",
       "    <tr>\n",
       "      <th>Continent</th>\n",
       "      <th></th>\n",
       "      <th></th>\n",
       "      <th></th>\n",
       "      <th></th>\n",
       "      <th></th>\n",
       "    </tr>\n",
       "  </thead>\n",
       "  <tbody>\n",
       "    <tr>\n",
       "      <th>Africa</th>\n",
       "      <td>4.0</td>\n",
       "      <td>1.0</td>\n",
       "      <td>9.0</td>\n",
       "      <td>6.0</td>\n",
       "      <td>6.0</td>\n",
       "    </tr>\n",
       "    <tr>\n",
       "      <th>Asia</th>\n",
       "      <td>6.0</td>\n",
       "      <td>8.3</td>\n",
       "      <td>8.4</td>\n",
       "      <td>7.3</td>\n",
       "      <td>8.3</td>\n",
       "    </tr>\n",
       "    <tr>\n",
       "      <th>Australia</th>\n",
       "      <td>3.0</td>\n",
       "      <td>7.8</td>\n",
       "      <td>6.5</td>\n",
       "      <td>6.8</td>\n",
       "      <td>7.6</td>\n",
       "    </tr>\n",
       "    <tr>\n",
       "      <th>Europe</th>\n",
       "      <td>7.0</td>\n",
       "      <td>8.5</td>\n",
       "      <td>8.2</td>\n",
       "      <td>7.2</td>\n",
       "      <td>7.8</td>\n",
       "    </tr>\n",
       "    <tr>\n",
       "      <th>North America</th>\n",
       "      <td>7.4</td>\n",
       "      <td>8.2</td>\n",
       "      <td>8.6</td>\n",
       "      <td>7.6</td>\n",
       "      <td>7.8</td>\n",
       "    </tr>\n",
       "    <tr>\n",
       "      <th>South America</th>\n",
       "      <td>NaN</td>\n",
       "      <td>10.0</td>\n",
       "      <td>5.0</td>\n",
       "      <td>6.4</td>\n",
       "      <td>8.0</td>\n",
       "    </tr>\n",
       "    <tr>\n",
       "      <th>Unknown</th>\n",
       "      <td>8.4</td>\n",
       "      <td>8.5</td>\n",
       "      <td>8.3</td>\n",
       "      <td>7.6</td>\n",
       "      <td>7.8</td>\n",
       "    </tr>\n",
       "  </tbody>\n",
       "</table>\n",
       "</div>"
      ],
      "text/plain": [
       "Genre          Boys  England, fiction  Fantasy fiction  Fiction  Mystery\n",
       "Continent                                                               \n",
       "Africa          4.0               1.0              9.0      6.0      6.0\n",
       "Asia            6.0               8.3              8.4      7.3      8.3\n",
       "Australia       3.0               7.8              6.5      6.8      7.6\n",
       "Europe          7.0               8.5              8.2      7.2      7.8\n",
       "North America   7.4               8.2              8.6      7.6      7.8\n",
       "South America   NaN              10.0              5.0      6.4      8.0\n",
       "Unknown         8.4               8.5              8.3      7.6      7.8"
      ]
     },
     "execution_count": 275,
     "metadata": {},
     "output_type": "execute_result"
    }
   ],
   "source": [
    "mean_piv_gc"
   ]
  },
  {
   "cell_type": "code",
   "execution_count": 276,
   "id": "9e07d2cb-4595-4546-ad3b-99ce5965350e",
   "metadata": {},
   "outputs": [],
   "source": [
    "# North Americans preffer \"Fantasy fiction\"\n",
    "# Europians preffer \"England, fiction genre\" ' as well as Australians and South Americans\n",
    "# \"Fantasy fiction\" is the most rated also by Asian and African users"
   ]
  },
  {
   "cell_type": "markdown",
   "id": "0e2b8a2f-f28a-44e3-aece-220067e8da64",
   "metadata": {},
   "source": [
    "### Distribution of ratings for the top five genres"
   ]
  },
  {
   "cell_type": "code",
   "execution_count": 277,
   "id": "3f61a509-f2a1-4aed-871c-d34a743db866",
   "metadata": {},
   "outputs": [],
   "source": [
    "# I use a violin plot to visualize the distribution of ratings for the top five genres "
   ]
  },
  {
   "cell_type": "code",
   "execution_count": 278,
   "id": "bf6f96cf-d3be-44ba-bea9-c8b801aeb134",
   "metadata": {},
   "outputs": [
    {
     "data": {
      "image/png": "[encoded data removed]",
      "text/plain": [
       "<Figure size 1200x600 with 1 Axes>"
      ]
     },
     "metadata": {},
     "output_type": "display_data"
    }
   ],
   "source": [
    "dftop_gen = dfgenre.groupby(\"Genre\", as_index=False, observed=True)[\"Book-Rating\"].agg( n_ratings=\"count\")\n",
    "top5 = dftop_gen.query(\"n_ratings >=100\").sort_values(\"n_ratings\", ascending=False).head(5)[\"Genre\"].tolist()\n",
    "# Top 5 genres with et least 100 ratings each\n",
    "dfv = dfgenre[dfgenre[\"Genre\"].isin(top5)].copy()\n",
    "dfv[\"Genre\"] = pd.Categorical(dfv[\"Genre\"], categories=top5, ordered=True)\n",
    "plt.figure(figsize=(12,6))\n",
    "sb.violinplot(data=dfv, x=\"Genre\", y=\"Book-Rating\",hue=\"Genre\",dodge=False, order=top5,inner=\"quartile\")\n",
    "plt.title(\"Distribution of ratings by genre (Top 5 by number of ratings)\")\n",
    "plt.xticks(rotation=20, ha=\"right\")\n",
    "plt.tight_layout()\n",
    "plt.show()\n"
   ]
  },
  {
   "cell_type": "code",
   "execution_count": 279,
   "id": "66f8cb12-0130-47ab-9944-17ec0a0ef021",
   "metadata": {},
   "outputs": [],
   "source": [
    "# This graph shows that mean of all 5 Top genres is almost the same ~8.\n",
    "# Mystery and Social life and customs have the narrowest violins, so they show the least variability in ratings.\n",
    "# Others have wider violins and longer lower tails, indicating more low ratings and greater spread"
   ]
  },
  {
   "cell_type": "markdown",
   "id": "504a59df-b337-4c88-81d3-cfe092fd39da",
   "metadata": {},
   "source": [
    "### Popularity vs. quality: How does average rating relate to number of ratings per book? "
   ]
  },
  {
   "cell_type": "code",
   "execution_count": 280,
   "id": "95d854ee-93f2-4200-a533-aa32dc57439f",
   "metadata": {},
   "outputs": [],
   "source": [
    "# Popularity is represented by the number of ratings, while quality is reflected in the mean rating"
   ]
  },
  {
   "cell_type": "code",
   "execution_count": 281,
   "id": "05b14ef0-0653-4a84-9eec-2c64f2aadd47",
   "metadata": {},
   "outputs": [
    {
     "name": "stdout",
     "output_type": "stream",
     "text": [
      "Spearman ρ = 0.053\n"
     ]
    }
   ],
   "source": [
    "spearman = rated[[\"num_rating\",\"mean_rating\"]].corr(method=\"spearman\").iloc[0,1]\n",
    "print(f\"Spearman \\u03C1 = {spearman:.3f}\")   "
   ]
  },
  {
   "cell_type": "code",
   "execution_count": 282,
   "id": "1044900c-d365-47d3-b3ee-a97ae4ae9004",
   "metadata": {},
   "outputs": [],
   "source": [
    "# Spearman’s ρ = 0.053 indicates that books with more ratings don’t necessarily have higher average ratings."
   ]
  },
  {
   "cell_type": "code",
   "execution_count": 283,
   "id": "8114c521-a934-4973-8145-ba7dfd1303b0",
   "metadata": {},
   "outputs": [
    {
     "data": {
      "image/png": "[encoded data removed]",
      "text/plain": [
       "<Figure size 800x600 with 1 Axes>"
      ]
     },
     "metadata": {},
     "output_type": "display_data"
    }
   ],
   "source": [
    "df = rated.loc[rated[\"num_rating\"] > 0, [\"num_rating\",\"mean_rating\"]].copy()\n",
    "df[\"log_n\"] = np.log10(df[\"num_rating\"])\n",
    "plt.figure(figsize=(8,6))\n",
    "sb.kdeplot(data=df, x=\"log_n\", y=\"mean_rating\", fill=True)\n",
    "plt.xlabel(\"Number of ratings (log)\")\n",
    "plt.title(\"Popularity vs. Quality\")\n",
    "plt.show()\n"
   ]
  },
  {
   "cell_type": "code",
   "execution_count": 284,
   "id": "adec30f1-a242-4dd2-bad5-c8f2301cdd0c",
   "metadata": {},
   "outputs": [],
   "source": [
    "# The plot shows that most books rates spread around an average rating 7-8 across all popularity levels.\n",
    "# There is no clear trend- more ratings do not systematically lead to higher averages, consistent with Spearman ρ≈0.053\n",
    "# As the number of ratings grows, the spread narrows,meaning  very high or very low averages occur mainly when there are few ratings"
   ]
  },
  {
   "cell_type": "markdown",
   "id": "595b3ac4-0076-4e84-b6f7-b8f9c446d310",
   "metadata": {},
   "source": [
    "# Conclusions and recommendations"
   ]
  },
  {
   "cell_type": "markdown",
   "id": "5109fabd-79dd-402e-9f25-772f5f3704b9",
   "metadata": {},
   "source": [
    "## The main findings from my dataset research"
   ]
  },
  {
   "cell_type": "code",
   "execution_count": 285,
   "id": "cc285d70-670e-4036-b420-3bcb534be65c",
   "metadata": {},
   "outputs": [],
   "source": [
    "# The dataset consists of 881,240 rows with complete data\n",
    "\n",
    "# Details about books:\n",
    "    # In total, there are 211,975 unique books identified by ISBN.\n",
    "    # All books were published between 1988 and 2004 (inclusive) by 13,612 publishers.\n",
    "    # The most highly represented publisher is \"Ballantine Books\".\n",
    "    # Books in the dataset are categorized into  9,077  genres according to Open Labrary Catalog, which I used  for complementary information.\n",
    "    # The most frequently rated book (number of ratings = 710) is \"The Lovely Bones: A Novel\"\n",
    "   \n",
    "# Details about ratings:\n",
    "    # Ratings are provided on a 0–10 scale.\n",
    "    # 121,592 books had been rated at least once of total 211,975 (~57%).\n",
    "    # The average book rating is about 8\n",
    "\n",
    "# Details about users:\n",
    "    # The dataset includes information on 84,617 users aged between 12 and 118.\n",
    "    # For research purposes users were divided into age group categories.\n",
    "    # Most of the users (~71%) are included in age group \"Adults\" - from age 25 to 45.\n",
    "    # About 74% (62,513 users) actively rated at least one book.\n",
    "    # Users registered from 48 countries, with about 79% (261,020), **coming from** North America, mostly the USA."
   ]
  },
  {
   "cell_type": "markdown",
   "id": "ca06f153-5a64-429f-b3bf-f17df4034e58",
   "metadata": {},
   "source": [
    "## Business conclusion - answers  to Research Questions"
   ]
  },
  {
   "cell_type": "code",
   "execution_count": 286,
   "id": "55519626-0ba9-4b6e-936d-b0cccccbb7de",
   "metadata": {},
   "outputs": [],
   "source": [
    "# Descriptive statistics: Highest-rated books by publication year, highest-rated genres by year, and highest-rated publishers by year.\n",
    "    # The highest-rated book by publication year in the dataset is \"Harry Potter and the Chamber of Secrets\" (2002).\n",
    "    # The highest-rated genre by publication year is Fiction.\n",
    "    # The highest-rated publisher by publication year is \"Ballantine Books.\" Two other highly successful publishers are \"Berkley Publishing Group\" and \"Pocket.\"\n"
   ]
  },
  {
   "cell_type": "code",
   "execution_count": 287,
   "id": "75b80095-82d4-4426-8f46-65701d94ae1e",
   "metadata": {},
   "outputs": [],
   "source": [
    "# Associations: Is there a correlation between age and rating or country and rating\n",
    "    # No significant correlation was found between age/country and rating activity. This means that within each age category, the distribution of ratings was represented evenly.\n",
    "    # However, it seems that, in general, Adults and Older Adults tend to rate more books per user.\n",
    "    # Users in North America appear to be the most active raters, followed by Europe.\n"
   ]
  },
  {
   "cell_type": "code",
   "execution_count": 288,
   "id": "49fc6748-aaf0-4d9a-8966-62e9e6239890",
   "metadata": {},
   "outputs": [],
   "source": [
    "# Which genres are rated highest within each age group\n",
    "    \n",
    "    #  Teenagers rate “Detective and mystery stories” and “Private investigators” the highest among all age groups (AVG 9.1 and 8.7, respectively).\n",
    "    #  Olders (75+) tend to like “Fiction, romance, general”, “Literature”, and “Murder” lower (AVG 6.0, 5.0, 6.0).\n",
    "    #  “Detective and Mystery Stories” and “Private investigators” are broadly liked across age groups (typically above 7.5), eenagers rating them the highest.\n",
    "    # “Social Life and Customs” is actually highest for Olders ( avg 8.2), not Adults."
   ]
  },
  {
   "cell_type": "code",
   "execution_count": 289,
   "id": "fe2db4cb-52a6-4bf1-a4c2-fc8f5166793f",
   "metadata": {},
   "outputs": [],
   "source": [
    "# Which genres are rated highest in different geographic regions\n",
    "    # North Americans preffer \"Fantasy Fiction\"\n",
    "    # Europeans prefer \"England, Fiction\" as a genre as well as Australians and South Americans.\n",
    "    # \"Fantasy Fiction\" is also the highest-rated genre among  Asian and African users."
   ]
  },
  {
   "cell_type": "code",
   "execution_count": 290,
   "id": "7c1a2997-ed49-48ab-a69d-e0047636adf2",
   "metadata": {},
   "outputs": [],
   "source": [
    "# Popularity vs. quality: How does average rating relate to number of ratings per book\n",
    "    # Most book ratings cluster around an average of 7–8 across all popularity levels.\n",
    "    # There is no clear trend- more ratings do not systematically lead to higher averages, consistent with Spearman ρ≈0.053\n",
    "   "
   ]
  },
  {
   "cell_type": "markdown",
   "id": "1481137b-d830-4ddb-b5c6-c178e916fbce",
   "metadata": {},
   "source": [
    "## Recommendations\n"
   ]
  },
  {
   "cell_type": "code",
   "execution_count": 291,
   "id": "04565dfe-6a59-40ec-8c65-d8cb31ce5089",
   "metadata": {},
   "outputs": [],
   "source": [
    "## My recommendation for advertisers/ investors:\n",
    "        # Invest in “Detective and Mystery Stories” and “Private Investigators,” as these genres are broadly liked across age groups.\n",
    "        # If they want to target older readers I would recommend “Social Life and Customs” genre.\n",
    "        # Users around the world tend to rate books from the “Fantasy Fiction” genre the highest.\n",
    "        # Work with successful and consistently high-performing publishers as \"Ballantine Books\", \"Berkley Publishing Group\", \"Pocket\".\n",
    "        # Adults & OlderAdults (age 25-75 )are more frequent raters then other groups; however, the difference is not significant., however no significant difference\n",
    "        #The most active users in book rating are from North America, followed by Europe.\n",
    "        "
   ]
  },
  {
   "cell_type": "code",
   "execution_count": null,
   "id": "a9495b2b-7e9e-408c-b1db-21b62a70cfa9",
   "metadata": {},
   "outputs": [],
   "source": []
  }
 ],
 "metadata": {
  "kernelspec": {
   "display_name": "Python 3 (ipykernel)",
   "language": "python",
   "name": "python3"
  },
  "language_info": {
   "codemirror_mode": {
    "name": "ipython",
    "version": 3
   },
   "file_extension": ".py",
   "mimetype": "text/x-python",
   "name": "python",
   "nbconvert_exporter": "python",
   "pygments_lexer": "ipython3",
   "version": "3.13.3"
  }
 },
 "nbformat": 4,
 "nbformat_minor": 5
}
